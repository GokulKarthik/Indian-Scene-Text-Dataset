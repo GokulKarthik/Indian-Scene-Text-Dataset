{
 "cells": [
  {
   "cell_type": "code",
   "execution_count": 1,
   "metadata": {},
   "outputs": [
    {
     "name": "stderr",
     "output_type": "stream",
     "text": [
      "/home/gokulkarthik/.local/lib/python3.8/site-packages/tqdm/std.py:668: FutureWarning: The Panel class is removed from pandas. Accessing it from the top-level namespace will also be removed in the next version\n",
      "  from pandas import Panel\n"
     ]
    }
   ],
   "source": [
    "import os\n",
    "import shutil\n",
    "\n",
    "import numpy as np\n",
    "from tqdm.notebook import tqdm\n",
    "import cv2\n",
    "from PIL import Image\n",
    "\n",
    "tqdm.pandas()"
   ]
  },
  {
   "cell_type": "markdown",
   "metadata": {},
   "source": [
    "Data Source: https://www.robots.ox.ac.uk/~vgg/data/text/"
   ]
  },
  {
   "cell_type": "code",
   "execution_count": 2,
   "metadata": {},
   "outputs": [],
   "source": [
    "data_dir = 'Data/mjsynth/mnt/ramdisk/max/90kDICT32px'"
   ]
  },
  {
   "cell_type": "code",
   "execution_count": 3,
   "metadata": {},
   "outputs": [
    {
     "data": {
      "application/vnd.jupyter.widget-view+json": {
       "model_id": "93496818313f43a6b6ac7a2aa0946674",
       "version_major": 2,
       "version_minor": 0
      },
      "text/plain": [
       "HBox(children=(FloatProgress(value=0.0, max=3006.0), HTML(value='')))"
      ]
     },
     "metadata": {},
     "output_type": "display_data"
    },
    {
     "name": "stdout",
     "output_type": "stream",
     "text": [
      "\n"
     ]
    }
   ],
   "source": [
    "file_paths = []\n",
    "file_names_overall = []\n",
    "for (dir_path, dir_names, file_names) in tqdm(os.walk(data_dir), total=3006):\n",
    "    for file_name in file_names:\n",
    "        if file_name[-3:] == 'jpg' and file_name not in file_names_overall:\n",
    "            file_path = os.path.join(dir_path, file_name)\n",
    "            file_paths.append(file_path)\n",
    "            file_names_overall.append(file_name)\n",
    "np.random.shuffle(file_paths)"
   ]
  },
  {
   "cell_type": "code",
   "execution_count": 4,
   "metadata": {},
   "outputs": [
    {
     "name": "stdout",
     "output_type": "stream",
     "text": [
      "724671\n",
      "['Data/mjsynth/mnt/ramdisk/max/90kDICT32px/2896/2/115_Feuds_28679.jpg', 'Data/mjsynth/mnt/ramdisk/max/90kDICT32px/2913/7/153_Hoofs_36751.jpg', 'Data/mjsynth/mnt/ramdisk/max/90kDICT32px/2991/6/395_Trappers_80376.jpg', 'Data/mjsynth/mnt/ramdisk/max/90kDICT32px/2777/3/489_IROQUOIS_40815.jpg', 'Data/mjsynth/mnt/ramdisk/max/90kDICT32px/2968/2/464_Clamored_13877.jpg', 'Data/mjsynth/mnt/ramdisk/max/90kDICT32px/2912/2/152_Greener_33624.jpg', 'Data/mjsynth/mnt/ramdisk/max/90kDICT32px/2804/1/107_IMPECUNIOUSNESS_38230.jpg', 'Data/mjsynth/mnt/ramdisk/max/90kDICT32px/2922/2/371_HYMNBOOKS_37585.jpg', 'Data/mjsynth/mnt/ramdisk/max/90kDICT32px/2836/1/314_WISHES_86886.jpg', 'Data/mjsynth/mnt/ramdisk/max/90kDICT32px/2889/3/485_INFUSED_39454.jpg']\n"
     ]
    }
   ],
   "source": [
    "print(len(file_paths))\n",
    "print(file_paths[:10])"
   ]
  },
  {
   "cell_type": "code",
   "execution_count": 5,
   "metadata": {},
   "outputs": [],
   "source": [
    "file_paths_train = file_paths[:600000]\n",
    "file_paths_val = file_paths[600000: 610000]\n",
    "file_paths_test = file_paths[610000:620000]"
   ]
  },
  {
   "cell_type": "code",
   "execution_count": 6,
   "metadata": {},
   "outputs": [
    {
     "data": {
      "application/vnd.jupyter.widget-view+json": {
       "model_id": "58f0e38332d3491eab637a0c921d5644",
       "version_major": 2,
       "version_minor": 0
      },
      "text/plain": [
       "HBox(children=(FloatProgress(value=0.0, max=10000.0), HTML(value='')))"
      ]
     },
     "metadata": {},
     "output_type": "display_data"
    },
    {
     "data": {
      "application/vnd.jupyter.widget-view+json": {
       "model_id": "7dd00c1cab9b4254bc814f56b4bdd95b",
       "version_major": 2,
       "version_minor": 0
      },
      "text/plain": [
       "HBox(children=(FloatProgress(value=0.0, max=10000.0), HTML(value='')))"
      ]
     },
     "metadata": {},
     "output_type": "display_data"
    },
    {
     "data": {
      "application/vnd.jupyter.widget-view+json": {
       "model_id": "2a2d9417a392463a83931b0fad8c9319",
       "version_major": 2,
       "version_minor": 0
      },
      "text/plain": [
       "HBox(children=(FloatProgress(value=0.0, max=600000.0), HTML(value='')))"
      ]
     },
     "metadata": {},
     "output_type": "display_data"
    }
   ],
   "source": [
    "for split in ['Val', 'Test', 'Train']:\n",
    "    if split == 'Train':\n",
    "        file_paths = file_paths_train\n",
    "    elif split == 'Val':\n",
    "        file_paths = file_paths_val\n",
    "    elif split == 'Test':\n",
    "        file_paths = file_paths_test\n",
    "        \n",
    "    dest_dir = f'Data/English/{split}'\n",
    "    os.makedirs(dest_dir)\n",
    "    \n",
    "    cnt = 0\n",
    "    for file_path in tqdm(file_paths, leave=False):\n",
    "        file_name = file_path.split('/')[-1]\n",
    "        file_name_new = f'{file_name.split(\"_\")[1]}_{file_name.split(\"_\")[0]}_{file_name.split(\"_\")[2]}'\n",
    "        file_path_new = os.path.join(dest_dir, file_name_new)\n",
    "        image = cv2.imread(file_path)\n",
    "        try:\n",
    "            image = cv2.resize(image, (200, 50))\n",
    "        except:\n",
    "            continue\n",
    "            \n",
    "        cv2.imwrite(file_path_new, image)\n",
    "        cnt += 1\n",
    "        if split == 'Train':\n",
    "            if cnt == 500000:\n",
    "                break\n",
    "        elif cnt == 5000:\n",
    "            break"
   ]
  },
  {
   "cell_type": "code",
   "execution_count": null,
   "metadata": {},
   "outputs": [],
   "source": []
  }
 ],
 "metadata": {
  "kernelspec": {
   "display_name": "Python 3",
   "language": "python",
   "name": "python3"
  },
  "language_info": {
   "codemirror_mode": {
    "name": "ipython",
    "version": 3
   },
   "file_extension": ".py",
   "mimetype": "text/x-python",
   "name": "python",
   "nbconvert_exporter": "python",
   "pygments_lexer": "ipython3",
   "version": "3.8.2"
  }
 },
 "nbformat": 4,
 "nbformat_minor": 4
}
