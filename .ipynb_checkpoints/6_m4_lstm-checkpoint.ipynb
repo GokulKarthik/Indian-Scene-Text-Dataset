{
 "cells": [
  {
   "cell_type": "code",
   "execution_count": 1,
   "metadata": {},
   "outputs": [],
   "source": [
    "import os\n",
    "import time\n",
    "import pandas as pd\n",
    "import numpy as np\n",
    "from tqdm.notebook import tqdm\n",
    "from datetime import timedelta\n",
    "import warnings\n",
    "from sklearn.model_selection import train_test_split\n",
    "from sklearn.metrics import mean_squared_error, mean_absolute_error\n",
    "from sklearn.preprocessing import MinMaxScaler, StandardScaler, OneHotEncoder\n",
    "import pickle\n",
    "import torch\n",
    "import torch.nn as nn\n",
    "import torch.nn.functional as F\n",
    "from torch.utils.data import Dataset, DataLoader\n",
    "from torch.optim.lr_scheduler import StepLR\n",
    "import matplotlib.pyplot as plt"
   ]
  },
  {
   "cell_type": "code",
   "execution_count": 2,
   "metadata": {},
   "outputs": [],
   "source": [
    "DATA_ID = \"old\" # [\"old, \"new]\n",
    "DATA_FOLDER = \"data\"\n",
    "FORMATTED_DATA_FOLDER = \"data/m4\"\n",
    "MODELS_FOLDER = \"models/m4\"\n",
    "RESULTS_FOLDER = \"results/m4\""
   ]
  },
  {
   "cell_type": "code",
   "execution_count": 3,
   "metadata": {},
   "outputs": [],
   "source": [
    "data_path = os.path.join(DATA_FOLDER, 'data_clipped_{}.csv'.format(DATA_ID))"
   ]
  },
  {
   "cell_type": "markdown",
   "metadata": {},
   "source": [
    "# 2.1 Format data"
   ]
  },
  {
   "cell_type": "code",
   "execution_count": 4,
   "metadata": {},
   "outputs": [
    {
     "data": {
      "text/html": [
       "<div>\n",
       "<style scoped>\n",
       "    .dataframe tbody tr th:only-of-type {\n",
       "        vertical-align: middle;\n",
       "    }\n",
       "\n",
       "    .dataframe tbody tr th {\n",
       "        vertical-align: top;\n",
       "    }\n",
       "\n",
       "    .dataframe thead th {\n",
       "        text-align: right;\n",
       "    }\n",
       "</style>\n",
       "<table border=\"1\" class=\"dataframe\">\n",
       "  <thead>\n",
       "    <tr style=\"text-align: right;\">\n",
       "      <th></th>\n",
       "      <th>start_date</th>\n",
       "      <th>unk_1</th>\n",
       "      <th>unk_2</th>\n",
       "      <th>start_time</th>\n",
       "      <th>unk_3</th>\n",
       "      <th>seg_1_tt</th>\n",
       "      <th>seg_2_tt</th>\n",
       "      <th>seg_3_tt</th>\n",
       "      <th>seg_4_tt</th>\n",
       "      <th>seg_5_tt</th>\n",
       "      <th>...</th>\n",
       "      <th>seg_61_tt</th>\n",
       "      <th>seg_62_tt</th>\n",
       "      <th>seg_63_tt</th>\n",
       "      <th>seg_64_tt</th>\n",
       "      <th>seg_65_tt</th>\n",
       "      <th>seg_66_tt</th>\n",
       "      <th>seg_67_tt</th>\n",
       "      <th>seg_68_tt</th>\n",
       "      <th>seg_69_tt</th>\n",
       "      <th>seg_70_tt</th>\n",
       "    </tr>\n",
       "  </thead>\n",
       "  <tbody>\n",
       "    <tr>\n",
       "      <th>0</th>\n",
       "      <td>17 Oct 13</td>\n",
       "      <td>5</td>\n",
       "      <td>1</td>\n",
       "      <td>06:37</td>\n",
       "      <td>23820</td>\n",
       "      <td>93.291102</td>\n",
       "      <td>48.796429</td>\n",
       "      <td>31.147407</td>\n",
       "      <td>35.396714</td>\n",
       "      <td>51.946951</td>\n",
       "      <td>...</td>\n",
       "      <td>31.256586</td>\n",
       "      <td>46.030551</td>\n",
       "      <td>24.963714</td>\n",
       "      <td>45.802187</td>\n",
       "      <td>36.418913</td>\n",
       "      <td>33.898517</td>\n",
       "      <td>51.931866</td>\n",
       "      <td>27.908408</td>\n",
       "      <td>26.929506</td>\n",
       "      <td>28.585920</td>\n",
       "    </tr>\n",
       "    <tr>\n",
       "      <th>1</th>\n",
       "      <td>17 Oct 13</td>\n",
       "      <td>5</td>\n",
       "      <td>2</td>\n",
       "      <td>06:41</td>\n",
       "      <td>24060</td>\n",
       "      <td>77.459934</td>\n",
       "      <td>34.206502</td>\n",
       "      <td>27.367813</td>\n",
       "      <td>48.781247</td>\n",
       "      <td>27.910583</td>\n",
       "      <td>...</td>\n",
       "      <td>28.955313</td>\n",
       "      <td>25.037628</td>\n",
       "      <td>25.996097</td>\n",
       "      <td>29.979092</td>\n",
       "      <td>53.837388</td>\n",
       "      <td>33.337131</td>\n",
       "      <td>65.811332</td>\n",
       "      <td>32.807199</td>\n",
       "      <td>26.043499</td>\n",
       "      <td>26.262135</td>\n",
       "    </tr>\n",
       "    <tr>\n",
       "      <th>2</th>\n",
       "      <td>17 Oct 13</td>\n",
       "      <td>5</td>\n",
       "      <td>3</td>\n",
       "      <td>06:45</td>\n",
       "      <td>24300</td>\n",
       "      <td>111.612683</td>\n",
       "      <td>50.058568</td>\n",
       "      <td>26.254014</td>\n",
       "      <td>43.197185</td>\n",
       "      <td>31.863465</td>\n",
       "      <td>...</td>\n",
       "      <td>31.179866</td>\n",
       "      <td>50.698679</td>\n",
       "      <td>27.289517</td>\n",
       "      <td>35.440583</td>\n",
       "      <td>65.367957</td>\n",
       "      <td>51.976355</td>\n",
       "      <td>55.305868</td>\n",
       "      <td>33.450011</td>\n",
       "      <td>26.378272</td>\n",
       "      <td>29.408675</td>\n",
       "    </tr>\n",
       "    <tr>\n",
       "      <th>3</th>\n",
       "      <td>17 Oct 13</td>\n",
       "      <td>5</td>\n",
       "      <td>4</td>\n",
       "      <td>06:51</td>\n",
       "      <td>24660</td>\n",
       "      <td>105.968728</td>\n",
       "      <td>42.651004</td>\n",
       "      <td>28.581162</td>\n",
       "      <td>53.880848</td>\n",
       "      <td>49.751887</td>\n",
       "      <td>...</td>\n",
       "      <td>36.275757</td>\n",
       "      <td>52.811243</td>\n",
       "      <td>28.964246</td>\n",
       "      <td>41.711271</td>\n",
       "      <td>62.618733</td>\n",
       "      <td>51.508315</td>\n",
       "      <td>59.202902</td>\n",
       "      <td>35.263953</td>\n",
       "      <td>34.049163</td>\n",
       "      <td>34.538472</td>\n",
       "    </tr>\n",
       "    <tr>\n",
       "      <th>4</th>\n",
       "      <td>17 Oct 13</td>\n",
       "      <td>5</td>\n",
       "      <td>5</td>\n",
       "      <td>07:29</td>\n",
       "      <td>26940</td>\n",
       "      <td>157.486699</td>\n",
       "      <td>42.069231</td>\n",
       "      <td>28.509508</td>\n",
       "      <td>57.046732</td>\n",
       "      <td>46.804249</td>\n",
       "      <td>...</td>\n",
       "      <td>28.730295</td>\n",
       "      <td>53.968546</td>\n",
       "      <td>28.480932</td>\n",
       "      <td>29.252431</td>\n",
       "      <td>61.822395</td>\n",
       "      <td>50.218200</td>\n",
       "      <td>61.077986</td>\n",
       "      <td>35.505414</td>\n",
       "      <td>28.887981</td>\n",
       "      <td>26.615706</td>\n",
       "    </tr>\n",
       "  </tbody>\n",
       "</table>\n",
       "<p>5 rows × 75 columns</p>\n",
       "</div>"
      ],
      "text/plain": [
       "  start_date  unk_1  unk_2 start_time  unk_3    seg_1_tt   seg_2_tt  \\\n",
       "0  17 Oct 13      5      1      06:37  23820   93.291102  48.796429   \n",
       "1  17 Oct 13      5      2      06:41  24060   77.459934  34.206502   \n",
       "2  17 Oct 13      5      3      06:45  24300  111.612683  50.058568   \n",
       "3  17 Oct 13      5      4      06:51  24660  105.968728  42.651004   \n",
       "4  17 Oct 13      5      5      07:29  26940  157.486699  42.069231   \n",
       "\n",
       "    seg_3_tt   seg_4_tt   seg_5_tt  ...  seg_61_tt  seg_62_tt  seg_63_tt  \\\n",
       "0  31.147407  35.396714  51.946951  ...  31.256586  46.030551  24.963714   \n",
       "1  27.367813  48.781247  27.910583  ...  28.955313  25.037628  25.996097   \n",
       "2  26.254014  43.197185  31.863465  ...  31.179866  50.698679  27.289517   \n",
       "3  28.581162  53.880848  49.751887  ...  36.275757  52.811243  28.964246   \n",
       "4  28.509508  57.046732  46.804249  ...  28.730295  53.968546  28.480932   \n",
       "\n",
       "   seg_64_tt  seg_65_tt  seg_66_tt  seg_67_tt  seg_68_tt  seg_69_tt  seg_70_tt  \n",
       "0  45.802187  36.418913  33.898517  51.931866  27.908408  26.929506  28.585920  \n",
       "1  29.979092  53.837388  33.337131  65.811332  32.807199  26.043499  26.262135  \n",
       "2  35.440583  65.367957  51.976355  55.305868  33.450011  26.378272  29.408675  \n",
       "3  41.711271  62.618733  51.508315  59.202902  35.263953  34.049163  34.538472  \n",
       "4  29.252431  61.822395  50.218200  61.077986  35.505414  28.887981  26.615706  \n",
       "\n",
       "[5 rows x 75 columns]"
      ]
     },
     "execution_count": 4,
     "metadata": {},
     "output_type": "execute_result"
    }
   ],
   "source": [
    "column_names = ['start_date', 'unk_1', 'unk_2', 'start_time', 'unk_3'] + [\"seg_{}_tt\".format(i) for i in range(1, 71)]\n",
    "data = pd.read_csv(data_path, header=None, names=column_names)\n",
    "data.head()"
   ]
  },
  {
   "cell_type": "code",
   "execution_count": 5,
   "metadata": {},
   "outputs": [
    {
     "data": {
      "text/plain": [
       "(1231, 75)"
      ]
     },
     "execution_count": 5,
     "metadata": {},
     "output_type": "execute_result"
    }
   ],
   "source": [
    "data.shape"
   ]
  },
  {
   "cell_type": "code",
   "execution_count": 6,
   "metadata": {},
   "outputs": [
    {
     "data": {
      "text/html": [
       "<div>\n",
       "<style scoped>\n",
       "    .dataframe tbody tr th:only-of-type {\n",
       "        vertical-align: middle;\n",
       "    }\n",
       "\n",
       "    .dataframe tbody tr th {\n",
       "        vertical-align: top;\n",
       "    }\n",
       "\n",
       "    .dataframe thead th {\n",
       "        text-align: right;\n",
       "    }\n",
       "</style>\n",
       "<table border=\"1\" class=\"dataframe\">\n",
       "  <thead>\n",
       "    <tr style=\"text-align: right;\">\n",
       "      <th></th>\n",
       "      <th>start_date</th>\n",
       "      <th>unk_1</th>\n",
       "      <th>unk_2</th>\n",
       "      <th>start_time</th>\n",
       "      <th>unk_3</th>\n",
       "      <th>seg_1_tt</th>\n",
       "      <th>seg_2_tt</th>\n",
       "      <th>seg_3_tt</th>\n",
       "      <th>seg_4_tt</th>\n",
       "      <th>seg_5_tt</th>\n",
       "      <th>...</th>\n",
       "      <th>seg_62_tt</th>\n",
       "      <th>seg_63_tt</th>\n",
       "      <th>seg_64_tt</th>\n",
       "      <th>seg_65_tt</th>\n",
       "      <th>seg_66_tt</th>\n",
       "      <th>seg_67_tt</th>\n",
       "      <th>seg_68_tt</th>\n",
       "      <th>seg_69_tt</th>\n",
       "      <th>seg_70_tt</th>\n",
       "      <th>start_datetime</th>\n",
       "    </tr>\n",
       "  </thead>\n",
       "  <tbody>\n",
       "    <tr>\n",
       "      <th>0</th>\n",
       "      <td>17 Oct 13</td>\n",
       "      <td>5</td>\n",
       "      <td>1</td>\n",
       "      <td>06:37</td>\n",
       "      <td>23820</td>\n",
       "      <td>93.291102</td>\n",
       "      <td>48.796429</td>\n",
       "      <td>31.147407</td>\n",
       "      <td>35.396714</td>\n",
       "      <td>51.946951</td>\n",
       "      <td>...</td>\n",
       "      <td>46.030551</td>\n",
       "      <td>24.963714</td>\n",
       "      <td>45.802187</td>\n",
       "      <td>36.418913</td>\n",
       "      <td>33.898517</td>\n",
       "      <td>51.931866</td>\n",
       "      <td>27.908408</td>\n",
       "      <td>26.929506</td>\n",
       "      <td>28.585920</td>\n",
       "      <td>17 Oct 13 06:37</td>\n",
       "    </tr>\n",
       "    <tr>\n",
       "      <th>1</th>\n",
       "      <td>17 Oct 13</td>\n",
       "      <td>5</td>\n",
       "      <td>2</td>\n",
       "      <td>06:41</td>\n",
       "      <td>24060</td>\n",
       "      <td>77.459934</td>\n",
       "      <td>34.206502</td>\n",
       "      <td>27.367813</td>\n",
       "      <td>48.781247</td>\n",
       "      <td>27.910583</td>\n",
       "      <td>...</td>\n",
       "      <td>25.037628</td>\n",
       "      <td>25.996097</td>\n",
       "      <td>29.979092</td>\n",
       "      <td>53.837388</td>\n",
       "      <td>33.337131</td>\n",
       "      <td>65.811332</td>\n",
       "      <td>32.807199</td>\n",
       "      <td>26.043499</td>\n",
       "      <td>26.262135</td>\n",
       "      <td>17 Oct 13 06:41</td>\n",
       "    </tr>\n",
       "    <tr>\n",
       "      <th>2</th>\n",
       "      <td>17 Oct 13</td>\n",
       "      <td>5</td>\n",
       "      <td>3</td>\n",
       "      <td>06:45</td>\n",
       "      <td>24300</td>\n",
       "      <td>111.612683</td>\n",
       "      <td>50.058568</td>\n",
       "      <td>26.254014</td>\n",
       "      <td>43.197185</td>\n",
       "      <td>31.863465</td>\n",
       "      <td>...</td>\n",
       "      <td>50.698679</td>\n",
       "      <td>27.289517</td>\n",
       "      <td>35.440583</td>\n",
       "      <td>65.367957</td>\n",
       "      <td>51.976355</td>\n",
       "      <td>55.305868</td>\n",
       "      <td>33.450011</td>\n",
       "      <td>26.378272</td>\n",
       "      <td>29.408675</td>\n",
       "      <td>17 Oct 13 06:45</td>\n",
       "    </tr>\n",
       "    <tr>\n",
       "      <th>3</th>\n",
       "      <td>17 Oct 13</td>\n",
       "      <td>5</td>\n",
       "      <td>4</td>\n",
       "      <td>06:51</td>\n",
       "      <td>24660</td>\n",
       "      <td>105.968728</td>\n",
       "      <td>42.651004</td>\n",
       "      <td>28.581162</td>\n",
       "      <td>53.880848</td>\n",
       "      <td>49.751887</td>\n",
       "      <td>...</td>\n",
       "      <td>52.811243</td>\n",
       "      <td>28.964246</td>\n",
       "      <td>41.711271</td>\n",
       "      <td>62.618733</td>\n",
       "      <td>51.508315</td>\n",
       "      <td>59.202902</td>\n",
       "      <td>35.263953</td>\n",
       "      <td>34.049163</td>\n",
       "      <td>34.538472</td>\n",
       "      <td>17 Oct 13 06:51</td>\n",
       "    </tr>\n",
       "    <tr>\n",
       "      <th>4</th>\n",
       "      <td>17 Oct 13</td>\n",
       "      <td>5</td>\n",
       "      <td>5</td>\n",
       "      <td>07:29</td>\n",
       "      <td>26940</td>\n",
       "      <td>157.486699</td>\n",
       "      <td>42.069231</td>\n",
       "      <td>28.509508</td>\n",
       "      <td>57.046732</td>\n",
       "      <td>46.804249</td>\n",
       "      <td>...</td>\n",
       "      <td>53.968546</td>\n",
       "      <td>28.480932</td>\n",
       "      <td>29.252431</td>\n",
       "      <td>61.822395</td>\n",
       "      <td>50.218200</td>\n",
       "      <td>61.077986</td>\n",
       "      <td>35.505414</td>\n",
       "      <td>28.887981</td>\n",
       "      <td>26.615706</td>\n",
       "      <td>17 Oct 13 07:29</td>\n",
       "    </tr>\n",
       "  </tbody>\n",
       "</table>\n",
       "<p>5 rows × 76 columns</p>\n",
       "</div>"
      ],
      "text/plain": [
       "  start_date  unk_1  unk_2 start_time  unk_3    seg_1_tt   seg_2_tt  \\\n",
       "0  17 Oct 13      5      1      06:37  23820   93.291102  48.796429   \n",
       "1  17 Oct 13      5      2      06:41  24060   77.459934  34.206502   \n",
       "2  17 Oct 13      5      3      06:45  24300  111.612683  50.058568   \n",
       "3  17 Oct 13      5      4      06:51  24660  105.968728  42.651004   \n",
       "4  17 Oct 13      5      5      07:29  26940  157.486699  42.069231   \n",
       "\n",
       "    seg_3_tt   seg_4_tt   seg_5_tt  ...  seg_62_tt  seg_63_tt  seg_64_tt  \\\n",
       "0  31.147407  35.396714  51.946951  ...  46.030551  24.963714  45.802187   \n",
       "1  27.367813  48.781247  27.910583  ...  25.037628  25.996097  29.979092   \n",
       "2  26.254014  43.197185  31.863465  ...  50.698679  27.289517  35.440583   \n",
       "3  28.581162  53.880848  49.751887  ...  52.811243  28.964246  41.711271   \n",
       "4  28.509508  57.046732  46.804249  ...  53.968546  28.480932  29.252431   \n",
       "\n",
       "   seg_65_tt  seg_66_tt  seg_67_tt  seg_68_tt  seg_69_tt  seg_70_tt  \\\n",
       "0  36.418913  33.898517  51.931866  27.908408  26.929506  28.585920   \n",
       "1  53.837388  33.337131  65.811332  32.807199  26.043499  26.262135   \n",
       "2  65.367957  51.976355  55.305868  33.450011  26.378272  29.408675   \n",
       "3  62.618733  51.508315  59.202902  35.263953  34.049163  34.538472   \n",
       "4  61.822395  50.218200  61.077986  35.505414  28.887981  26.615706   \n",
       "\n",
       "    start_datetime  \n",
       "0  17 Oct 13 06:37  \n",
       "1  17 Oct 13 06:41  \n",
       "2  17 Oct 13 06:45  \n",
       "3  17 Oct 13 06:51  \n",
       "4  17 Oct 13 07:29  \n",
       "\n",
       "[5 rows x 76 columns]"
      ]
     },
     "execution_count": 6,
     "metadata": {},
     "output_type": "execute_result"
    }
   ],
   "source": [
    "data['start_datetime']  = data['start_date'] + \" \" + data['start_time']\n",
    "data.head()"
   ]
  },
  {
   "cell_type": "code",
   "execution_count": 7,
   "metadata": {},
   "outputs": [],
   "source": [
    "if DATA_ID == 'old':\n",
    "    date_format = \"%d %b %y\"\n",
    "    time_format = \"%H:%M\"\n",
    "elif DATA_ID == \"new\":\n",
    "    date_format = \"%d/%m/%Y\"\n",
    "    time_format = \"%H:%M:%S\"\n",
    "datetime_format = date_format + \" \" + time_format\n",
    "data['start_date'] = pd.to_datetime(data['start_date'], format=date_format).dt.date\n",
    "data['start_time'] = pd.to_datetime(data['start_time'], format=time_format).dt.time\n",
    "data['start_datetime'] = pd.to_datetime(data['start_datetime'], format=datetime_format)"
   ]
  },
  {
   "cell_type": "code",
   "execution_count": 8,
   "metadata": {},
   "outputs": [
    {
     "data": {
      "text/html": [
       "<div>\n",
       "<style scoped>\n",
       "    .dataframe tbody tr th:only-of-type {\n",
       "        vertical-align: middle;\n",
       "    }\n",
       "\n",
       "    .dataframe tbody tr th {\n",
       "        vertical-align: top;\n",
       "    }\n",
       "\n",
       "    .dataframe thead th {\n",
       "        text-align: right;\n",
       "    }\n",
       "</style>\n",
       "<table border=\"1\" class=\"dataframe\">\n",
       "  <thead>\n",
       "    <tr style=\"text-align: right;\">\n",
       "      <th></th>\n",
       "      <th>start_date</th>\n",
       "      <th>unk_1</th>\n",
       "      <th>unk_2</th>\n",
       "      <th>start_time</th>\n",
       "      <th>unk_3</th>\n",
       "      <th>seg_1_tt</th>\n",
       "      <th>seg_2_tt</th>\n",
       "      <th>seg_3_tt</th>\n",
       "      <th>seg_4_tt</th>\n",
       "      <th>seg_5_tt</th>\n",
       "      <th>...</th>\n",
       "      <th>seg_62_tt</th>\n",
       "      <th>seg_63_tt</th>\n",
       "      <th>seg_64_tt</th>\n",
       "      <th>seg_65_tt</th>\n",
       "      <th>seg_66_tt</th>\n",
       "      <th>seg_67_tt</th>\n",
       "      <th>seg_68_tt</th>\n",
       "      <th>seg_69_tt</th>\n",
       "      <th>seg_70_tt</th>\n",
       "      <th>start_datetime</th>\n",
       "    </tr>\n",
       "  </thead>\n",
       "  <tbody>\n",
       "    <tr>\n",
       "      <th>0</th>\n",
       "      <td>2013-09-14</td>\n",
       "      <td>7</td>\n",
       "      <td>1</td>\n",
       "      <td>04:58:00</td>\n",
       "      <td>17880</td>\n",
       "      <td>77.727986</td>\n",
       "      <td>46.919043</td>\n",
       "      <td>44.230243</td>\n",
       "      <td>55.867210</td>\n",
       "      <td>51.704259</td>\n",
       "      <td>...</td>\n",
       "      <td>51.353006</td>\n",
       "      <td>65.320918</td>\n",
       "      <td>39.922868</td>\n",
       "      <td>44.016356</td>\n",
       "      <td>54.496460</td>\n",
       "      <td>35.748415</td>\n",
       "      <td>70.590933</td>\n",
       "      <td>36.281768</td>\n",
       "      <td>38.748370</td>\n",
       "      <td>2013-09-14 04:58:00</td>\n",
       "    </tr>\n",
       "    <tr>\n",
       "      <th>1</th>\n",
       "      <td>2013-09-14</td>\n",
       "      <td>7</td>\n",
       "      <td>2</td>\n",
       "      <td>06:13:00</td>\n",
       "      <td>22380</td>\n",
       "      <td>104.976256</td>\n",
       "      <td>44.850321</td>\n",
       "      <td>28.456166</td>\n",
       "      <td>49.860185</td>\n",
       "      <td>51.264356</td>\n",
       "      <td>...</td>\n",
       "      <td>27.485600</td>\n",
       "      <td>31.234553</td>\n",
       "      <td>58.895762</td>\n",
       "      <td>38.260907</td>\n",
       "      <td>48.069446</td>\n",
       "      <td>59.877518</td>\n",
       "      <td>31.172375</td>\n",
       "      <td>28.089945</td>\n",
       "      <td>33.304925</td>\n",
       "      <td>2013-09-14 06:13:00</td>\n",
       "    </tr>\n",
       "    <tr>\n",
       "      <th>2</th>\n",
       "      <td>2013-09-14</td>\n",
       "      <td>7</td>\n",
       "      <td>3</td>\n",
       "      <td>06:54:00</td>\n",
       "      <td>24840</td>\n",
       "      <td>59.712483</td>\n",
       "      <td>26.850489</td>\n",
       "      <td>44.230243</td>\n",
       "      <td>27.467847</td>\n",
       "      <td>26.759062</td>\n",
       "      <td>...</td>\n",
       "      <td>28.658088</td>\n",
       "      <td>26.630962</td>\n",
       "      <td>25.383388</td>\n",
       "      <td>32.304605</td>\n",
       "      <td>70.576423</td>\n",
       "      <td>71.853739</td>\n",
       "      <td>68.949167</td>\n",
       "      <td>34.475493</td>\n",
       "      <td>29.226674</td>\n",
       "      <td>2013-09-14 06:54:00</td>\n",
       "    </tr>\n",
       "    <tr>\n",
       "      <th>3</th>\n",
       "      <td>2013-09-14</td>\n",
       "      <td>7</td>\n",
       "      <td>4</td>\n",
       "      <td>07:13:00</td>\n",
       "      <td>25980</td>\n",
       "      <td>160.944903</td>\n",
       "      <td>48.597738</td>\n",
       "      <td>38.708082</td>\n",
       "      <td>72.473947</td>\n",
       "      <td>49.825119</td>\n",
       "      <td>...</td>\n",
       "      <td>24.122839</td>\n",
       "      <td>24.210036</td>\n",
       "      <td>47.771225</td>\n",
       "      <td>48.804812</td>\n",
       "      <td>74.259101</td>\n",
       "      <td>61.065884</td>\n",
       "      <td>33.526958</td>\n",
       "      <td>28.147495</td>\n",
       "      <td>31.245517</td>\n",
       "      <td>2013-09-14 07:13:00</td>\n",
       "    </tr>\n",
       "    <tr>\n",
       "      <th>4</th>\n",
       "      <td>2013-09-14</td>\n",
       "      <td>7</td>\n",
       "      <td>5</td>\n",
       "      <td>07:15:00</td>\n",
       "      <td>26100</td>\n",
       "      <td>118.748406</td>\n",
       "      <td>42.326221</td>\n",
       "      <td>31.045304</td>\n",
       "      <td>48.917543</td>\n",
       "      <td>34.490022</td>\n",
       "      <td>...</td>\n",
       "      <td>24.118495</td>\n",
       "      <td>24.000000</td>\n",
       "      <td>31.501511</td>\n",
       "      <td>52.608259</td>\n",
       "      <td>36.411611</td>\n",
       "      <td>57.245146</td>\n",
       "      <td>31.913438</td>\n",
       "      <td>30.164610</td>\n",
       "      <td>31.897671</td>\n",
       "      <td>2013-09-14 07:15:00</td>\n",
       "    </tr>\n",
       "  </tbody>\n",
       "</table>\n",
       "<p>5 rows × 76 columns</p>\n",
       "</div>"
      ],
      "text/plain": [
       "   start_date  unk_1  unk_2 start_time  unk_3    seg_1_tt   seg_2_tt  \\\n",
       "0  2013-09-14      7      1   04:58:00  17880   77.727986  46.919043   \n",
       "1  2013-09-14      7      2   06:13:00  22380  104.976256  44.850321   \n",
       "2  2013-09-14      7      3   06:54:00  24840   59.712483  26.850489   \n",
       "3  2013-09-14      7      4   07:13:00  25980  160.944903  48.597738   \n",
       "4  2013-09-14      7      5   07:15:00  26100  118.748406  42.326221   \n",
       "\n",
       "    seg_3_tt   seg_4_tt   seg_5_tt  ...  seg_62_tt  seg_63_tt  seg_64_tt  \\\n",
       "0  44.230243  55.867210  51.704259  ...  51.353006  65.320918  39.922868   \n",
       "1  28.456166  49.860185  51.264356  ...  27.485600  31.234553  58.895762   \n",
       "2  44.230243  27.467847  26.759062  ...  28.658088  26.630962  25.383388   \n",
       "3  38.708082  72.473947  49.825119  ...  24.122839  24.210036  47.771225   \n",
       "4  31.045304  48.917543  34.490022  ...  24.118495  24.000000  31.501511   \n",
       "\n",
       "   seg_65_tt  seg_66_tt  seg_67_tt  seg_68_tt  seg_69_tt  seg_70_tt  \\\n",
       "0  44.016356  54.496460  35.748415  70.590933  36.281768  38.748370   \n",
       "1  38.260907  48.069446  59.877518  31.172375  28.089945  33.304925   \n",
       "2  32.304605  70.576423  71.853739  68.949167  34.475493  29.226674   \n",
       "3  48.804812  74.259101  61.065884  33.526958  28.147495  31.245517   \n",
       "4  52.608259  36.411611  57.245146  31.913438  30.164610  31.897671   \n",
       "\n",
       "       start_datetime  \n",
       "0 2013-09-14 04:58:00  \n",
       "1 2013-09-14 06:13:00  \n",
       "2 2013-09-14 06:54:00  \n",
       "3 2013-09-14 07:13:00  \n",
       "4 2013-09-14 07:15:00  \n",
       "\n",
       "[5 rows x 76 columns]"
      ]
     },
     "execution_count": 8,
     "metadata": {},
     "output_type": "execute_result"
    }
   ],
   "source": [
    "data = data.sort_values(by='start_datetime').reset_index(drop=True)\n",
    "data.head()"
   ]
  },
  {
   "cell_type": "code",
   "execution_count": 9,
   "metadata": {},
   "outputs": [],
   "source": [
    "h = data['start_datetime'].dt.hour\n",
    "m = data['start_datetime'].dt.minute\n",
    "s = data['start_datetime'].dt.second\n",
    "data['start_time_seconds'] = h*60*60 + m*60 + s"
   ]
  },
  {
   "cell_type": "code",
   "execution_count": 10,
   "metadata": {},
   "outputs": [
    {
     "data": {
      "text/html": [
       "<div>\n",
       "<style scoped>\n",
       "    .dataframe tbody tr th:only-of-type {\n",
       "        vertical-align: middle;\n",
       "    }\n",
       "\n",
       "    .dataframe tbody tr th {\n",
       "        vertical-align: top;\n",
       "    }\n",
       "\n",
       "    .dataframe thead th {\n",
       "        text-align: right;\n",
       "    }\n",
       "</style>\n",
       "<table border=\"1\" class=\"dataframe\">\n",
       "  <thead>\n",
       "    <tr style=\"text-align: right;\">\n",
       "      <th></th>\n",
       "      <th>start_date</th>\n",
       "      <th>unk_1</th>\n",
       "      <th>unk_2</th>\n",
       "      <th>start_time</th>\n",
       "      <th>unk_3</th>\n",
       "      <th>seg_1_tt</th>\n",
       "      <th>seg_2_tt</th>\n",
       "      <th>seg_3_tt</th>\n",
       "      <th>seg_4_tt</th>\n",
       "      <th>seg_5_tt</th>\n",
       "      <th>...</th>\n",
       "      <th>seg_63_tt</th>\n",
       "      <th>seg_64_tt</th>\n",
       "      <th>seg_65_tt</th>\n",
       "      <th>seg_66_tt</th>\n",
       "      <th>seg_67_tt</th>\n",
       "      <th>seg_68_tt</th>\n",
       "      <th>seg_69_tt</th>\n",
       "      <th>seg_70_tt</th>\n",
       "      <th>start_datetime</th>\n",
       "      <th>start_time_seconds</th>\n",
       "    </tr>\n",
       "  </thead>\n",
       "  <tbody>\n",
       "    <tr>\n",
       "      <th>0</th>\n",
       "      <td>2013-09-14</td>\n",
       "      <td>7</td>\n",
       "      <td>1</td>\n",
       "      <td>04:58:00</td>\n",
       "      <td>17880</td>\n",
       "      <td>77.727986</td>\n",
       "      <td>46.919043</td>\n",
       "      <td>44.230243</td>\n",
       "      <td>55.867210</td>\n",
       "      <td>51.704259</td>\n",
       "      <td>...</td>\n",
       "      <td>65.320918</td>\n",
       "      <td>39.922868</td>\n",
       "      <td>44.016356</td>\n",
       "      <td>54.496460</td>\n",
       "      <td>35.748415</td>\n",
       "      <td>70.590933</td>\n",
       "      <td>36.281768</td>\n",
       "      <td>38.748370</td>\n",
       "      <td>2013-09-14 04:58:00</td>\n",
       "      <td>17880</td>\n",
       "    </tr>\n",
       "    <tr>\n",
       "      <th>1</th>\n",
       "      <td>2013-09-14</td>\n",
       "      <td>7</td>\n",
       "      <td>2</td>\n",
       "      <td>06:13:00</td>\n",
       "      <td>22380</td>\n",
       "      <td>104.976256</td>\n",
       "      <td>44.850321</td>\n",
       "      <td>28.456166</td>\n",
       "      <td>49.860185</td>\n",
       "      <td>51.264356</td>\n",
       "      <td>...</td>\n",
       "      <td>31.234553</td>\n",
       "      <td>58.895762</td>\n",
       "      <td>38.260907</td>\n",
       "      <td>48.069446</td>\n",
       "      <td>59.877518</td>\n",
       "      <td>31.172375</td>\n",
       "      <td>28.089945</td>\n",
       "      <td>33.304925</td>\n",
       "      <td>2013-09-14 06:13:00</td>\n",
       "      <td>22380</td>\n",
       "    </tr>\n",
       "    <tr>\n",
       "      <th>2</th>\n",
       "      <td>2013-09-14</td>\n",
       "      <td>7</td>\n",
       "      <td>3</td>\n",
       "      <td>06:54:00</td>\n",
       "      <td>24840</td>\n",
       "      <td>59.712483</td>\n",
       "      <td>26.850489</td>\n",
       "      <td>44.230243</td>\n",
       "      <td>27.467847</td>\n",
       "      <td>26.759062</td>\n",
       "      <td>...</td>\n",
       "      <td>26.630962</td>\n",
       "      <td>25.383388</td>\n",
       "      <td>32.304605</td>\n",
       "      <td>70.576423</td>\n",
       "      <td>71.853739</td>\n",
       "      <td>68.949167</td>\n",
       "      <td>34.475493</td>\n",
       "      <td>29.226674</td>\n",
       "      <td>2013-09-14 06:54:00</td>\n",
       "      <td>24840</td>\n",
       "    </tr>\n",
       "    <tr>\n",
       "      <th>3</th>\n",
       "      <td>2013-09-14</td>\n",
       "      <td>7</td>\n",
       "      <td>4</td>\n",
       "      <td>07:13:00</td>\n",
       "      <td>25980</td>\n",
       "      <td>160.944903</td>\n",
       "      <td>48.597738</td>\n",
       "      <td>38.708082</td>\n",
       "      <td>72.473947</td>\n",
       "      <td>49.825119</td>\n",
       "      <td>...</td>\n",
       "      <td>24.210036</td>\n",
       "      <td>47.771225</td>\n",
       "      <td>48.804812</td>\n",
       "      <td>74.259101</td>\n",
       "      <td>61.065884</td>\n",
       "      <td>33.526958</td>\n",
       "      <td>28.147495</td>\n",
       "      <td>31.245517</td>\n",
       "      <td>2013-09-14 07:13:00</td>\n",
       "      <td>25980</td>\n",
       "    </tr>\n",
       "    <tr>\n",
       "      <th>4</th>\n",
       "      <td>2013-09-14</td>\n",
       "      <td>7</td>\n",
       "      <td>5</td>\n",
       "      <td>07:15:00</td>\n",
       "      <td>26100</td>\n",
       "      <td>118.748406</td>\n",
       "      <td>42.326221</td>\n",
       "      <td>31.045304</td>\n",
       "      <td>48.917543</td>\n",
       "      <td>34.490022</td>\n",
       "      <td>...</td>\n",
       "      <td>24.000000</td>\n",
       "      <td>31.501511</td>\n",
       "      <td>52.608259</td>\n",
       "      <td>36.411611</td>\n",
       "      <td>57.245146</td>\n",
       "      <td>31.913438</td>\n",
       "      <td>30.164610</td>\n",
       "      <td>31.897671</td>\n",
       "      <td>2013-09-14 07:15:00</td>\n",
       "      <td>26100</td>\n",
       "    </tr>\n",
       "  </tbody>\n",
       "</table>\n",
       "<p>5 rows × 77 columns</p>\n",
       "</div>"
      ],
      "text/plain": [
       "   start_date  unk_1  unk_2 start_time  unk_3    seg_1_tt   seg_2_tt  \\\n",
       "0  2013-09-14      7      1   04:58:00  17880   77.727986  46.919043   \n",
       "1  2013-09-14      7      2   06:13:00  22380  104.976256  44.850321   \n",
       "2  2013-09-14      7      3   06:54:00  24840   59.712483  26.850489   \n",
       "3  2013-09-14      7      4   07:13:00  25980  160.944903  48.597738   \n",
       "4  2013-09-14      7      5   07:15:00  26100  118.748406  42.326221   \n",
       "\n",
       "    seg_3_tt   seg_4_tt   seg_5_tt  ...  seg_63_tt  seg_64_tt  seg_65_tt  \\\n",
       "0  44.230243  55.867210  51.704259  ...  65.320918  39.922868  44.016356   \n",
       "1  28.456166  49.860185  51.264356  ...  31.234553  58.895762  38.260907   \n",
       "2  44.230243  27.467847  26.759062  ...  26.630962  25.383388  32.304605   \n",
       "3  38.708082  72.473947  49.825119  ...  24.210036  47.771225  48.804812   \n",
       "4  31.045304  48.917543  34.490022  ...  24.000000  31.501511  52.608259   \n",
       "\n",
       "   seg_66_tt  seg_67_tt  seg_68_tt  seg_69_tt  seg_70_tt      start_datetime  \\\n",
       "0  54.496460  35.748415  70.590933  36.281768  38.748370 2013-09-14 04:58:00   \n",
       "1  48.069446  59.877518  31.172375  28.089945  33.304925 2013-09-14 06:13:00   \n",
       "2  70.576423  71.853739  68.949167  34.475493  29.226674 2013-09-14 06:54:00   \n",
       "3  74.259101  61.065884  33.526958  28.147495  31.245517 2013-09-14 07:13:00   \n",
       "4  36.411611  57.245146  31.913438  30.164610  31.897671 2013-09-14 07:15:00   \n",
       "\n",
       "   start_time_seconds  \n",
       "0               17880  \n",
       "1               22380  \n",
       "2               24840  \n",
       "3               25980  \n",
       "4               26100  \n",
       "\n",
       "[5 rows x 77 columns]"
      ]
     },
     "execution_count": 10,
     "metadata": {},
     "output_type": "execute_result"
    }
   ],
   "source": [
    "data.head()"
   ]
  },
  {
   "cell_type": "markdown",
   "metadata": {},
   "source": [
    "## 2.2 Split data"
   ]
  },
  {
   "cell_type": "code",
   "execution_count": 11,
   "metadata": {},
   "outputs": [
    {
     "name": "stdout",
     "output_type": "stream",
     "text": [
      "2013-09-14 2013-10-17\n",
      "2013-09-14 2013-10-10\n",
      "2013-10-11 2013-10-17\n"
     ]
    }
   ],
   "source": [
    "min_date = data['start_date'].min()\n",
    "max_date = data['start_date'].max()\n",
    "print(min_date, max_date)\n",
    "\n",
    "min_date_train = min_date\n",
    "max_date_train = max_date - timedelta(days=7)\n",
    "min_date_test = max_date_train + timedelta(days=1)\n",
    "max_date_test = max_date\n",
    "print(min_date_train, max_date_train)\n",
    "print(min_date_test, max_date_test)"
   ]
  },
  {
   "cell_type": "code",
   "execution_count": 12,
   "metadata": {},
   "outputs": [
    {
     "name": "stdout",
     "output_type": "stream",
     "text": [
      "Data: 1231\n",
      "Train: 926\n",
      "Test: 305\n"
     ]
    }
   ],
   "source": [
    "data_train = data[data['start_date'] <= max_date_train].copy()\n",
    "data_test = data[data['start_date'] >= min_date_test].copy()\n",
    "print(\"Data:\", len(data))\n",
    "print(\"Train:\", len(data_train))\n",
    "print(\"Test:\", len(data_test))"
   ]
  },
  {
   "cell_type": "code",
   "execution_count": 13,
   "metadata": {},
   "outputs": [
    {
     "data": {
      "text/html": [
       "<div>\n",
       "<style scoped>\n",
       "    .dataframe tbody tr th:only-of-type {\n",
       "        vertical-align: middle;\n",
       "    }\n",
       "\n",
       "    .dataframe tbody tr th {\n",
       "        vertical-align: top;\n",
       "    }\n",
       "\n",
       "    .dataframe thead th {\n",
       "        text-align: right;\n",
       "    }\n",
       "</style>\n",
       "<table border=\"1\" class=\"dataframe\">\n",
       "  <thead>\n",
       "    <tr style=\"text-align: right;\">\n",
       "      <th></th>\n",
       "      <th>start_date</th>\n",
       "      <th>unk_1</th>\n",
       "      <th>unk_2</th>\n",
       "      <th>start_time</th>\n",
       "      <th>unk_3</th>\n",
       "      <th>seg_1_tt</th>\n",
       "      <th>seg_2_tt</th>\n",
       "      <th>seg_3_tt</th>\n",
       "      <th>seg_4_tt</th>\n",
       "      <th>seg_5_tt</th>\n",
       "      <th>...</th>\n",
       "      <th>seg_63_tt</th>\n",
       "      <th>seg_64_tt</th>\n",
       "      <th>seg_65_tt</th>\n",
       "      <th>seg_66_tt</th>\n",
       "      <th>seg_67_tt</th>\n",
       "      <th>seg_68_tt</th>\n",
       "      <th>seg_69_tt</th>\n",
       "      <th>seg_70_tt</th>\n",
       "      <th>start_datetime</th>\n",
       "      <th>start_time_seconds</th>\n",
       "    </tr>\n",
       "  </thead>\n",
       "  <tbody>\n",
       "    <tr>\n",
       "      <th>926</th>\n",
       "      <td>2013-10-11</td>\n",
       "      <td>6</td>\n",
       "      <td>1</td>\n",
       "      <td>05:03:00</td>\n",
       "      <td>18180</td>\n",
       "      <td>104.303312</td>\n",
       "      <td>51.837481</td>\n",
       "      <td>38.969813</td>\n",
       "      <td>35.423626</td>\n",
       "      <td>34.161157</td>\n",
       "      <td>...</td>\n",
       "      <td>57.795025</td>\n",
       "      <td>45.167064</td>\n",
       "      <td>42.998811</td>\n",
       "      <td>46.059611</td>\n",
       "      <td>59.007640</td>\n",
       "      <td>41.517718</td>\n",
       "      <td>35.691049</td>\n",
       "      <td>39.372749</td>\n",
       "      <td>2013-10-11 05:03:00</td>\n",
       "      <td>18180</td>\n",
       "    </tr>\n",
       "    <tr>\n",
       "      <th>927</th>\n",
       "      <td>2013-10-11</td>\n",
       "      <td>6</td>\n",
       "      <td>2</td>\n",
       "      <td>06:38:00</td>\n",
       "      <td>23880</td>\n",
       "      <td>128.309669</td>\n",
       "      <td>43.741762</td>\n",
       "      <td>31.532148</td>\n",
       "      <td>30.042928</td>\n",
       "      <td>48.283201</td>\n",
       "      <td>...</td>\n",
       "      <td>26.046083</td>\n",
       "      <td>43.875721</td>\n",
       "      <td>45.119043</td>\n",
       "      <td>35.790797</td>\n",
       "      <td>56.508317</td>\n",
       "      <td>31.303240</td>\n",
       "      <td>24.995024</td>\n",
       "      <td>29.155153</td>\n",
       "      <td>2013-10-11 06:38:00</td>\n",
       "      <td>23880</td>\n",
       "    </tr>\n",
       "    <tr>\n",
       "      <th>928</th>\n",
       "      <td>2013-10-11</td>\n",
       "      <td>6</td>\n",
       "      <td>3</td>\n",
       "      <td>06:49:00</td>\n",
       "      <td>24540</td>\n",
       "      <td>81.316233</td>\n",
       "      <td>36.790836</td>\n",
       "      <td>27.262802</td>\n",
       "      <td>28.343429</td>\n",
       "      <td>37.037121</td>\n",
       "      <td>...</td>\n",
       "      <td>25.512487</td>\n",
       "      <td>48.600277</td>\n",
       "      <td>44.449785</td>\n",
       "      <td>63.932384</td>\n",
       "      <td>57.044242</td>\n",
       "      <td>30.093215</td>\n",
       "      <td>31.887979</td>\n",
       "      <td>33.138791</td>\n",
       "      <td>2013-10-11 06:49:00</td>\n",
       "      <td>24540</td>\n",
       "    </tr>\n",
       "    <tr>\n",
       "      <th>929</th>\n",
       "      <td>2013-10-11</td>\n",
       "      <td>6</td>\n",
       "      <td>4</td>\n",
       "      <td>06:53:00</td>\n",
       "      <td>24780</td>\n",
       "      <td>113.364549</td>\n",
       "      <td>42.502134</td>\n",
       "      <td>29.624217</td>\n",
       "      <td>31.355995</td>\n",
       "      <td>35.310388</td>\n",
       "      <td>...</td>\n",
       "      <td>27.777537</td>\n",
       "      <td>46.152474</td>\n",
       "      <td>53.174422</td>\n",
       "      <td>41.577000</td>\n",
       "      <td>54.953626</td>\n",
       "      <td>36.977524</td>\n",
       "      <td>32.065805</td>\n",
       "      <td>31.906190</td>\n",
       "      <td>2013-10-11 06:53:00</td>\n",
       "      <td>24780</td>\n",
       "    </tr>\n",
       "    <tr>\n",
       "      <th>930</th>\n",
       "      <td>2013-10-11</td>\n",
       "      <td>6</td>\n",
       "      <td>5</td>\n",
       "      <td>06:59:00</td>\n",
       "      <td>25140</td>\n",
       "      <td>178.490458</td>\n",
       "      <td>53.264372</td>\n",
       "      <td>32.425106</td>\n",
       "      <td>50.936455</td>\n",
       "      <td>34.507465</td>\n",
       "      <td>...</td>\n",
       "      <td>27.263095</td>\n",
       "      <td>36.871861</td>\n",
       "      <td>52.025194</td>\n",
       "      <td>37.721687</td>\n",
       "      <td>60.625785</td>\n",
       "      <td>39.101428</td>\n",
       "      <td>28.704213</td>\n",
       "      <td>29.603768</td>\n",
       "      <td>2013-10-11 06:59:00</td>\n",
       "      <td>25140</td>\n",
       "    </tr>\n",
       "  </tbody>\n",
       "</table>\n",
       "<p>5 rows × 77 columns</p>\n",
       "</div>"
      ],
      "text/plain": [
       "     start_date  unk_1  unk_2 start_time  unk_3    seg_1_tt   seg_2_tt  \\\n",
       "926  2013-10-11      6      1   05:03:00  18180  104.303312  51.837481   \n",
       "927  2013-10-11      6      2   06:38:00  23880  128.309669  43.741762   \n",
       "928  2013-10-11      6      3   06:49:00  24540   81.316233  36.790836   \n",
       "929  2013-10-11      6      4   06:53:00  24780  113.364549  42.502134   \n",
       "930  2013-10-11      6      5   06:59:00  25140  178.490458  53.264372   \n",
       "\n",
       "      seg_3_tt   seg_4_tt   seg_5_tt  ...  seg_63_tt  seg_64_tt  seg_65_tt  \\\n",
       "926  38.969813  35.423626  34.161157  ...  57.795025  45.167064  42.998811   \n",
       "927  31.532148  30.042928  48.283201  ...  26.046083  43.875721  45.119043   \n",
       "928  27.262802  28.343429  37.037121  ...  25.512487  48.600277  44.449785   \n",
       "929  29.624217  31.355995  35.310388  ...  27.777537  46.152474  53.174422   \n",
       "930  32.425106  50.936455  34.507465  ...  27.263095  36.871861  52.025194   \n",
       "\n",
       "     seg_66_tt  seg_67_tt  seg_68_tt  seg_69_tt  seg_70_tt  \\\n",
       "926  46.059611  59.007640  41.517718  35.691049  39.372749   \n",
       "927  35.790797  56.508317  31.303240  24.995024  29.155153   \n",
       "928  63.932384  57.044242  30.093215  31.887979  33.138791   \n",
       "929  41.577000  54.953626  36.977524  32.065805  31.906190   \n",
       "930  37.721687  60.625785  39.101428  28.704213  29.603768   \n",
       "\n",
       "         start_datetime  start_time_seconds  \n",
       "926 2013-10-11 05:03:00               18180  \n",
       "927 2013-10-11 06:38:00               23880  \n",
       "928 2013-10-11 06:49:00               24540  \n",
       "929 2013-10-11 06:53:00               24780  \n",
       "930 2013-10-11 06:59:00               25140  \n",
       "\n",
       "[5 rows x 77 columns]"
      ]
     },
     "execution_count": 13,
     "metadata": {},
     "output_type": "execute_result"
    }
   ],
   "source": [
    "data_test.head()"
   ]
  },
  {
   "cell_type": "code",
   "execution_count": 14,
   "metadata": {},
   "outputs": [
    {
     "data": {
      "application/vnd.jupyter.widget-view+json": {
       "model_id": "dfafc4b2997645799cb733ef4484f1bf",
       "version_major": 2,
       "version_minor": 0
      },
      "text/plain": [
       "HBox(children=(FloatProgress(value=0.0, max=70.0), HTML(value='')))"
      ]
     },
     "metadata": {},
     "output_type": "display_data"
    },
    {
     "name": "stdout",
     "output_type": "stream",
     "text": [
      "\n"
     ]
    }
   ],
   "source": [
    "scalers = {}\n",
    "for i in tqdm(range(1, 71)):\n",
    "    col = \"seg_{}_tt\".format(i)\n",
    "    scaler = StandardScaler()\n",
    "    data_train[col] = scaler.fit_transform(data_train[col].values.reshape(-1,1))\n",
    "    data_test[col] = scaler.transform(data_test[col].values.reshape(-1,1))\n",
    "    scalers[col] = scaler"
   ]
  },
  {
   "cell_type": "code",
   "execution_count": 15,
   "metadata": {},
   "outputs": [
    {
     "data": {
      "text/html": [
       "<div>\n",
       "<style scoped>\n",
       "    .dataframe tbody tr th:only-of-type {\n",
       "        vertical-align: middle;\n",
       "    }\n",
       "\n",
       "    .dataframe tbody tr th {\n",
       "        vertical-align: top;\n",
       "    }\n",
       "\n",
       "    .dataframe thead th {\n",
       "        text-align: right;\n",
       "    }\n",
       "</style>\n",
       "<table border=\"1\" class=\"dataframe\">\n",
       "  <thead>\n",
       "    <tr style=\"text-align: right;\">\n",
       "      <th></th>\n",
       "      <th>start_date</th>\n",
       "      <th>unk_1</th>\n",
       "      <th>unk_2</th>\n",
       "      <th>start_time</th>\n",
       "      <th>unk_3</th>\n",
       "      <th>seg_1_tt</th>\n",
       "      <th>seg_2_tt</th>\n",
       "      <th>seg_3_tt</th>\n",
       "      <th>seg_4_tt</th>\n",
       "      <th>seg_5_tt</th>\n",
       "      <th>...</th>\n",
       "      <th>seg_63_tt</th>\n",
       "      <th>seg_64_tt</th>\n",
       "      <th>seg_65_tt</th>\n",
       "      <th>seg_66_tt</th>\n",
       "      <th>seg_67_tt</th>\n",
       "      <th>seg_68_tt</th>\n",
       "      <th>seg_69_tt</th>\n",
       "      <th>seg_70_tt</th>\n",
       "      <th>start_datetime</th>\n",
       "      <th>start_time_seconds</th>\n",
       "    </tr>\n",
       "  </thead>\n",
       "  <tbody>\n",
       "    <tr>\n",
       "      <th>926</th>\n",
       "      <td>2013-10-11</td>\n",
       "      <td>6</td>\n",
       "      <td>1</td>\n",
       "      <td>05:03:00</td>\n",
       "      <td>18180</td>\n",
       "      <td>-1.023152</td>\n",
       "      <td>0.103971</td>\n",
       "      <td>1.380221</td>\n",
       "      <td>-1.237864</td>\n",
       "      <td>-1.299232</td>\n",
       "      <td>...</td>\n",
       "      <td>2.785487</td>\n",
       "      <td>-0.294097</td>\n",
       "      <td>-0.932376</td>\n",
       "      <td>-0.838540</td>\n",
       "      <td>-0.462937</td>\n",
       "      <td>0.218591</td>\n",
       "      <td>0.201456</td>\n",
       "      <td>-0.201606</td>\n",
       "      <td>2013-10-11 05:03:00</td>\n",
       "      <td>18180</td>\n",
       "    </tr>\n",
       "    <tr>\n",
       "      <th>927</th>\n",
       "      <td>2013-10-11</td>\n",
       "      <td>6</td>\n",
       "      <td>2</td>\n",
       "      <td>06:38:00</td>\n",
       "      <td>23880</td>\n",
       "      <td>-0.540995</td>\n",
       "      <td>-0.725245</td>\n",
       "      <td>-0.162125</td>\n",
       "      <td>-1.644795</td>\n",
       "      <td>-0.025278</td>\n",
       "      <td>...</td>\n",
       "      <td>-0.480079</td>\n",
       "      <td>-0.373250</td>\n",
       "      <td>-0.860074</td>\n",
       "      <td>-1.185777</td>\n",
       "      <td>-0.639828</td>\n",
       "      <td>-0.721850</td>\n",
       "      <td>-0.860155</td>\n",
       "      <td>-0.841548</td>\n",
       "      <td>2013-10-11 06:38:00</td>\n",
       "      <td>23880</td>\n",
       "    </tr>\n",
       "    <tr>\n",
       "      <th>928</th>\n",
       "      <td>2013-10-11</td>\n",
       "      <td>6</td>\n",
       "      <td>3</td>\n",
       "      <td>06:49:00</td>\n",
       "      <td>24540</td>\n",
       "      <td>-1.484837</td>\n",
       "      <td>-1.437204</td>\n",
       "      <td>-1.047458</td>\n",
       "      <td>-1.773325</td>\n",
       "      <td>-1.039790</td>\n",
       "      <td>...</td>\n",
       "      <td>-0.534962</td>\n",
       "      <td>-0.083660</td>\n",
       "      <td>-0.882896</td>\n",
       "      <td>-0.234178</td>\n",
       "      <td>-0.601897</td>\n",
       "      <td>-0.833256</td>\n",
       "      <td>-0.176009</td>\n",
       "      <td>-0.592047</td>\n",
       "      <td>2013-10-11 06:49:00</td>\n",
       "      <td>24540</td>\n",
       "    </tr>\n",
       "    <tr>\n",
       "      <th>929</th>\n",
       "      <td>2013-10-11</td>\n",
       "      <td>6</td>\n",
       "      <td>4</td>\n",
       "      <td>06:53:00</td>\n",
       "      <td>24780</td>\n",
       "      <td>-0.841161</td>\n",
       "      <td>-0.852216</td>\n",
       "      <td>-0.557772</td>\n",
       "      <td>-1.545491</td>\n",
       "      <td>-1.195560</td>\n",
       "      <td>...</td>\n",
       "      <td>-0.301988</td>\n",
       "      <td>-0.233697</td>\n",
       "      <td>-0.585380</td>\n",
       "      <td>-0.990118</td>\n",
       "      <td>-0.749862</td>\n",
       "      <td>-0.199422</td>\n",
       "      <td>-0.158360</td>\n",
       "      <td>-0.669247</td>\n",
       "      <td>2013-10-11 06:53:00</td>\n",
       "      <td>24780</td>\n",
       "    </tr>\n",
       "    <tr>\n",
       "      <th>930</th>\n",
       "      <td>2013-10-11</td>\n",
       "      <td>6</td>\n",
       "      <td>5</td>\n",
       "      <td>06:59:00</td>\n",
       "      <td>25140</td>\n",
       "      <td>0.466863</td>\n",
       "      <td>0.250123</td>\n",
       "      <td>0.023047</td>\n",
       "      <td>-0.064661</td>\n",
       "      <td>-1.267991</td>\n",
       "      <td>...</td>\n",
       "      <td>-0.354902</td>\n",
       "      <td>-0.802548</td>\n",
       "      <td>-0.624569</td>\n",
       "      <td>-1.120485</td>\n",
       "      <td>-0.348412</td>\n",
       "      <td>-0.003875</td>\n",
       "      <td>-0.492007</td>\n",
       "      <td>-0.813450</td>\n",
       "      <td>2013-10-11 06:59:00</td>\n",
       "      <td>25140</td>\n",
       "    </tr>\n",
       "  </tbody>\n",
       "</table>\n",
       "<p>5 rows × 77 columns</p>\n",
       "</div>"
      ],
      "text/plain": [
       "     start_date  unk_1  unk_2 start_time  unk_3  seg_1_tt  seg_2_tt  seg_3_tt  \\\n",
       "926  2013-10-11      6      1   05:03:00  18180 -1.023152  0.103971  1.380221   \n",
       "927  2013-10-11      6      2   06:38:00  23880 -0.540995 -0.725245 -0.162125   \n",
       "928  2013-10-11      6      3   06:49:00  24540 -1.484837 -1.437204 -1.047458   \n",
       "929  2013-10-11      6      4   06:53:00  24780 -0.841161 -0.852216 -0.557772   \n",
       "930  2013-10-11      6      5   06:59:00  25140  0.466863  0.250123  0.023047   \n",
       "\n",
       "     seg_4_tt  seg_5_tt  ...  seg_63_tt  seg_64_tt  seg_65_tt  seg_66_tt  \\\n",
       "926 -1.237864 -1.299232  ...   2.785487  -0.294097  -0.932376  -0.838540   \n",
       "927 -1.644795 -0.025278  ...  -0.480079  -0.373250  -0.860074  -1.185777   \n",
       "928 -1.773325 -1.039790  ...  -0.534962  -0.083660  -0.882896  -0.234178   \n",
       "929 -1.545491 -1.195560  ...  -0.301988  -0.233697  -0.585380  -0.990118   \n",
       "930 -0.064661 -1.267991  ...  -0.354902  -0.802548  -0.624569  -1.120485   \n",
       "\n",
       "     seg_67_tt  seg_68_tt  seg_69_tt  seg_70_tt      start_datetime  \\\n",
       "926  -0.462937   0.218591   0.201456  -0.201606 2013-10-11 05:03:00   \n",
       "927  -0.639828  -0.721850  -0.860155  -0.841548 2013-10-11 06:38:00   \n",
       "928  -0.601897  -0.833256  -0.176009  -0.592047 2013-10-11 06:49:00   \n",
       "929  -0.749862  -0.199422  -0.158360  -0.669247 2013-10-11 06:53:00   \n",
       "930  -0.348412  -0.003875  -0.492007  -0.813450 2013-10-11 06:59:00   \n",
       "\n",
       "     start_time_seconds  \n",
       "926               18180  \n",
       "927               23880  \n",
       "928               24540  \n",
       "929               24780  \n",
       "930               25140  \n",
       "\n",
       "[5 rows x 77 columns]"
      ]
     },
     "execution_count": 15,
     "metadata": {},
     "output_type": "execute_result"
    }
   ],
   "source": [
    "data_test.head()"
   ]
  },
  {
   "cell_type": "markdown",
   "metadata": {},
   "source": [
    "## 2.3 Format data for NN"
   ]
  },
  {
   "cell_type": "code",
   "execution_count": 16,
   "metadata": {},
   "outputs": [],
   "source": [
    "data_train.to_csv(os.path.join(FORMATTED_DATA_FOLDER, 'data_train_{}.csv'.format(DATA_ID)), index=False)\n",
    "data_test.to_csv(os.path.join(FORMATTED_DATA_FOLDER, 'data_test_{}.csv'.format(DATA_ID)), index=False)"
   ]
  },
  {
   "cell_type": "markdown",
   "metadata": {},
   "source": [
    "## 2.4 Set Data Loader"
   ]
  },
  {
   "cell_type": "code",
   "execution_count": 17,
   "metadata": {},
   "outputs": [],
   "source": [
    "class TripsDataset(Dataset):\n",
    "    \n",
    "    def __init__(self, data_path, max_m=None, shuffle=True):\n",
    "        \n",
    "        self.trips_data = pd.read_csv(data_path)\n",
    "        if shuffle:\n",
    "            self.trips_data = self.trips_data.sample(frac=1).reset_index(drop=True)\n",
    "        if max_m:\n",
    "            self.trips_data = self.trips_data.iloc[:max_m, :]\n",
    "        \n",
    "    def __getitem__(self, index):\n",
    "        \n",
    "        row = self.trips_data.loc[index,:]\n",
    "        \n",
    "        x_cols = [\"seg_{}_tt\".format(i) for i in range(1, 70)]\n",
    "        y_cols = [\"seg_{}_tt\".format(i) for i in range(1, 71)]\n",
    "        \n",
    "        x = torch.tensor([0] + list(row[x_cols].values.astype(np.float)))\n",
    "        y = torch.tensor(row[y_cols].values.astype(np.float))\n",
    "        \n",
    "        return x, y\n",
    "        \n",
    "        \n",
    "    def __len__(self):\n",
    "        \n",
    "        return len(self.trips_data)"
   ]
  },
  {
   "cell_type": "markdown",
   "metadata": {},
   "source": [
    "## 2.5 Define the model"
   ]
  },
  {
   "cell_type": "code",
   "execution_count": 18,
   "metadata": {},
   "outputs": [],
   "source": [
    "class Net(nn.Module):\n",
    "    \n",
    "    def __init__(self, input_size, hidden_size, num_layers, output_size):\n",
    "        \n",
    "        super(Net, self).__init__()\n",
    "        self.hidden_size = hidden_size\n",
    "        self.num_layers = num_layers\n",
    "        # input_size = output_size = 1\n",
    "        # num_layers = 1 => # of RNN units\n",
    "\n",
    "        #Defining the layers\n",
    "        # LSTM Layer\n",
    "        self.lstm = nn.LSTM(input_size, hidden_size, num_layers, batch_first=True)   \n",
    "        # Fully connected layer\n",
    "        self.fc1 = nn.Linear(hidden_size, output_size)\n",
    "\n",
    "        \n",
    "    def forward(self, X):\n",
    "        \n",
    "        \"\"\"\n",
    "        X -> [mini_batch_size, 70, 1]\n",
    "        \"\"\"\n",
    "        batch_size = X.size(0)\n",
    "        \n",
    "        # Initializing hidden state for first input using method defined below\n",
    "        hidden = torch.zeros(self.num_layers, batch_size, self.hidden_size)\n",
    "        cell = torch.zeros(self.num_layers, batch_size, self.hidden_size)\n",
    "\n",
    "        # Passing in the input and hidden state into the model and obtaining outputs)\n",
    "        out, (hidden, cell) = self.lstm(X, (hidden, cell))\n",
    "        \n",
    "        # Reshaping the outputs such that it can be fit into the fully connected layer\n",
    "        out = out.contiguous().view(-1, self.hidden_size)\n",
    "        out = self.fc1(out)\n",
    "        \n",
    "        return out"
   ]
  },
  {
   "cell_type": "markdown",
   "metadata": {},
   "source": [
    "## 2.6 Train the model"
   ]
  },
  {
   "cell_type": "code",
   "execution_count": 19,
   "metadata": {},
   "outputs": [],
   "source": [
    "def send_message(slack_client, channel, message): \n",
    "    \n",
    "    response = slack_client.chat_postMessage(\n",
    "        channel=channel,\n",
    "        text=message,\n",
    "        username='Deep Updater 2',\n",
    "        icon_emoji=':robot_face:')\n",
    "    \n",
    "    return response"
   ]
  },
  {
   "cell_type": "code",
   "execution_count": 20,
   "metadata": {},
   "outputs": [],
   "source": [
    "input_size = 1 # 1\n",
    "hidden_size = 16 # 8\n",
    "num_layers = 1 # 1\n",
    "output_size = 1 # 1\n",
    "\n",
    "batch_size = 16 # 926\n",
    "lr = 0.01 # 0.01\n",
    "epochs = 50 # 30\n",
    "\n",
    "weight_decay = 0.01\n",
    "step_size = 10 # epoch levvel # 20\n",
    "gamma = 0.5"
   ]
  },
  {
   "cell_type": "code",
   "execution_count": 21,
   "metadata": {},
   "outputs": [],
   "source": [
    "train_data_path = os.path.join(FORMATTED_DATA_FOLDER, 'data_train_{}.csv'.format(DATA_ID))\n",
    "train_data = TripsDataset(data_path=train_data_path, max_m=None, shuffle=True)\n",
    "train_loader = DataLoader(train_data, batch_size=batch_size, shuffle=True)"
   ]
  },
  {
   "cell_type": "code",
   "execution_count": 22,
   "metadata": {},
   "outputs": [],
   "source": [
    "def init_weights(m):\n",
    "    \n",
    "    if type(m) == nn.Linear:\n",
    "        nn.init.xavier_uniform_(m.weight, gain=1.0)\n",
    "        m.bias.data.fill_(0)\n",
    "        \n",
    "    elif type(m) in [nn.GRU, nn.LSTM, nn.RNN]:\n",
    "        for name, param in m.named_parameters():\n",
    "            if 'weight_ih' in name:\n",
    "                torch.nn.init.xavier_uniform_(param.data, gain=1.0)\n",
    "            elif 'weight_hh' in name:\n",
    "                torch.nn.init.orthogonal_(param.data)\n",
    "            elif 'bias' in name:\n",
    "                param.data.fill_(0)"
   ]
  },
  {
   "cell_type": "code",
   "execution_count": 23,
   "metadata": {},
   "outputs": [],
   "source": [
    "torch.manual_seed(0)\n",
    "net = Net(input_size=input_size, hidden_size=hidden_size, num_layers=num_layers, output_size=output_size)\n",
    "net.apply(init_weights)\n",
    "net = net.float()\n",
    "\n",
    "loss_fn = nn.MSELoss(reduction=\"mean\")\n",
    "optimizer = torch.optim.Adam(net.parameters(), lr=lr, weight_decay=weight_decay)\n",
    "lr_scheduler = StepLR(optimizer, step_size=step_size, gamma=gamma)"
   ]
  },
  {
   "cell_type": "code",
   "execution_count": 24,
   "metadata": {},
   "outputs": [],
   "source": [
    "for x in net.fc1.named_parameters():\n",
    "    pass#print(x)"
   ]
  },
  {
   "cell_type": "code",
   "execution_count": 25,
   "metadata": {},
   "outputs": [],
   "source": [
    "for x in net.lstm.named_parameters():\n",
    "    pass#print(x)"
   ]
  },
  {
   "cell_type": "code",
   "execution_count": 90,
   "metadata": {},
   "outputs": [
    {
     "data": {
      "application/vnd.jupyter.widget-view+json": {
       "model_id": "c9b981feea26487180dc0a749ee69498",
       "version_major": 2,
       "version_minor": 0
      },
      "text/plain": [
       "HBox(children=(FloatProgress(value=0.0, description='Epochs', max=50.0, style=ProgressStyle(description_width=…"
      ]
     },
     "metadata": {},
     "output_type": "display_data"
    },
    {
     "data": {
      "application/vnd.jupyter.widget-view+json": {
       "model_id": "",
       "version_major": 2,
       "version_minor": 0
      },
      "text/plain": [
       "HBox(children=(FloatProgress(value=0.0, description='Mini Batches', max=58.0, style=ProgressStyle(description_…"
      ]
     },
     "metadata": {},
     "output_type": "display_data"
    },
    {
     "name": "stdout",
     "output_type": "stream",
     "text": [
      "Epoch: 1   Loss: 1.0129281282424927\n"
     ]
    },
    {
     "data": {
      "application/vnd.jupyter.widget-view+json": {
       "model_id": "",
       "version_major": 2,
       "version_minor": 0
      },
      "text/plain": [
       "HBox(children=(FloatProgress(value=0.0, description='Mini Batches', max=58.0, style=ProgressStyle(description_…"
      ]
     },
     "metadata": {},
     "output_type": "display_data"
    },
    {
     "name": "stdout",
     "output_type": "stream",
     "text": [
      "Epoch: 2   Loss: 0.9823620822922937\n"
     ]
    },
    {
     "data": {
      "application/vnd.jupyter.widget-view+json": {
       "model_id": "",
       "version_major": 2,
       "version_minor": 0
      },
      "text/plain": [
       "HBox(children=(FloatProgress(value=0.0, description='Mini Batches', max=58.0, style=ProgressStyle(description_…"
      ]
     },
     "metadata": {},
     "output_type": "display_data"
    },
    {
     "name": "stdout",
     "output_type": "stream",
     "text": [
      "Epoch: 3   Loss: 0.9548017958114887\n"
     ]
    },
    {
     "data": {
      "application/vnd.jupyter.widget-view+json": {
       "model_id": "",
       "version_major": 2,
       "version_minor": 0
      },
      "text/plain": [
       "HBox(children=(FloatProgress(value=0.0, description='Mini Batches', max=58.0, style=ProgressStyle(description_…"
      ]
     },
     "metadata": {},
     "output_type": "display_data"
    },
    {
     "name": "stdout",
     "output_type": "stream",
     "text": [
      "Epoch: 4   Loss: 0.9312157404833826\n"
     ]
    },
    {
     "data": {
      "application/vnd.jupyter.widget-view+json": {
       "model_id": "",
       "version_major": 2,
       "version_minor": 0
      },
      "text/plain": [
       "HBox(children=(FloatProgress(value=0.0, description='Mini Batches', max=58.0, style=ProgressStyle(description_…"
      ]
     },
     "metadata": {},
     "output_type": "display_data"
    },
    {
     "name": "stdout",
     "output_type": "stream",
     "text": [
      "Epoch: 5   Loss: 0.9109821370963392\n"
     ]
    },
    {
     "data": {
      "application/vnd.jupyter.widget-view+json": {
       "model_id": "",
       "version_major": 2,
       "version_minor": 0
      },
      "text/plain": [
       "HBox(children=(FloatProgress(value=0.0, description='Mini Batches', max=58.0, style=ProgressStyle(description_…"
      ]
     },
     "metadata": {},
     "output_type": "display_data"
    },
    {
     "name": "stdout",
     "output_type": "stream",
     "text": [
      "Epoch: 6   Loss: 0.8947026760413729\n"
     ]
    },
    {
     "data": {
      "application/vnd.jupyter.widget-view+json": {
       "model_id": "",
       "version_major": 2,
       "version_minor": 0
      },
      "text/plain": [
       "HBox(children=(FloatProgress(value=0.0, description='Mini Batches', max=58.0, style=ProgressStyle(description_…"
      ]
     },
     "metadata": {},
     "output_type": "display_data"
    },
    {
     "name": "stdout",
     "output_type": "stream",
     "text": [
      "Epoch: 7   Loss: 0.8783680467770018\n"
     ]
    },
    {
     "data": {
      "application/vnd.jupyter.widget-view+json": {
       "model_id": "",
       "version_major": 2,
       "version_minor": 0
      },
      "text/plain": [
       "HBox(children=(FloatProgress(value=0.0, description='Mini Batches', max=58.0, style=ProgressStyle(description_…"
      ]
     },
     "metadata": {},
     "output_type": "display_data"
    },
    {
     "name": "stdout",
     "output_type": "stream",
     "text": [
      "Epoch: 8   Loss: 0.86272849399468\n"
     ]
    },
    {
     "data": {
      "application/vnd.jupyter.widget-view+json": {
       "model_id": "",
       "version_major": 2,
       "version_minor": 0
      },
      "text/plain": [
       "HBox(children=(FloatProgress(value=0.0, description='Mini Batches', max=58.0, style=ProgressStyle(description_…"
      ]
     },
     "metadata": {},
     "output_type": "display_data"
    },
    {
     "name": "stdout",
     "output_type": "stream",
     "text": [
      "Epoch: 9   Loss: 0.8520051857520794\n"
     ]
    },
    {
     "data": {
      "application/vnd.jupyter.widget-view+json": {
       "model_id": "",
       "version_major": 2,
       "version_minor": 0
      },
      "text/plain": [
       "HBox(children=(FloatProgress(value=0.0, description='Mini Batches', max=58.0, style=ProgressStyle(description_…"
      ]
     },
     "metadata": {},
     "output_type": "display_data"
    },
    {
     "name": "stdout",
     "output_type": "stream",
     "text": [
      "Epoch: 10   Loss: 0.8470381549720106\n"
     ]
    },
    {
     "data": {
      "application/vnd.jupyter.widget-view+json": {
       "model_id": "",
       "version_major": 2,
       "version_minor": 0
      },
      "text/plain": [
       "HBox(children=(FloatProgress(value=0.0, description='Mini Batches', max=58.0, style=ProgressStyle(description_…"
      ]
     },
     "metadata": {},
     "output_type": "display_data"
    },
    {
     "name": "stdout",
     "output_type": "stream",
     "text": [
      "Epoch: 11   Loss: 0.8481435159157062\n"
     ]
    },
    {
     "data": {
      "application/vnd.jupyter.widget-view+json": {
       "model_id": "",
       "version_major": 2,
       "version_minor": 0
      },
      "text/plain": [
       "HBox(children=(FloatProgress(value=0.0, description='Mini Batches', max=58.0, style=ProgressStyle(description_…"
      ]
     },
     "metadata": {},
     "output_type": "display_data"
    },
    {
     "name": "stdout",
     "output_type": "stream",
     "text": [
      "Epoch: 12   Loss: 0.8502789704964079\n"
     ]
    },
    {
     "data": {
      "application/vnd.jupyter.widget-view+json": {
       "model_id": "",
       "version_major": 2,
       "version_minor": 0
      },
      "text/plain": [
       "HBox(children=(FloatProgress(value=0.0, description='Mini Batches', max=58.0, style=ProgressStyle(description_…"
      ]
     },
     "metadata": {},
     "output_type": "display_data"
    },
    {
     "name": "stdout",
     "output_type": "stream",
     "text": [
      "Epoch: 13   Loss: 0.8515230365868273\n"
     ]
    },
    {
     "data": {
      "application/vnd.jupyter.widget-view+json": {
       "model_id": "",
       "version_major": 2,
       "version_minor": 0
      },
      "text/plain": [
       "HBox(children=(FloatProgress(value=0.0, description='Mini Batches', max=58.0, style=ProgressStyle(description_…"
      ]
     },
     "metadata": {},
     "output_type": "display_data"
    },
    {
     "name": "stdout",
     "output_type": "stream",
     "text": [
      "Epoch: 14   Loss: 0.8512675885496468\n"
     ]
    },
    {
     "data": {
      "application/vnd.jupyter.widget-view+json": {
       "model_id": "",
       "version_major": 2,
       "version_minor": 0
      },
      "text/plain": [
       "HBox(children=(FloatProgress(value=0.0, description='Mini Batches', max=58.0, style=ProgressStyle(description_…"
      ]
     },
     "metadata": {},
     "output_type": "display_data"
    },
    {
     "name": "stdout",
     "output_type": "stream",
     "text": [
      "Epoch: 15   Loss: 0.8489969434409306\n"
     ]
    },
    {
     "data": {
      "application/vnd.jupyter.widget-view+json": {
       "model_id": "",
       "version_major": 2,
       "version_minor": 0
      },
      "text/plain": [
       "HBox(children=(FloatProgress(value=0.0, description='Mini Batches', max=58.0, style=ProgressStyle(description_…"
      ]
     },
     "metadata": {},
     "output_type": "display_data"
    },
    {
     "name": "stdout",
     "output_type": "stream",
     "text": [
      "Epoch: 16   Loss: 0.8478134233376076\n"
     ]
    },
    {
     "data": {
      "application/vnd.jupyter.widget-view+json": {
       "model_id": "",
       "version_major": 2,
       "version_minor": 0
      },
      "text/plain": [
       "HBox(children=(FloatProgress(value=0.0, description='Mini Batches', max=58.0, style=ProgressStyle(description_…"
      ]
     },
     "metadata": {},
     "output_type": "display_data"
    },
    {
     "name": "stdout",
     "output_type": "stream",
     "text": [
      "Epoch: 17   Loss: 0.846198373827441\n"
     ]
    },
    {
     "data": {
      "application/vnd.jupyter.widget-view+json": {
       "model_id": "",
       "version_major": 2,
       "version_minor": 0
      },
      "text/plain": [
       "HBox(children=(FloatProgress(value=0.0, description='Mini Batches', max=58.0, style=ProgressStyle(description_…"
      ]
     },
     "metadata": {},
     "output_type": "display_data"
    },
    {
     "name": "stdout",
     "output_type": "stream",
     "text": [
      "Epoch: 18   Loss: 0.8449307793173296\n"
     ]
    },
    {
     "data": {
      "application/vnd.jupyter.widget-view+json": {
       "model_id": "",
       "version_major": 2,
       "version_minor": 0
      },
      "text/plain": [
       "HBox(children=(FloatProgress(value=0.0, description='Mini Batches', max=58.0, style=ProgressStyle(description_…"
      ]
     },
     "metadata": {},
     "output_type": "display_data"
    },
    {
     "name": "stdout",
     "output_type": "stream",
     "text": [
      "Epoch: 19   Loss: 0.8451634337162149\n"
     ]
    },
    {
     "data": {
      "application/vnd.jupyter.widget-view+json": {
       "model_id": "",
       "version_major": 2,
       "version_minor": 0
      },
      "text/plain": [
       "HBox(children=(FloatProgress(value=0.0, description='Mini Batches', max=58.0, style=ProgressStyle(description_…"
      ]
     },
     "metadata": {},
     "output_type": "display_data"
    },
    {
     "name": "stdout",
     "output_type": "stream",
     "text": [
      "Epoch: 20   Loss: 0.8455629009625008\n"
     ]
    },
    {
     "data": {
      "application/vnd.jupyter.widget-view+json": {
       "model_id": "",
       "version_major": 2,
       "version_minor": 0
      },
      "text/plain": [
       "HBox(children=(FloatProgress(value=0.0, description='Mini Batches', max=58.0, style=ProgressStyle(description_…"
      ]
     },
     "metadata": {},
     "output_type": "display_data"
    },
    {
     "name": "stdout",
     "output_type": "stream",
     "text": [
      "Epoch: 21   Loss: 0.845378655811836\n"
     ]
    },
    {
     "data": {
      "application/vnd.jupyter.widget-view+json": {
       "model_id": "",
       "version_major": 2,
       "version_minor": 0
      },
      "text/plain": [
       "HBox(children=(FloatProgress(value=0.0, description='Mini Batches', max=58.0, style=ProgressStyle(description_…"
      ]
     },
     "metadata": {},
     "output_type": "display_data"
    },
    {
     "name": "stdout",
     "output_type": "stream",
     "text": [
      "Epoch: 22   Loss: 0.8451549749949883\n"
     ]
    },
    {
     "data": {
      "application/vnd.jupyter.widget-view+json": {
       "model_id": "",
       "version_major": 2,
       "version_minor": 0
      },
      "text/plain": [
       "HBox(children=(FloatProgress(value=0.0, description='Mini Batches', max=58.0, style=ProgressStyle(description_…"
      ]
     },
     "metadata": {},
     "output_type": "display_data"
    },
    {
     "name": "stdout",
     "output_type": "stream",
     "text": [
      "Epoch: 23   Loss: 0.8448008905197012\n"
     ]
    },
    {
     "data": {
      "application/vnd.jupyter.widget-view+json": {
       "model_id": "",
       "version_major": 2,
       "version_minor": 0
      },
      "text/plain": [
       "HBox(children=(FloatProgress(value=0.0, description='Mini Batches', max=58.0, style=ProgressStyle(description_…"
      ]
     },
     "metadata": {},
     "output_type": "display_data"
    },
    {
     "name": "stdout",
     "output_type": "stream",
     "text": [
      "Epoch: 24   Loss: 0.8442642113258099\n"
     ]
    },
    {
     "data": {
      "application/vnd.jupyter.widget-view+json": {
       "model_id": "",
       "version_major": 2,
       "version_minor": 0
      },
      "text/plain": [
       "HBox(children=(FloatProgress(value=0.0, description='Mini Batches', max=58.0, style=ProgressStyle(description_…"
      ]
     },
     "metadata": {},
     "output_type": "display_data"
    },
    {
     "name": "stdout",
     "output_type": "stream",
     "text": [
      "Epoch: 25   Loss: 0.8439782241295124\n"
     ]
    },
    {
     "data": {
      "application/vnd.jupyter.widget-view+json": {
       "model_id": "",
       "version_major": 2,
       "version_minor": 0
      },
      "text/plain": [
       "HBox(children=(FloatProgress(value=0.0, description='Mini Batches', max=58.0, style=ProgressStyle(description_…"
      ]
     },
     "metadata": {},
     "output_type": "display_data"
    },
    {
     "name": "stdout",
     "output_type": "stream",
     "text": [
      "Epoch: 26   Loss: 0.8428910703494631\n"
     ]
    },
    {
     "data": {
      "application/vnd.jupyter.widget-view+json": {
       "model_id": "",
       "version_major": 2,
       "version_minor": 0
      },
      "text/plain": [
       "HBox(children=(FloatProgress(value=0.0, description='Mini Batches', max=58.0, style=ProgressStyle(description_…"
      ]
     },
     "metadata": {},
     "output_type": "display_data"
    },
    {
     "name": "stdout",
     "output_type": "stream",
     "text": [
      "Epoch: 27   Loss: 0.842941872004805\n"
     ]
    },
    {
     "data": {
      "application/vnd.jupyter.widget-view+json": {
       "model_id": "",
       "version_major": 2,
       "version_minor": 0
      },
      "text/plain": [
       "HBox(children=(FloatProgress(value=0.0, description='Mini Batches', max=58.0, style=ProgressStyle(description_…"
      ]
     },
     "metadata": {},
     "output_type": "display_data"
    },
    {
     "name": "stdout",
     "output_type": "stream",
     "text": [
      "Epoch: 28   Loss: 0.8422977811303632\n"
     ]
    },
    {
     "data": {
      "application/vnd.jupyter.widget-view+json": {
       "model_id": "",
       "version_major": 2,
       "version_minor": 0
      },
      "text/plain": [
       "HBox(children=(FloatProgress(value=0.0, description='Mini Batches', max=58.0, style=ProgressStyle(description_…"
      ]
     },
     "metadata": {},
     "output_type": "display_data"
    },
    {
     "name": "stdout",
     "output_type": "stream",
     "text": [
      "Epoch: 29   Loss: 0.8425286175875828\n"
     ]
    },
    {
     "data": {
      "application/vnd.jupyter.widget-view+json": {
       "model_id": "",
       "version_major": 2,
       "version_minor": 0
      },
      "text/plain": [
       "HBox(children=(FloatProgress(value=0.0, description='Mini Batches', max=58.0, style=ProgressStyle(description_…"
      ]
     },
     "metadata": {},
     "output_type": "display_data"
    },
    {
     "name": "stdout",
     "output_type": "stream",
     "text": [
      "Epoch: 30   Loss: 0.8421097849977428\n"
     ]
    },
    {
     "data": {
      "application/vnd.jupyter.widget-view+json": {
       "model_id": "",
       "version_major": 2,
       "version_minor": 0
      },
      "text/plain": [
       "HBox(children=(FloatProgress(value=0.0, description='Mini Batches', max=58.0, style=ProgressStyle(description_…"
      ]
     },
     "metadata": {},
     "output_type": "display_data"
    },
    {
     "name": "stdout",
     "output_type": "stream",
     "text": [
      "Epoch: 31   Loss: 0.8423090988192065\n"
     ]
    },
    {
     "data": {
      "application/vnd.jupyter.widget-view+json": {
       "model_id": "",
       "version_major": 2,
       "version_minor": 0
      },
      "text/plain": [
       "HBox(children=(FloatProgress(value=0.0, description='Mini Batches', max=58.0, style=ProgressStyle(description_…"
      ]
     },
     "metadata": {},
     "output_type": "display_data"
    },
    {
     "name": "stdout",
     "output_type": "stream",
     "text": [
      "Epoch: 32   Loss: 0.8419725607181417\n"
     ]
    },
    {
     "data": {
      "application/vnd.jupyter.widget-view+json": {
       "model_id": "",
       "version_major": 2,
       "version_minor": 0
      },
      "text/plain": [
       "HBox(children=(FloatProgress(value=0.0, description='Mini Batches', max=58.0, style=ProgressStyle(description_…"
      ]
     },
     "metadata": {},
     "output_type": "display_data"
    },
    {
     "name": "stdout",
     "output_type": "stream",
     "text": [
      "Epoch: 33   Loss: 0.8425708700870645\n"
     ]
    },
    {
     "data": {
      "application/vnd.jupyter.widget-view+json": {
       "model_id": "",
       "version_major": 2,
       "version_minor": 0
      },
      "text/plain": [
       "HBox(children=(FloatProgress(value=0.0, description='Mini Batches', max=58.0, style=ProgressStyle(description_…"
      ]
     },
     "metadata": {},
     "output_type": "display_data"
    },
    {
     "name": "stdout",
     "output_type": "stream",
     "text": [
      "Epoch: 34   Loss: 0.8422551761413443\n"
     ]
    },
    {
     "data": {
      "application/vnd.jupyter.widget-view+json": {
       "model_id": "",
       "version_major": 2,
       "version_minor": 0
      },
      "text/plain": [
       "HBox(children=(FloatProgress(value=0.0, description='Mini Batches', max=58.0, style=ProgressStyle(description_…"
      ]
     },
     "metadata": {},
     "output_type": "display_data"
    },
    {
     "name": "stdout",
     "output_type": "stream",
     "text": [
      "Epoch: 35   Loss: 0.8424364297554411\n"
     ]
    },
    {
     "data": {
      "application/vnd.jupyter.widget-view+json": {
       "model_id": "",
       "version_major": 2,
       "version_minor": 0
      },
      "text/plain": [
       "HBox(children=(FloatProgress(value=0.0, description='Mini Batches', max=58.0, style=ProgressStyle(description_…"
      ]
     },
     "metadata": {},
     "output_type": "display_data"
    },
    {
     "name": "stdout",
     "output_type": "stream",
     "text": [
      "Epoch: 36   Loss: 0.8426623827424543\n"
     ]
    },
    {
     "data": {
      "application/vnd.jupyter.widget-view+json": {
       "model_id": "",
       "version_major": 2,
       "version_minor": 0
      },
      "text/plain": [
       "HBox(children=(FloatProgress(value=0.0, description='Mini Batches', max=58.0, style=ProgressStyle(description_…"
      ]
     },
     "metadata": {},
     "output_type": "display_data"
    },
    {
     "name": "stdout",
     "output_type": "stream",
     "text": [
      "Epoch: 37   Loss: 0.8425565947746408\n"
     ]
    },
    {
     "data": {
      "application/vnd.jupyter.widget-view+json": {
       "model_id": "",
       "version_major": 2,
       "version_minor": 0
      },
      "text/plain": [
       "HBox(children=(FloatProgress(value=0.0, description='Mini Batches', max=58.0, style=ProgressStyle(description_…"
      ]
     },
     "metadata": {},
     "output_type": "display_data"
    },
    {
     "name": "stdout",
     "output_type": "stream",
     "text": [
      "Epoch: 38   Loss: 0.8428442704266516\n"
     ]
    },
    {
     "data": {
      "application/vnd.jupyter.widget-view+json": {
       "model_id": "",
       "version_major": 2,
       "version_minor": 0
      },
      "text/plain": [
       "HBox(children=(FloatProgress(value=0.0, description='Mini Batches', max=58.0, style=ProgressStyle(description_…"
      ]
     },
     "metadata": {},
     "output_type": "display_data"
    },
    {
     "name": "stdout",
     "output_type": "stream",
     "text": [
      "Epoch: 39   Loss: 0.842435050627281\n"
     ]
    },
    {
     "data": {
      "application/vnd.jupyter.widget-view+json": {
       "model_id": "",
       "version_major": 2,
       "version_minor": 0
      },
      "text/plain": [
       "HBox(children=(FloatProgress(value=0.0, description='Mini Batches', max=58.0, style=ProgressStyle(description_…"
      ]
     },
     "metadata": {},
     "output_type": "display_data"
    },
    {
     "name": "stdout",
     "output_type": "stream",
     "text": [
      "Epoch: 40   Loss: 0.8420717212660559\n"
     ]
    },
    {
     "data": {
      "application/vnd.jupyter.widget-view+json": {
       "model_id": "",
       "version_major": 2,
       "version_minor": 0
      },
      "text/plain": [
       "HBox(children=(FloatProgress(value=0.0, description='Mini Batches', max=58.0, style=ProgressStyle(description_…"
      ]
     },
     "metadata": {},
     "output_type": "display_data"
    },
    {
     "name": "stdout",
     "output_type": "stream",
     "text": [
      "Epoch: 41   Loss: 0.8421259594374689\n"
     ]
    },
    {
     "data": {
      "application/vnd.jupyter.widget-view+json": {
       "model_id": "",
       "version_major": 2,
       "version_minor": 0
      },
      "text/plain": [
       "HBox(children=(FloatProgress(value=0.0, description='Mini Batches', max=58.0, style=ProgressStyle(description_…"
      ]
     },
     "metadata": {},
     "output_type": "display_data"
    },
    {
     "name": "stdout",
     "output_type": "stream",
     "text": [
      "Epoch: 42   Loss: 0.8420003765615923\n"
     ]
    },
    {
     "data": {
      "application/vnd.jupyter.widget-view+json": {
       "model_id": "",
       "version_major": 2,
       "version_minor": 0
      },
      "text/plain": [
       "HBox(children=(FloatProgress(value=0.0, description='Mini Batches', max=58.0, style=ProgressStyle(description_…"
      ]
     },
     "metadata": {},
     "output_type": "display_data"
    },
    {
     "name": "stdout",
     "output_type": "stream",
     "text": [
      "Epoch: 43   Loss: 0.8415917199233482\n"
     ]
    },
    {
     "data": {
      "application/vnd.jupyter.widget-view+json": {
       "model_id": "",
       "version_major": 2,
       "version_minor": 0
      },
      "text/plain": [
       "HBox(children=(FloatProgress(value=0.0, description='Mini Batches', max=58.0, style=ProgressStyle(description_…"
      ]
     },
     "metadata": {},
     "output_type": "display_data"
    },
    {
     "name": "stdout",
     "output_type": "stream",
     "text": [
      "Epoch: 44   Loss: 0.8419850663892154\n"
     ]
    },
    {
     "data": {
      "application/vnd.jupyter.widget-view+json": {
       "model_id": "",
       "version_major": 2,
       "version_minor": 0
      },
      "text/plain": [
       "HBox(children=(FloatProgress(value=0.0, description='Mini Batches', max=58.0, style=ProgressStyle(description_…"
      ]
     },
     "metadata": {},
     "output_type": "display_data"
    },
    {
     "name": "stdout",
     "output_type": "stream",
     "text": [
      "Epoch: 45   Loss: 0.8418702442070534\n"
     ]
    },
    {
     "data": {
      "application/vnd.jupyter.widget-view+json": {
       "model_id": "",
       "version_major": 2,
       "version_minor": 0
      },
      "text/plain": [
       "HBox(children=(FloatProgress(value=0.0, description='Mini Batches', max=58.0, style=ProgressStyle(description_…"
      ]
     },
     "metadata": {},
     "output_type": "display_data"
    },
    {
     "name": "stdout",
     "output_type": "stream",
     "text": [
      "Epoch: 46   Loss: 0.8413316350558708\n"
     ]
    },
    {
     "data": {
      "application/vnd.jupyter.widget-view+json": {
       "model_id": "",
       "version_major": 2,
       "version_minor": 0
      },
      "text/plain": [
       "HBox(children=(FloatProgress(value=0.0, description='Mini Batches', max=58.0, style=ProgressStyle(description_…"
      ]
     },
     "metadata": {},
     "output_type": "display_data"
    },
    {
     "name": "stdout",
     "output_type": "stream",
     "text": [
      "Epoch: 47   Loss: 0.8418287049079763\n"
     ]
    },
    {
     "data": {
      "application/vnd.jupyter.widget-view+json": {
       "model_id": "",
       "version_major": 2,
       "version_minor": 0
      },
      "text/plain": [
       "HBox(children=(FloatProgress(value=0.0, description='Mini Batches', max=58.0, style=ProgressStyle(description_…"
      ]
     },
     "metadata": {},
     "output_type": "display_data"
    },
    {
     "name": "stdout",
     "output_type": "stream",
     "text": [
      "Epoch: 48   Loss: 0.8414569661535066\n"
     ]
    },
    {
     "data": {
      "application/vnd.jupyter.widget-view+json": {
       "model_id": "",
       "version_major": 2,
       "version_minor": 0
      },
      "text/plain": [
       "HBox(children=(FloatProgress(value=0.0, description='Mini Batches', max=58.0, style=ProgressStyle(description_…"
      ]
     },
     "metadata": {},
     "output_type": "display_data"
    },
    {
     "name": "stdout",
     "output_type": "stream",
     "text": [
      "Epoch: 49   Loss: 0.8416710084882276\n"
     ]
    },
    {
     "data": {
      "application/vnd.jupyter.widget-view+json": {
       "model_id": "",
       "version_major": 2,
       "version_minor": 0
      },
      "text/plain": [
       "HBox(children=(FloatProgress(value=0.0, description='Mini Batches', max=58.0, style=ProgressStyle(description_…"
      ]
     },
     "metadata": {},
     "output_type": "display_data"
    },
    {
     "name": "stdout",
     "output_type": "stream",
     "text": [
      "Epoch: 50   Loss: 0.8414449815092415\n",
      "\n"
     ]
    }
   ],
   "source": [
    "epoch_losses = []\n",
    "lrs = []\n",
    "#iteration_losses = []\n",
    "use_slack = False\n",
    "check_loss = True\n",
    "\n",
    "X_check, Y_check, Y_pred_check, losses_check = [], [], [], []\n",
    "for e in tqdm(range(1, epochs+1), desc=\"Epochs\"):\n",
    "    \n",
    "    epoch_loss = 0\n",
    "    \n",
    "    for mb_X, mb_Y in tqdm(train_loader, desc=\"Mini Batches\", total=len(train_loader), leave=False):\n",
    "        \n",
    "        # mb_X, mb_Y -> shape: [batch_size, dim]\n",
    "        mb_X = mb_X.float().unsqueeze(2)\n",
    "        mb_Y = mb_Y.float().unsqueeze(2)\n",
    "        # mb_X, mb_Y -> shape: [batch_size, seq_len, input_size]\n",
    "        \n",
    "        mb_Y_pred = net.forward(mb_X)\n",
    "        mb_Y_pred = mb_Y_pred.reshape(mb_Y.shape)\n",
    "        mb_loss = loss_fn(mb_Y.flatten(), mb_Y_pred.flatten())\n",
    "        \n",
    "        optimizer.zero_grad()\n",
    "        mb_loss.backward()\n",
    "        \n",
    "        epoch_loss += mb_loss.item()\n",
    "        #iteration_losses.append(mb_loss.item())\n",
    "        \n",
    "        if check_loss:\n",
    "            idx = np.random.choice(range(mb_X.shape[0]))\n",
    "            x_check = mb_X[idx].tolist()\n",
    "            y_check = mb_Y[idx].tolist()\n",
    "            y_pred_check = mb_Y_pred[idx].tolist()\n",
    "            loss_check = loss_fn(torch.tensor([y_check]), torch.tensor([y_pred_check])).item()\n",
    "            X_check.append(x_check)\n",
    "            Y_check.append(y_check)\n",
    "            Y_pred_check.append(y_pred_check)\n",
    "            losses_check.append(loss_check)\n",
    "    \n",
    "    optimizer.step()\n",
    "        \n",
    "    epoch_loss /= len(train_loader)\n",
    "    epoch_losses.append(epoch_loss)\n",
    "    lrs.append(optimizer.param_groups[0]['lr'])\n",
    "    \n",
    "    lr_scheduler.step()\n",
    "    \n",
    "    message = \"Epoch: {}   Loss: {}\".format(e, epoch_loss)\n",
    "    print(message)\n",
    "    \n",
    "    if use_slack:\n",
    "        send_message(slack_client, slack_channel, message)"
   ]
  },
  {
   "cell_type": "code",
   "execution_count": 91,
   "metadata": {},
   "outputs": [
    {
     "data": {
      "image/png": "[encoded data removed]",
      "text/plain": [
       "<Figure size 432x288 with 1 Axes>"
      ]
     },
     "metadata": {
      "needs_background": "light"
     },
     "output_type": "display_data"
    }
   ],
   "source": [
    "plt.plot(epoch_losses, linestyle='--', marker='o')\n",
    "plt.xlabel(\"Epochs\")\n",
    "plt.ylabel(\"Loss\")\n",
    "plt.show()"
   ]
  },
  {
   "cell_type": "code",
   "execution_count": 92,
   "metadata": {},
   "outputs": [
    {
     "data": {
      "image/png": "[encoded data removed]",
      "text/plain": [
       "<Figure size 432x288 with 1 Axes>"
      ]
     },
     "metadata": {
      "needs_background": "light"
     },
     "output_type": "display_data"
    }
   ],
   "source": [
    "plt.plot(lrs, linestyle='--', marker='o')\n",
    "plt.xlabel(\"Epochs\")\n",
    "plt.ylabel(\"LR\")\n",
    "plt.show()"
   ]
  },
  {
   "cell_type": "code",
   "execution_count": 93,
   "metadata": {},
   "outputs": [],
   "source": [
    "# understand loss\n",
    "def understand_loss(idx=0):\n",
    "    x_check, y_check, y_pred_check = [0], [], []\n",
    "    for t in range(1, 71):\n",
    "        col = 'seg_{}_tt'.format(t-1)\n",
    "        if t != 1:\n",
    "            x_check_t = scalers[col].inverse_transform(np.array(X_check[idx][t-1]).reshape(-1,1))[0][0]\n",
    "            x_check.append(round(x_check_t))\n",
    "        col = 'seg_{}_tt'.format(t)\n",
    "        y_check_t = scalers[col].inverse_transform(np.array(Y_check[idx][t-1]).reshape(-1,1))[0][0]\n",
    "        y_pred_check_t = scalers[col].inverse_transform(np.array(Y_pred_check[idx][t-1]).reshape(-1,1))[0][0]\n",
    "        y_check.append(round(y_check_t))\n",
    "        y_pred_check.append(round(y_pred_check_t))\n",
    "    loss_check = losses_check[idx]\n",
    "    #print(x_check, '\\n')\n",
    "    print(y_check, '\\n')\n",
    "    print(y_pred_check, '\\n')\n",
    "    print(\"Original MAE:\", mean_absolute_error(y_check, y_pred_check))\n",
    "    print(\"Original RMSE:\", np.sqrt(mean_squared_error(y_check, y_pred_check)))\n",
    "    print(\"Original MSE:\", mean_squared_error(y_check, y_pred_check))\n",
    "    print(\"Loss:\", loss_check)"
   ]
  },
  {
   "cell_type": "code",
   "execution_count": 94,
   "metadata": {},
   "outputs": [
    {
     "name": "stdout",
     "output_type": "stream",
     "text": [
      "[118.0, 51.0, 31.0, 27.0, 34.0, 64.0, 40.0, 32.0, 30.0, 34.0, 35.0, 41.0, 41.0, 66.0, 28.0, 178.0, 39.0, 95.0, 58.0, 38.0, 64.0, 32.0, 25.0, 25.0, 33.0, 58.0, 68.0, 28.0, 63.0, 32.0, 34.0, 26.0, 76.0, 70.0, 157.0, 29.0, 59.0, 30.0, 25.0, 27.0, 79.0, 34.0, 74.0, 34.0, 54.0, 38.0, 51.0, 41.0, 54.0, 83.0, 30.0, 92.0, 58.0, 26.0, 24.0, 25.0, 54.0, 108.0, 136.0, 46.0, 25.0, 25.0, 24.0, 33.0, 56.0, 35.0, 51.0, 29.0, 24.0, 29.0] \n",
      "\n",
      "[155.0, 51.0, 32.0, 52.0, 49.0, 62.0, 36.0, 29.0, 27.0, 29.0, 45.0, 30.0, 32.0, 66.0, 33.0, 75.0, 41.0, 67.0, 43.0, 34.0, 32.0, 45.0, 35.0, 28.0, 29.0, 49.0, 56.0, 29.0, 50.0, 33.0, 49.0, 33.0, 91.0, 86.0, 99.0, 34.0, 55.0, 36.0, 31.0, 31.0, 52.0, 34.0, 60.0, 37.0, 55.0, 34.0, 69.0, 71.0, 54.0, 65.0, 57.0, 79.0, 68.0, 33.0, 32.0, 38.0, 100.0, 113.0, 123.0, 51.0, 33.0, 43.0, 31.0, 50.0, 71.0, 71.0, 66.0, 40.0, 34.0, 43.0] \n",
      "\n",
      "Original MAE: 13.271428571428572\n",
      "Original RMSE: 20.42862137856031\n",
      "Original MSE: 417.3285714285714\n",
      "Loss: 1.1096830368041992\n"
     ]
    }
   ],
   "source": [
    "understand_loss(1)"
   ]
  },
  {
   "cell_type": "code",
   "execution_count": 95,
   "metadata": {},
   "outputs": [],
   "source": [
    "torch.save(net.state_dict(), os.path.join(MODELS_FOLDER, 'model_{}.pth'.format(DATA_ID)))"
   ]
  },
  {
   "cell_type": "markdown",
   "metadata": {},
   "source": [
    "## 2.6 Make Predictions"
   ]
  },
  {
   "cell_type": "code",
   "execution_count": 26,
   "metadata": {},
   "outputs": [],
   "source": [
    "net = Net(input_size=input_size, hidden_size=hidden_size, num_layers=num_layers, output_size=output_size)\n",
    "net.load_state_dict(torch.load(os.path.join(MODELS_FOLDER, 'model_{}.pth'.format(DATA_ID))))\n",
    "net = net.float()\n",
    "loss_fn = nn.MSELoss(reduction=\"mean\")"
   ]
  },
  {
   "cell_type": "code",
   "execution_count": 27,
   "metadata": {},
   "outputs": [
    {
     "name": "stdout",
     "output_type": "stream",
     "text": [
      "(305, 77)\n"
     ]
    },
    {
     "data": {
      "text/html": [
       "<div>\n",
       "<style scoped>\n",
       "    .dataframe tbody tr th:only-of-type {\n",
       "        vertical-align: middle;\n",
       "    }\n",
       "\n",
       "    .dataframe tbody tr th {\n",
       "        vertical-align: top;\n",
       "    }\n",
       "\n",
       "    .dataframe thead th {\n",
       "        text-align: right;\n",
       "    }\n",
       "</style>\n",
       "<table border=\"1\" class=\"dataframe\">\n",
       "  <thead>\n",
       "    <tr style=\"text-align: right;\">\n",
       "      <th></th>\n",
       "      <th>start_date</th>\n",
       "      <th>unk_1</th>\n",
       "      <th>unk_2</th>\n",
       "      <th>start_time</th>\n",
       "      <th>unk_3</th>\n",
       "      <th>seg_1_tt</th>\n",
       "      <th>seg_2_tt</th>\n",
       "      <th>seg_3_tt</th>\n",
       "      <th>seg_4_tt</th>\n",
       "      <th>seg_5_tt</th>\n",
       "      <th>...</th>\n",
       "      <th>seg_63_tt</th>\n",
       "      <th>seg_64_tt</th>\n",
       "      <th>seg_65_tt</th>\n",
       "      <th>seg_66_tt</th>\n",
       "      <th>seg_67_tt</th>\n",
       "      <th>seg_68_tt</th>\n",
       "      <th>seg_69_tt</th>\n",
       "      <th>seg_70_tt</th>\n",
       "      <th>start_datetime</th>\n",
       "      <th>start_time_seconds</th>\n",
       "    </tr>\n",
       "  </thead>\n",
       "  <tbody>\n",
       "    <tr>\n",
       "      <th>0</th>\n",
       "      <td>2013-10-11</td>\n",
       "      <td>6</td>\n",
       "      <td>1</td>\n",
       "      <td>05:03:00</td>\n",
       "      <td>18180</td>\n",
       "      <td>-1.023152</td>\n",
       "      <td>0.103971</td>\n",
       "      <td>1.380221</td>\n",
       "      <td>-1.237864</td>\n",
       "      <td>-1.299232</td>\n",
       "      <td>...</td>\n",
       "      <td>2.785487</td>\n",
       "      <td>-0.294097</td>\n",
       "      <td>-0.932376</td>\n",
       "      <td>-0.838540</td>\n",
       "      <td>-0.462937</td>\n",
       "      <td>0.218591</td>\n",
       "      <td>0.201456</td>\n",
       "      <td>-0.201606</td>\n",
       "      <td>2013-10-11 05:03:00</td>\n",
       "      <td>18180</td>\n",
       "    </tr>\n",
       "    <tr>\n",
       "      <th>1</th>\n",
       "      <td>2013-10-11</td>\n",
       "      <td>6</td>\n",
       "      <td>2</td>\n",
       "      <td>06:38:00</td>\n",
       "      <td>23880</td>\n",
       "      <td>-0.540995</td>\n",
       "      <td>-0.725245</td>\n",
       "      <td>-0.162125</td>\n",
       "      <td>-1.644795</td>\n",
       "      <td>-0.025278</td>\n",
       "      <td>...</td>\n",
       "      <td>-0.480079</td>\n",
       "      <td>-0.373250</td>\n",
       "      <td>-0.860074</td>\n",
       "      <td>-1.185777</td>\n",
       "      <td>-0.639828</td>\n",
       "      <td>-0.721850</td>\n",
       "      <td>-0.860155</td>\n",
       "      <td>-0.841548</td>\n",
       "      <td>2013-10-11 06:38:00</td>\n",
       "      <td>23880</td>\n",
       "    </tr>\n",
       "    <tr>\n",
       "      <th>2</th>\n",
       "      <td>2013-10-11</td>\n",
       "      <td>6</td>\n",
       "      <td>3</td>\n",
       "      <td>06:49:00</td>\n",
       "      <td>24540</td>\n",
       "      <td>-1.484837</td>\n",
       "      <td>-1.437204</td>\n",
       "      <td>-1.047458</td>\n",
       "      <td>-1.773325</td>\n",
       "      <td>-1.039790</td>\n",
       "      <td>...</td>\n",
       "      <td>-0.534962</td>\n",
       "      <td>-0.083660</td>\n",
       "      <td>-0.882896</td>\n",
       "      <td>-0.234178</td>\n",
       "      <td>-0.601897</td>\n",
       "      <td>-0.833256</td>\n",
       "      <td>-0.176009</td>\n",
       "      <td>-0.592047</td>\n",
       "      <td>2013-10-11 06:49:00</td>\n",
       "      <td>24540</td>\n",
       "    </tr>\n",
       "    <tr>\n",
       "      <th>3</th>\n",
       "      <td>2013-10-11</td>\n",
       "      <td>6</td>\n",
       "      <td>4</td>\n",
       "      <td>06:53:00</td>\n",
       "      <td>24780</td>\n",
       "      <td>-0.841161</td>\n",
       "      <td>-0.852216</td>\n",
       "      <td>-0.557772</td>\n",
       "      <td>-1.545491</td>\n",
       "      <td>-1.195560</td>\n",
       "      <td>...</td>\n",
       "      <td>-0.301988</td>\n",
       "      <td>-0.233697</td>\n",
       "      <td>-0.585380</td>\n",
       "      <td>-0.990118</td>\n",
       "      <td>-0.749862</td>\n",
       "      <td>-0.199422</td>\n",
       "      <td>-0.158360</td>\n",
       "      <td>-0.669247</td>\n",
       "      <td>2013-10-11 06:53:00</td>\n",
       "      <td>24780</td>\n",
       "    </tr>\n",
       "    <tr>\n",
       "      <th>4</th>\n",
       "      <td>2013-10-11</td>\n",
       "      <td>6</td>\n",
       "      <td>5</td>\n",
       "      <td>06:59:00</td>\n",
       "      <td>25140</td>\n",
       "      <td>0.466863</td>\n",
       "      <td>0.250123</td>\n",
       "      <td>0.023047</td>\n",
       "      <td>-0.064661</td>\n",
       "      <td>-1.267991</td>\n",
       "      <td>...</td>\n",
       "      <td>-0.354902</td>\n",
       "      <td>-0.802548</td>\n",
       "      <td>-0.624569</td>\n",
       "      <td>-1.120485</td>\n",
       "      <td>-0.348412</td>\n",
       "      <td>-0.003875</td>\n",
       "      <td>-0.492007</td>\n",
       "      <td>-0.813450</td>\n",
       "      <td>2013-10-11 06:59:00</td>\n",
       "      <td>25140</td>\n",
       "    </tr>\n",
       "  </tbody>\n",
       "</table>\n",
       "<p>5 rows × 77 columns</p>\n",
       "</div>"
      ],
      "text/plain": [
       "   start_date  unk_1  unk_2 start_time  unk_3  seg_1_tt  seg_2_tt  seg_3_tt  \\\n",
       "0  2013-10-11      6      1   05:03:00  18180 -1.023152  0.103971  1.380221   \n",
       "1  2013-10-11      6      2   06:38:00  23880 -0.540995 -0.725245 -0.162125   \n",
       "2  2013-10-11      6      3   06:49:00  24540 -1.484837 -1.437204 -1.047458   \n",
       "3  2013-10-11      6      4   06:53:00  24780 -0.841161 -0.852216 -0.557772   \n",
       "4  2013-10-11      6      5   06:59:00  25140  0.466863  0.250123  0.023047   \n",
       "\n",
       "   seg_4_tt  seg_5_tt  ...  seg_63_tt  seg_64_tt  seg_65_tt  seg_66_tt  \\\n",
       "0 -1.237864 -1.299232  ...   2.785487  -0.294097  -0.932376  -0.838540   \n",
       "1 -1.644795 -0.025278  ...  -0.480079  -0.373250  -0.860074  -1.185777   \n",
       "2 -1.773325 -1.039790  ...  -0.534962  -0.083660  -0.882896  -0.234178   \n",
       "3 -1.545491 -1.195560  ...  -0.301988  -0.233697  -0.585380  -0.990118   \n",
       "4 -0.064661 -1.267991  ...  -0.354902  -0.802548  -0.624569  -1.120485   \n",
       "\n",
       "   seg_67_tt  seg_68_tt  seg_69_tt  seg_70_tt       start_datetime  \\\n",
       "0  -0.462937   0.218591   0.201456  -0.201606  2013-10-11 05:03:00   \n",
       "1  -0.639828  -0.721850  -0.860155  -0.841548  2013-10-11 06:38:00   \n",
       "2  -0.601897  -0.833256  -0.176009  -0.592047  2013-10-11 06:49:00   \n",
       "3  -0.749862  -0.199422  -0.158360  -0.669247  2013-10-11 06:53:00   \n",
       "4  -0.348412  -0.003875  -0.492007  -0.813450  2013-10-11 06:59:00   \n",
       "\n",
       "   start_time_seconds  \n",
       "0               18180  \n",
       "1               23880  \n",
       "2               24540  \n",
       "3               24780  \n",
       "4               25140  \n",
       "\n",
       "[5 rows x 77 columns]"
      ]
     },
     "execution_count": 27,
     "metadata": {},
     "output_type": "execute_result"
    }
   ],
   "source": [
    "test_data_path = os.path.join(FORMATTED_DATA_FOLDER, 'data_test_{}.csv'.format(DATA_ID))\n",
    "test_data = pd.read_csv(test_data_path)\n",
    "print(test_data.shape)\n",
    "test_data.head()"
   ]
  },
  {
   "cell_type": "code",
   "execution_count": 28,
   "metadata": {},
   "outputs": [
    {
     "name": "stdout",
     "output_type": "stream",
     "text": [
      "[45, 50, 55, 60, 65, 70]\n"
     ]
    }
   ],
   "source": [
    "end_segs = list(range(45, 71, 5))\n",
    "print(end_segs)"
   ]
  },
  {
   "cell_type": "code",
   "execution_count": 29,
   "metadata": {},
   "outputs": [
    {
     "data": {
      "application/vnd.jupyter.widget-view+json": {
       "model_id": "2de602c8e711493390a9c6255a2f0816",
       "version_major": 2,
       "version_minor": 0
      },
      "text/plain": [
       "HBox(children=(FloatProgress(value=0.0, max=305.0), HTML(value='')))"
      ]
     },
     "metadata": {},
     "output_type": "display_data"
    },
    {
     "data": {
      "application/vnd.jupyter.widget-view+json": {
       "model_id": "",
       "version_major": 2,
       "version_minor": 0
      },
      "text/plain": [
       "HBox(children=(FloatProgress(value=0.0, description='Iterating end segments:', max=6.0, style=ProgressStyle(de…"
      ]
     },
     "metadata": {},
     "output_type": "display_data"
    },
    {
     "data": {
      "application/vnd.jupyter.widget-view+json": {
       "model_id": "",
       "version_major": 2,
       "version_minor": 0
      },
      "text/plain": [
       "HBox(children=(FloatProgress(value=0.0, description='Iterating end segments:', max=6.0, style=ProgressStyle(de…"
      ]
     },
     "metadata": {},
     "output_type": "display_data"
    },
    {
     "data": {
      "application/vnd.jupyter.widget-view+json": {
       "model_id": "",
       "version_major": 2,
       "version_minor": 0
      },
      "text/plain": [
       "HBox(children=(FloatProgress(value=0.0, description='Iterating end segments:', max=6.0, style=ProgressStyle(de…"
      ]
     },
     "metadata": {},
     "output_type": "display_data"
    },
    {
     "data": {
      "application/vnd.jupyter.widget-view+json": {
       "model_id": "",
       "version_major": 2,
       "version_minor": 0
      },
      "text/plain": [
       "HBox(children=(FloatProgress(value=0.0, description='Iterating end segments:', max=6.0, style=ProgressStyle(de…"
      ]
     },
     "metadata": {},
     "output_type": "display_data"
    },
    {
     "data": {
      "application/vnd.jupyter.widget-view+json": {
       "model_id": "",
       "version_major": 2,
       "version_minor": 0
      },
      "text/plain": [
       "HBox(children=(FloatProgress(value=0.0, description='Iterating end segments:', max=6.0, style=ProgressStyle(de…"
      ]
     },
     "metadata": {},
     "output_type": "display_data"
    },
    {
     "data": {
      "application/vnd.jupyter.widget-view+json": {
       "model_id": "",
       "version_major": 2,
       "version_minor": 0
      },
      "text/plain": [
       "HBox(children=(FloatProgress(value=0.0, description='Iterating end segments:', max=6.0, style=ProgressStyle(de…"
      ]
     },
     "metadata": {},
     "output_type": "display_data"
    },
    {
     "data": {
      "application/vnd.jupyter.widget-view+json": {
       "model_id": "",
       "version_major": 2,
       "version_minor": 0
      },
      "text/plain": [
       "HBox(children=(FloatProgress(value=0.0, description='Iterating end segments:', max=6.0, style=ProgressStyle(de…"
      ]
     },
     "metadata": {},
     "output_type": "display_data"
    },
    {
     "data": {
      "application/vnd.jupyter.widget-view+json": {
       "model_id": "",
       "version_major": 2,
       "version_minor": 0
      },
      "text/plain": [
       "HBox(children=(FloatProgress(value=0.0, description='Iterating end segments:', max=6.0, style=ProgressStyle(de…"
      ]
     },
     "metadata": {},
     "output_type": "display_data"
    },
    {
     "data": {
      "application/vnd.jupyter.widget-view+json": {
       "model_id": "",
       "version_major": 2,
       "version_minor": 0
      },
      "text/plain": [
       "HBox(children=(FloatProgress(value=0.0, description='Iterating end segments:', max=6.0, style=ProgressStyle(de…"
      ]
     },
     "metadata": {},
     "output_type": "display_data"
    },
    {
     "data": {
      "application/vnd.jupyter.widget-view+json": {
       "model_id": "",
       "version_major": 2,
       "version_minor": 0
      },
      "text/plain": [
       "HBox(children=(FloatProgress(value=0.0, description='Iterating end segments:', max=6.0, style=ProgressStyle(de…"
      ]
     },
     "metadata": {},
     "output_type": "display_data"
    },
    {
     "data": {
      "application/vnd.jupyter.widget-view+json": {
       "model_id": "",
       "version_major": 2,
       "version_minor": 0
      },
      "text/plain": [
       "HBox(children=(FloatProgress(value=0.0, description='Iterating end segments:', max=6.0, style=ProgressStyle(de…"
      ]
     },
     "metadata": {},
     "output_type": "display_data"
    },
    {
     "data": {
      "application/vnd.jupyter.widget-view+json": {
       "model_id": "",
       "version_major": 2,
       "version_minor": 0
      },
      "text/plain": [
       "HBox(children=(FloatProgress(value=0.0, description='Iterating end segments:', max=6.0, style=ProgressStyle(de…"
      ]
     },
     "metadata": {},
     "output_type": "display_data"
    },
    {
     "data": {
      "application/vnd.jupyter.widget-view+json": {
       "model_id": "",
       "version_major": 2,
       "version_minor": 0
      },
      "text/plain": [
       "HBox(children=(FloatProgress(value=0.0, description='Iterating end segments:', max=6.0, style=ProgressStyle(de…"
      ]
     },
     "metadata": {},
     "output_type": "display_data"
    },
    {
     "data": {
      "application/vnd.jupyter.widget-view+json": {
       "model_id": "",
       "version_major": 2,
       "version_minor": 0
      },
      "text/plain": [
       "HBox(children=(FloatProgress(value=0.0, description='Iterating end segments:', max=6.0, style=ProgressStyle(de…"
      ]
     },
     "metadata": {},
     "output_type": "display_data"
    },
    {
     "data": {
      "application/vnd.jupyter.widget-view+json": {
       "model_id": "",
       "version_major": 2,
       "version_minor": 0
      },
      "text/plain": [
       "HBox(children=(FloatProgress(value=0.0, description='Iterating end segments:', max=6.0, style=ProgressStyle(de…"
      ]
     },
     "metadata": {},
     "output_type": "display_data"
    },
    {
     "data": {
      "application/vnd.jupyter.widget-view+json": {
       "model_id": "",
       "version_major": 2,
       "version_minor": 0
      },
      "text/plain": [
       "HBox(children=(FloatProgress(value=0.0, description='Iterating end segments:', max=6.0, style=ProgressStyle(de…"
      ]
     },
     "metadata": {},
     "output_type": "display_data"
    },
    {
     "data": {
      "application/vnd.jupyter.widget-view+json": {
       "model_id": "",
       "version_major": 2,
       "version_minor": 0
      },
      "text/plain": [
       "HBox(children=(FloatProgress(value=0.0, description='Iterating end segments:', max=6.0, style=ProgressStyle(de…"
      ]
     },
     "metadata": {},
     "output_type": "display_data"
    },
    {
     "data": {
      "application/vnd.jupyter.widget-view+json": {
       "model_id": "",
       "version_major": 2,
       "version_minor": 0
      },
      "text/plain": [
       "HBox(children=(FloatProgress(value=0.0, description='Iterating end segments:', max=6.0, style=ProgressStyle(de…"
      ]
     },
     "metadata": {},
     "output_type": "display_data"
    },
    {
     "data": {
      "application/vnd.jupyter.widget-view+json": {
       "model_id": "",
       "version_major": 2,
       "version_minor": 0
      },
      "text/plain": [
       "HBox(children=(FloatProgress(value=0.0, description='Iterating end segments:', max=6.0, style=ProgressStyle(de…"
      ]
     },
     "metadata": {},
     "output_type": "display_data"
    },
    {
     "data": {
      "application/vnd.jupyter.widget-view+json": {
       "model_id": "",
       "version_major": 2,
       "version_minor": 0
      },
      "text/plain": [
       "HBox(children=(FloatProgress(value=0.0, description='Iterating end segments:', max=6.0, style=ProgressStyle(de…"
      ]
     },
     "metadata": {},
     "output_type": "display_data"
    },
    {
     "data": {
      "application/vnd.jupyter.widget-view+json": {
       "model_id": "",
       "version_major": 2,
       "version_minor": 0
      },
      "text/plain": [
       "HBox(children=(FloatProgress(value=0.0, description='Iterating end segments:', max=6.0, style=ProgressStyle(de…"
      ]
     },
     "metadata": {},
     "output_type": "display_data"
    },
    {
     "data": {
      "application/vnd.jupyter.widget-view+json": {
       "model_id": "",
       "version_major": 2,
       "version_minor": 0
      },
      "text/plain": [
       "HBox(children=(FloatProgress(value=0.0, description='Iterating end segments:', max=6.0, style=ProgressStyle(de…"
      ]
     },
     "metadata": {},
     "output_type": "display_data"
    },
    {
     "data": {
      "application/vnd.jupyter.widget-view+json": {
       "model_id": "",
       "version_major": 2,
       "version_minor": 0
      },
      "text/plain": [
       "HBox(children=(FloatProgress(value=0.0, description='Iterating end segments:', max=6.0, style=ProgressStyle(de…"
      ]
     },
     "metadata": {},
     "output_type": "display_data"
    },
    {
     "data": {
      "application/vnd.jupyter.widget-view+json": {
       "model_id": "",
       "version_major": 2,
       "version_minor": 0
      },
      "text/plain": [
       "HBox(children=(FloatProgress(value=0.0, description='Iterating end segments:', max=6.0, style=ProgressStyle(de…"
      ]
     },
     "metadata": {},
     "output_type": "display_data"
    },
    {
     "data": {
      "application/vnd.jupyter.widget-view+json": {
       "model_id": "",
       "version_major": 2,
       "version_minor": 0
      },
      "text/plain": [
       "HBox(children=(FloatProgress(value=0.0, description='Iterating end segments:', max=6.0, style=ProgressStyle(de…"
      ]
     },
     "metadata": {},
     "output_type": "display_data"
    },
    {
     "data": {
      "application/vnd.jupyter.widget-view+json": {
       "model_id": "",
       "version_major": 2,
       "version_minor": 0
      },
      "text/plain": [
       "HBox(children=(FloatProgress(value=0.0, description='Iterating end segments:', max=6.0, style=ProgressStyle(de…"
      ]
     },
     "metadata": {},
     "output_type": "display_data"
    },
    {
     "data": {
      "application/vnd.jupyter.widget-view+json": {
       "model_id": "",
       "version_major": 2,
       "version_minor": 0
      },
      "text/plain": [
       "HBox(children=(FloatProgress(value=0.0, description='Iterating end segments:', max=6.0, style=ProgressStyle(de…"
      ]
     },
     "metadata": {},
     "output_type": "display_data"
    },
    {
     "data": {
      "application/vnd.jupyter.widget-view+json": {
       "model_id": "",
       "version_major": 2,
       "version_minor": 0
      },
      "text/plain": [
       "HBox(children=(FloatProgress(value=0.0, description='Iterating end segments:', max=6.0, style=ProgressStyle(de…"
      ]
     },
     "metadata": {},
     "output_type": "display_data"
    },
    {
     "data": {
      "application/vnd.jupyter.widget-view+json": {
       "model_id": "",
       "version_major": 2,
       "version_minor": 0
      },
      "text/plain": [
       "HBox(children=(FloatProgress(value=0.0, description='Iterating end segments:', max=6.0, style=ProgressStyle(de…"
      ]
     },
     "metadata": {},
     "output_type": "display_data"
    },
    {
     "data": {
      "application/vnd.jupyter.widget-view+json": {
       "model_id": "",
       "version_major": 2,
       "version_minor": 0
      },
      "text/plain": [
       "HBox(children=(FloatProgress(value=0.0, description='Iterating end segments:', max=6.0, style=ProgressStyle(de…"
      ]
     },
     "metadata": {},
     "output_type": "display_data"
    },
    {
     "data": {
      "application/vnd.jupyter.widget-view+json": {
       "model_id": "",
       "version_major": 2,
       "version_minor": 0
      },
      "text/plain": [
       "HBox(children=(FloatProgress(value=0.0, description='Iterating end segments:', max=6.0, style=ProgressStyle(de…"
      ]
     },
     "metadata": {},
     "output_type": "display_data"
    },
    {
     "data": {
      "application/vnd.jupyter.widget-view+json": {
       "model_id": "",
       "version_major": 2,
       "version_minor": 0
      },
      "text/plain": [
       "HBox(children=(FloatProgress(value=0.0, description='Iterating end segments:', max=6.0, style=ProgressStyle(de…"
      ]
     },
     "metadata": {},
     "output_type": "display_data"
    },
    {
     "data": {
      "application/vnd.jupyter.widget-view+json": {
       "model_id": "",
       "version_major": 2,
       "version_minor": 0
      },
      "text/plain": [
       "HBox(children=(FloatProgress(value=0.0, description='Iterating end segments:', max=6.0, style=ProgressStyle(de…"
      ]
     },
     "metadata": {},
     "output_type": "display_data"
    },
    {
     "data": {
      "application/vnd.jupyter.widget-view+json": {
       "model_id": "",
       "version_major": 2,
       "version_minor": 0
      },
      "text/plain": [
       "HBox(children=(FloatProgress(value=0.0, description='Iterating end segments:', max=6.0, style=ProgressStyle(de…"
      ]
     },
     "metadata": {},
     "output_type": "display_data"
    },
    {
     "data": {
      "application/vnd.jupyter.widget-view+json": {
       "model_id": "",
       "version_major": 2,
       "version_minor": 0
      },
      "text/plain": [
       "HBox(children=(FloatProgress(value=0.0, description='Iterating end segments:', max=6.0, style=ProgressStyle(de…"
      ]
     },
     "metadata": {},
     "output_type": "display_data"
    },
    {
     "data": {
      "application/vnd.jupyter.widget-view+json": {
       "model_id": "",
       "version_major": 2,
       "version_minor": 0
      },
      "text/plain": [
       "HBox(children=(FloatProgress(value=0.0, description='Iterating end segments:', max=6.0, style=ProgressStyle(de…"
      ]
     },
     "metadata": {},
     "output_type": "display_data"
    },
    {
     "data": {
      "application/vnd.jupyter.widget-view+json": {
       "model_id": "",
       "version_major": 2,
       "version_minor": 0
      },
      "text/plain": [
       "HBox(children=(FloatProgress(value=0.0, description='Iterating end segments:', max=6.0, style=ProgressStyle(de…"
      ]
     },
     "metadata": {},
     "output_type": "display_data"
    },
    {
     "data": {
      "application/vnd.jupyter.widget-view+json": {
       "model_id": "",
       "version_major": 2,
       "version_minor": 0
      },
      "text/plain": [
       "HBox(children=(FloatProgress(value=0.0, description='Iterating end segments:', max=6.0, style=ProgressStyle(de…"
      ]
     },
     "metadata": {},
     "output_type": "display_data"
    },
    {
     "data": {
      "application/vnd.jupyter.widget-view+json": {
       "model_id": "",
       "version_major": 2,
       "version_minor": 0
      },
      "text/plain": [
       "HBox(children=(FloatProgress(value=0.0, description='Iterating end segments:', max=6.0, style=ProgressStyle(de…"
      ]
     },
     "metadata": {},
     "output_type": "display_data"
    },
    {
     "data": {
      "application/vnd.jupyter.widget-view+json": {
       "model_id": "",
       "version_major": 2,
       "version_minor": 0
      },
      "text/plain": [
       "HBox(children=(FloatProgress(value=0.0, description='Iterating end segments:', max=6.0, style=ProgressStyle(de…"
      ]
     },
     "metadata": {},
     "output_type": "display_data"
    },
    {
     "data": {
      "application/vnd.jupyter.widget-view+json": {
       "model_id": "",
       "version_major": 2,
       "version_minor": 0
      },
      "text/plain": [
       "HBox(children=(FloatProgress(value=0.0, description='Iterating end segments:', max=6.0, style=ProgressStyle(de…"
      ]
     },
     "metadata": {},
     "output_type": "display_data"
    },
    {
     "data": {
      "application/vnd.jupyter.widget-view+json": {
       "model_id": "",
       "version_major": 2,
       "version_minor": 0
      },
      "text/plain": [
       "HBox(children=(FloatProgress(value=0.0, description='Iterating end segments:', max=6.0, style=ProgressStyle(de…"
      ]
     },
     "metadata": {},
     "output_type": "display_data"
    },
    {
     "data": {
      "application/vnd.jupyter.widget-view+json": {
       "model_id": "",
       "version_major": 2,
       "version_minor": 0
      },
      "text/plain": [
       "HBox(children=(FloatProgress(value=0.0, description='Iterating end segments:', max=6.0, style=ProgressStyle(de…"
      ]
     },
     "metadata": {},
     "output_type": "display_data"
    },
    {
     "data": {
      "application/vnd.jupyter.widget-view+json": {
       "model_id": "",
       "version_major": 2,
       "version_minor": 0
      },
      "text/plain": [
       "HBox(children=(FloatProgress(value=0.0, description='Iterating end segments:', max=6.0, style=ProgressStyle(de…"
      ]
     },
     "metadata": {},
     "output_type": "display_data"
    },
    {
     "data": {
      "application/vnd.jupyter.widget-view+json": {
       "model_id": "",
       "version_major": 2,
       "version_minor": 0
      },
      "text/plain": [
       "HBox(children=(FloatProgress(value=0.0, description='Iterating end segments:', max=6.0, style=ProgressStyle(de…"
      ]
     },
     "metadata": {},
     "output_type": "display_data"
    },
    {
     "data": {
      "application/vnd.jupyter.widget-view+json": {
       "model_id": "",
       "version_major": 2,
       "version_minor": 0
      },
      "text/plain": [
       "HBox(children=(FloatProgress(value=0.0, description='Iterating end segments:', max=6.0, style=ProgressStyle(de…"
      ]
     },
     "metadata": {},
     "output_type": "display_data"
    },
    {
     "data": {
      "application/vnd.jupyter.widget-view+json": {
       "model_id": "",
       "version_major": 2,
       "version_minor": 0
      },
      "text/plain": [
       "HBox(children=(FloatProgress(value=0.0, description='Iterating end segments:', max=6.0, style=ProgressStyle(de…"
      ]
     },
     "metadata": {},
     "output_type": "display_data"
    },
    {
     "data": {
      "application/vnd.jupyter.widget-view+json": {
       "model_id": "",
       "version_major": 2,
       "version_minor": 0
      },
      "text/plain": [
       "HBox(children=(FloatProgress(value=0.0, description='Iterating end segments:', max=6.0, style=ProgressStyle(de…"
      ]
     },
     "metadata": {},
     "output_type": "display_data"
    },
    {
     "data": {
      "application/vnd.jupyter.widget-view+json": {
       "model_id": "",
       "version_major": 2,
       "version_minor": 0
      },
      "text/plain": [
       "HBox(children=(FloatProgress(value=0.0, description='Iterating end segments:', max=6.0, style=ProgressStyle(de…"
      ]
     },
     "metadata": {},
     "output_type": "display_data"
    },
    {
     "data": {
      "application/vnd.jupyter.widget-view+json": {
       "model_id": "",
       "version_major": 2,
       "version_minor": 0
      },
      "text/plain": [
       "HBox(children=(FloatProgress(value=0.0, description='Iterating end segments:', max=6.0, style=ProgressStyle(de…"
      ]
     },
     "metadata": {},
     "output_type": "display_data"
    },
    {
     "data": {
      "application/vnd.jupyter.widget-view+json": {
       "model_id": "",
       "version_major": 2,
       "version_minor": 0
      },
      "text/plain": [
       "HBox(children=(FloatProgress(value=0.0, description='Iterating end segments:', max=6.0, style=ProgressStyle(de…"
      ]
     },
     "metadata": {},
     "output_type": "display_data"
    },
    {
     "data": {
      "application/vnd.jupyter.widget-view+json": {
       "model_id": "",
       "version_major": 2,
       "version_minor": 0
      },
      "text/plain": [
       "HBox(children=(FloatProgress(value=0.0, description='Iterating end segments:', max=6.0, style=ProgressStyle(de…"
      ]
     },
     "metadata": {},
     "output_type": "display_data"
    },
    {
     "data": {
      "application/vnd.jupyter.widget-view+json": {
       "model_id": "",
       "version_major": 2,
       "version_minor": 0
      },
      "text/plain": [
       "HBox(children=(FloatProgress(value=0.0, description='Iterating end segments:', max=6.0, style=ProgressStyle(de…"
      ]
     },
     "metadata": {},
     "output_type": "display_data"
    },
    {
     "data": {
      "application/vnd.jupyter.widget-view+json": {
       "model_id": "",
       "version_major": 2,
       "version_minor": 0
      },
      "text/plain": [
       "HBox(children=(FloatProgress(value=0.0, description='Iterating end segments:', max=6.0, style=ProgressStyle(de…"
      ]
     },
     "metadata": {},
     "output_type": "display_data"
    },
    {
     "data": {
      "application/vnd.jupyter.widget-view+json": {
       "model_id": "",
       "version_major": 2,
       "version_minor": 0
      },
      "text/plain": [
       "HBox(children=(FloatProgress(value=0.0, description='Iterating end segments:', max=6.0, style=ProgressStyle(de…"
      ]
     },
     "metadata": {},
     "output_type": "display_data"
    },
    {
     "data": {
      "application/vnd.jupyter.widget-view+json": {
       "model_id": "",
       "version_major": 2,
       "version_minor": 0
      },
      "text/plain": [
       "HBox(children=(FloatProgress(value=0.0, description='Iterating end segments:', max=6.0, style=ProgressStyle(de…"
      ]
     },
     "metadata": {},
     "output_type": "display_data"
    },
    {
     "data": {
      "application/vnd.jupyter.widget-view+json": {
       "model_id": "",
       "version_major": 2,
       "version_minor": 0
      },
      "text/plain": [
       "HBox(children=(FloatProgress(value=0.0, description='Iterating end segments:', max=6.0, style=ProgressStyle(de…"
      ]
     },
     "metadata": {},
     "output_type": "display_data"
    },
    {
     "data": {
      "application/vnd.jupyter.widget-view+json": {
       "model_id": "",
       "version_major": 2,
       "version_minor": 0
      },
      "text/plain": [
       "HBox(children=(FloatProgress(value=0.0, description='Iterating end segments:', max=6.0, style=ProgressStyle(de…"
      ]
     },
     "metadata": {},
     "output_type": "display_data"
    },
    {
     "data": {
      "application/vnd.jupyter.widget-view+json": {
       "model_id": "",
       "version_major": 2,
       "version_minor": 0
      },
      "text/plain": [
       "HBox(children=(FloatProgress(value=0.0, description='Iterating end segments:', max=6.0, style=ProgressStyle(de…"
      ]
     },
     "metadata": {},
     "output_type": "display_data"
    },
    {
     "data": {
      "application/vnd.jupyter.widget-view+json": {
       "model_id": "",
       "version_major": 2,
       "version_minor": 0
      },
      "text/plain": [
       "HBox(children=(FloatProgress(value=0.0, description='Iterating end segments:', max=6.0, style=ProgressStyle(de…"
      ]
     },
     "metadata": {},
     "output_type": "display_data"
    },
    {
     "data": {
      "application/vnd.jupyter.widget-view+json": {
       "model_id": "",
       "version_major": 2,
       "version_minor": 0
      },
      "text/plain": [
       "HBox(children=(FloatProgress(value=0.0, description='Iterating end segments:', max=6.0, style=ProgressStyle(de…"
      ]
     },
     "metadata": {},
     "output_type": "display_data"
    },
    {
     "data": {
      "application/vnd.jupyter.widget-view+json": {
       "model_id": "",
       "version_major": 2,
       "version_minor": 0
      },
      "text/plain": [
       "HBox(children=(FloatProgress(value=0.0, description='Iterating end segments:', max=6.0, style=ProgressStyle(de…"
      ]
     },
     "metadata": {},
     "output_type": "display_data"
    },
    {
     "data": {
      "application/vnd.jupyter.widget-view+json": {
       "model_id": "",
       "version_major": 2,
       "version_minor": 0
      },
      "text/plain": [
       "HBox(children=(FloatProgress(value=0.0, description='Iterating end segments:', max=6.0, style=ProgressStyle(de…"
      ]
     },
     "metadata": {},
     "output_type": "display_data"
    },
    {
     "data": {
      "application/vnd.jupyter.widget-view+json": {
       "model_id": "",
       "version_major": 2,
       "version_minor": 0
      },
      "text/plain": [
       "HBox(children=(FloatProgress(value=0.0, description='Iterating end segments:', max=6.0, style=ProgressStyle(de…"
      ]
     },
     "metadata": {},
     "output_type": "display_data"
    },
    {
     "data": {
      "application/vnd.jupyter.widget-view+json": {
       "model_id": "",
       "version_major": 2,
       "version_minor": 0
      },
      "text/plain": [
       "HBox(children=(FloatProgress(value=0.0, description='Iterating end segments:', max=6.0, style=ProgressStyle(de…"
      ]
     },
     "metadata": {},
     "output_type": "display_data"
    },
    {
     "data": {
      "application/vnd.jupyter.widget-view+json": {
       "model_id": "",
       "version_major": 2,
       "version_minor": 0
      },
      "text/plain": [
       "HBox(children=(FloatProgress(value=0.0, description='Iterating end segments:', max=6.0, style=ProgressStyle(de…"
      ]
     },
     "metadata": {},
     "output_type": "display_data"
    },
    {
     "data": {
      "application/vnd.jupyter.widget-view+json": {
       "model_id": "",
       "version_major": 2,
       "version_minor": 0
      },
      "text/plain": [
       "HBox(children=(FloatProgress(value=0.0, description='Iterating end segments:', max=6.0, style=ProgressStyle(de…"
      ]
     },
     "metadata": {},
     "output_type": "display_data"
    },
    {
     "data": {
      "application/vnd.jupyter.widget-view+json": {
       "model_id": "",
       "version_major": 2,
       "version_minor": 0
      },
      "text/plain": [
       "HBox(children=(FloatProgress(value=0.0, description='Iterating end segments:', max=6.0, style=ProgressStyle(de…"
      ]
     },
     "metadata": {},
     "output_type": "display_data"
    },
    {
     "data": {
      "application/vnd.jupyter.widget-view+json": {
       "model_id": "",
       "version_major": 2,
       "version_minor": 0
      },
      "text/plain": [
       "HBox(children=(FloatProgress(value=0.0, description='Iterating end segments:', max=6.0, style=ProgressStyle(de…"
      ]
     },
     "metadata": {},
     "output_type": "display_data"
    },
    {
     "data": {
      "application/vnd.jupyter.widget-view+json": {
       "model_id": "",
       "version_major": 2,
       "version_minor": 0
      },
      "text/plain": [
       "HBox(children=(FloatProgress(value=0.0, description='Iterating end segments:', max=6.0, style=ProgressStyle(de…"
      ]
     },
     "metadata": {},
     "output_type": "display_data"
    },
    {
     "data": {
      "application/vnd.jupyter.widget-view+json": {
       "model_id": "",
       "version_major": 2,
       "version_minor": 0
      },
      "text/plain": [
       "HBox(children=(FloatProgress(value=0.0, description='Iterating end segments:', max=6.0, style=ProgressStyle(de…"
      ]
     },
     "metadata": {},
     "output_type": "display_data"
    },
    {
     "data": {
      "application/vnd.jupyter.widget-view+json": {
       "model_id": "",
       "version_major": 2,
       "version_minor": 0
      },
      "text/plain": [
       "HBox(children=(FloatProgress(value=0.0, description='Iterating end segments:', max=6.0, style=ProgressStyle(de…"
      ]
     },
     "metadata": {},
     "output_type": "display_data"
    },
    {
     "data": {
      "application/vnd.jupyter.widget-view+json": {
       "model_id": "",
       "version_major": 2,
       "version_minor": 0
      },
      "text/plain": [
       "HBox(children=(FloatProgress(value=0.0, description='Iterating end segments:', max=6.0, style=ProgressStyle(de…"
      ]
     },
     "metadata": {},
     "output_type": "display_data"
    },
    {
     "data": {
      "application/vnd.jupyter.widget-view+json": {
       "model_id": "",
       "version_major": 2,
       "version_minor": 0
      },
      "text/plain": [
       "HBox(children=(FloatProgress(value=0.0, description='Iterating end segments:', max=6.0, style=ProgressStyle(de…"
      ]
     },
     "metadata": {},
     "output_type": "display_data"
    },
    {
     "data": {
      "application/vnd.jupyter.widget-view+json": {
       "model_id": "",
       "version_major": 2,
       "version_minor": 0
      },
      "text/plain": [
       "HBox(children=(FloatProgress(value=0.0, description='Iterating end segments:', max=6.0, style=ProgressStyle(de…"
      ]
     },
     "metadata": {},
     "output_type": "display_data"
    },
    {
     "data": {
      "application/vnd.jupyter.widget-view+json": {
       "model_id": "",
       "version_major": 2,
       "version_minor": 0
      },
      "text/plain": [
       "HBox(children=(FloatProgress(value=0.0, description='Iterating end segments:', max=6.0, style=ProgressStyle(de…"
      ]
     },
     "metadata": {},
     "output_type": "display_data"
    },
    {
     "data": {
      "application/vnd.jupyter.widget-view+json": {
       "model_id": "",
       "version_major": 2,
       "version_minor": 0
      },
      "text/plain": [
       "HBox(children=(FloatProgress(value=0.0, description='Iterating end segments:', max=6.0, style=ProgressStyle(de…"
      ]
     },
     "metadata": {},
     "output_type": "display_data"
    },
    {
     "data": {
      "application/vnd.jupyter.widget-view+json": {
       "model_id": "",
       "version_major": 2,
       "version_minor": 0
      },
      "text/plain": [
       "HBox(children=(FloatProgress(value=0.0, description='Iterating end segments:', max=6.0, style=ProgressStyle(de…"
      ]
     },
     "metadata": {},
     "output_type": "display_data"
    },
    {
     "data": {
      "application/vnd.jupyter.widget-view+json": {
       "model_id": "",
       "version_major": 2,
       "version_minor": 0
      },
      "text/plain": [
       "HBox(children=(FloatProgress(value=0.0, description='Iterating end segments:', max=6.0, style=ProgressStyle(de…"
      ]
     },
     "metadata": {},
     "output_type": "display_data"
    },
    {
     "data": {
      "application/vnd.jupyter.widget-view+json": {
       "model_id": "",
       "version_major": 2,
       "version_minor": 0
      },
      "text/plain": [
       "HBox(children=(FloatProgress(value=0.0, description='Iterating end segments:', max=6.0, style=ProgressStyle(de…"
      ]
     },
     "metadata": {},
     "output_type": "display_data"
    },
    {
     "data": {
      "application/vnd.jupyter.widget-view+json": {
       "model_id": "",
       "version_major": 2,
       "version_minor": 0
      },
      "text/plain": [
       "HBox(children=(FloatProgress(value=0.0, description='Iterating end segments:', max=6.0, style=ProgressStyle(de…"
      ]
     },
     "metadata": {},
     "output_type": "display_data"
    },
    {
     "data": {
      "application/vnd.jupyter.widget-view+json": {
       "model_id": "",
       "version_major": 2,
       "version_minor": 0
      },
      "text/plain": [
       "HBox(children=(FloatProgress(value=0.0, description='Iterating end segments:', max=6.0, style=ProgressStyle(de…"
      ]
     },
     "metadata": {},
     "output_type": "display_data"
    },
    {
     "data": {
      "application/vnd.jupyter.widget-view+json": {
       "model_id": "",
       "version_major": 2,
       "version_minor": 0
      },
      "text/plain": [
       "HBox(children=(FloatProgress(value=0.0, description='Iterating end segments:', max=6.0, style=ProgressStyle(de…"
      ]
     },
     "metadata": {},
     "output_type": "display_data"
    },
    {
     "data": {
      "application/vnd.jupyter.widget-view+json": {
       "model_id": "",
       "version_major": 2,
       "version_minor": 0
      },
      "text/plain": [
       "HBox(children=(FloatProgress(value=0.0, description='Iterating end segments:', max=6.0, style=ProgressStyle(de…"
      ]
     },
     "metadata": {},
     "output_type": "display_data"
    },
    {
     "data": {
      "application/vnd.jupyter.widget-view+json": {
       "model_id": "",
       "version_major": 2,
       "version_minor": 0
      },
      "text/plain": [
       "HBox(children=(FloatProgress(value=0.0, description='Iterating end segments:', max=6.0, style=ProgressStyle(de…"
      ]
     },
     "metadata": {},
     "output_type": "display_data"
    },
    {
     "data": {
      "application/vnd.jupyter.widget-view+json": {
       "model_id": "",
       "version_major": 2,
       "version_minor": 0
      },
      "text/plain": [
       "HBox(children=(FloatProgress(value=0.0, description='Iterating end segments:', max=6.0, style=ProgressStyle(de…"
      ]
     },
     "metadata": {},
     "output_type": "display_data"
    },
    {
     "data": {
      "application/vnd.jupyter.widget-view+json": {
       "model_id": "",
       "version_major": 2,
       "version_minor": 0
      },
      "text/plain": [
       "HBox(children=(FloatProgress(value=0.0, description='Iterating end segments:', max=6.0, style=ProgressStyle(de…"
      ]
     },
     "metadata": {},
     "output_type": "display_data"
    },
    {
     "data": {
      "application/vnd.jupyter.widget-view+json": {
       "model_id": "",
       "version_major": 2,
       "version_minor": 0
      },
      "text/plain": [
       "HBox(children=(FloatProgress(value=0.0, description='Iterating end segments:', max=6.0, style=ProgressStyle(de…"
      ]
     },
     "metadata": {},
     "output_type": "display_data"
    },
    {
     "data": {
      "application/vnd.jupyter.widget-view+json": {
       "model_id": "",
       "version_major": 2,
       "version_minor": 0
      },
      "text/plain": [
       "HBox(children=(FloatProgress(value=0.0, description='Iterating end segments:', max=6.0, style=ProgressStyle(de…"
      ]
     },
     "metadata": {},
     "output_type": "display_data"
    },
    {
     "data": {
      "application/vnd.jupyter.widget-view+json": {
       "model_id": "",
       "version_major": 2,
       "version_minor": 0
      },
      "text/plain": [
       "HBox(children=(FloatProgress(value=0.0, description='Iterating end segments:', max=6.0, style=ProgressStyle(de…"
      ]
     },
     "metadata": {},
     "output_type": "display_data"
    },
    {
     "data": {
      "application/vnd.jupyter.widget-view+json": {
       "model_id": "",
       "version_major": 2,
       "version_minor": 0
      },
      "text/plain": [
       "HBox(children=(FloatProgress(value=0.0, description='Iterating end segments:', max=6.0, style=ProgressStyle(de…"
      ]
     },
     "metadata": {},
     "output_type": "display_data"
    },
    {
     "data": {
      "application/vnd.jupyter.widget-view+json": {
       "model_id": "",
       "version_major": 2,
       "version_minor": 0
      },
      "text/plain": [
       "HBox(children=(FloatProgress(value=0.0, description='Iterating end segments:', max=6.0, style=ProgressStyle(de…"
      ]
     },
     "metadata": {},
     "output_type": "display_data"
    },
    {
     "data": {
      "application/vnd.jupyter.widget-view+json": {
       "model_id": "",
       "version_major": 2,
       "version_minor": 0
      },
      "text/plain": [
       "HBox(children=(FloatProgress(value=0.0, description='Iterating end segments:', max=6.0, style=ProgressStyle(de…"
      ]
     },
     "metadata": {},
     "output_type": "display_data"
    },
    {
     "data": {
      "application/vnd.jupyter.widget-view+json": {
       "model_id": "",
       "version_major": 2,
       "version_minor": 0
      },
      "text/plain": [
       "HBox(children=(FloatProgress(value=0.0, description='Iterating end segments:', max=6.0, style=ProgressStyle(de…"
      ]
     },
     "metadata": {},
     "output_type": "display_data"
    },
    {
     "data": {
      "application/vnd.jupyter.widget-view+json": {
       "model_id": "",
       "version_major": 2,
       "version_minor": 0
      },
      "text/plain": [
       "HBox(children=(FloatProgress(value=0.0, description='Iterating end segments:', max=6.0, style=ProgressStyle(de…"
      ]
     },
     "metadata": {},
     "output_type": "display_data"
    },
    {
     "data": {
      "application/vnd.jupyter.widget-view+json": {
       "model_id": "",
       "version_major": 2,
       "version_minor": 0
      },
      "text/plain": [
       "HBox(children=(FloatProgress(value=0.0, description='Iterating end segments:', max=6.0, style=ProgressStyle(de…"
      ]
     },
     "metadata": {},
     "output_type": "display_data"
    },
    {
     "data": {
      "application/vnd.jupyter.widget-view+json": {
       "model_id": "",
       "version_major": 2,
       "version_minor": 0
      },
      "text/plain": [
       "HBox(children=(FloatProgress(value=0.0, description='Iterating end segments:', max=6.0, style=ProgressStyle(de…"
      ]
     },
     "metadata": {},
     "output_type": "display_data"
    },
    {
     "data": {
      "application/vnd.jupyter.widget-view+json": {
       "model_id": "",
       "version_major": 2,
       "version_minor": 0
      },
      "text/plain": [
       "HBox(children=(FloatProgress(value=0.0, description='Iterating end segments:', max=6.0, style=ProgressStyle(de…"
      ]
     },
     "metadata": {},
     "output_type": "display_data"
    },
    {
     "data": {
      "application/vnd.jupyter.widget-view+json": {
       "model_id": "",
       "version_major": 2,
       "version_minor": 0
      },
      "text/plain": [
       "HBox(children=(FloatProgress(value=0.0, description='Iterating end segments:', max=6.0, style=ProgressStyle(de…"
      ]
     },
     "metadata": {},
     "output_type": "display_data"
    },
    {
     "data": {
      "application/vnd.jupyter.widget-view+json": {
       "model_id": "",
       "version_major": 2,
       "version_minor": 0
      },
      "text/plain": [
       "HBox(children=(FloatProgress(value=0.0, description='Iterating end segments:', max=6.0, style=ProgressStyle(de…"
      ]
     },
     "metadata": {},
     "output_type": "display_data"
    },
    {
     "data": {
      "application/vnd.jupyter.widget-view+json": {
       "model_id": "",
       "version_major": 2,
       "version_minor": 0
      },
      "text/plain": [
       "HBox(children=(FloatProgress(value=0.0, description='Iterating end segments:', max=6.0, style=ProgressStyle(de…"
      ]
     },
     "metadata": {},
     "output_type": "display_data"
    },
    {
     "data": {
      "application/vnd.jupyter.widget-view+json": {
       "model_id": "",
       "version_major": 2,
       "version_minor": 0
      },
      "text/plain": [
       "HBox(children=(FloatProgress(value=0.0, description='Iterating end segments:', max=6.0, style=ProgressStyle(de…"
      ]
     },
     "metadata": {},
     "output_type": "display_data"
    },
    {
     "data": {
      "application/vnd.jupyter.widget-view+json": {
       "model_id": "",
       "version_major": 2,
       "version_minor": 0
      },
      "text/plain": [
       "HBox(children=(FloatProgress(value=0.0, description='Iterating end segments:', max=6.0, style=ProgressStyle(de…"
      ]
     },
     "metadata": {},
     "output_type": "display_data"
    },
    {
     "data": {
      "application/vnd.jupyter.widget-view+json": {
       "model_id": "",
       "version_major": 2,
       "version_minor": 0
      },
      "text/plain": [
       "HBox(children=(FloatProgress(value=0.0, description='Iterating end segments:', max=6.0, style=ProgressStyle(de…"
      ]
     },
     "metadata": {},
     "output_type": "display_data"
    },
    {
     "data": {
      "application/vnd.jupyter.widget-view+json": {
       "model_id": "",
       "version_major": 2,
       "version_minor": 0
      },
      "text/plain": [
       "HBox(children=(FloatProgress(value=0.0, description='Iterating end segments:', max=6.0, style=ProgressStyle(de…"
      ]
     },
     "metadata": {},
     "output_type": "display_data"
    },
    {
     "data": {
      "application/vnd.jupyter.widget-view+json": {
       "model_id": "",
       "version_major": 2,
       "version_minor": 0
      },
      "text/plain": [
       "HBox(children=(FloatProgress(value=0.0, description='Iterating end segments:', max=6.0, style=ProgressStyle(de…"
      ]
     },
     "metadata": {},
     "output_type": "display_data"
    },
    {
     "data": {
      "application/vnd.jupyter.widget-view+json": {
       "model_id": "",
       "version_major": 2,
       "version_minor": 0
      },
      "text/plain": [
       "HBox(children=(FloatProgress(value=0.0, description='Iterating end segments:', max=6.0, style=ProgressStyle(de…"
      ]
     },
     "metadata": {},
     "output_type": "display_data"
    },
    {
     "data": {
      "application/vnd.jupyter.widget-view+json": {
       "model_id": "",
       "version_major": 2,
       "version_minor": 0
      },
      "text/plain": [
       "HBox(children=(FloatProgress(value=0.0, description='Iterating end segments:', max=6.0, style=ProgressStyle(de…"
      ]
     },
     "metadata": {},
     "output_type": "display_data"
    },
    {
     "data": {
      "application/vnd.jupyter.widget-view+json": {
       "model_id": "",
       "version_major": 2,
       "version_minor": 0
      },
      "text/plain": [
       "HBox(children=(FloatProgress(value=0.0, description='Iterating end segments:', max=6.0, style=ProgressStyle(de…"
      ]
     },
     "metadata": {},
     "output_type": "display_data"
    },
    {
     "data": {
      "application/vnd.jupyter.widget-view+json": {
       "model_id": "",
       "version_major": 2,
       "version_minor": 0
      },
      "text/plain": [
       "HBox(children=(FloatProgress(value=0.0, description='Iterating end segments:', max=6.0, style=ProgressStyle(de…"
      ]
     },
     "metadata": {},
     "output_type": "display_data"
    },
    {
     "data": {
      "application/vnd.jupyter.widget-view+json": {
       "model_id": "",
       "version_major": 2,
       "version_minor": 0
      },
      "text/plain": [
       "HBox(children=(FloatProgress(value=0.0, description='Iterating end segments:', max=6.0, style=ProgressStyle(de…"
      ]
     },
     "metadata": {},
     "output_type": "display_data"
    },
    {
     "data": {
      "application/vnd.jupyter.widget-view+json": {
       "model_id": "",
       "version_major": 2,
       "version_minor": 0
      },
      "text/plain": [
       "HBox(children=(FloatProgress(value=0.0, description='Iterating end segments:', max=6.0, style=ProgressStyle(de…"
      ]
     },
     "metadata": {},
     "output_type": "display_data"
    },
    {
     "data": {
      "application/vnd.jupyter.widget-view+json": {
       "model_id": "",
       "version_major": 2,
       "version_minor": 0
      },
      "text/plain": [
       "HBox(children=(FloatProgress(value=0.0, description='Iterating end segments:', max=6.0, style=ProgressStyle(de…"
      ]
     },
     "metadata": {},
     "output_type": "display_data"
    },
    {
     "data": {
      "application/vnd.jupyter.widget-view+json": {
       "model_id": "",
       "version_major": 2,
       "version_minor": 0
      },
      "text/plain": [
       "HBox(children=(FloatProgress(value=0.0, description='Iterating end segments:', max=6.0, style=ProgressStyle(de…"
      ]
     },
     "metadata": {},
     "output_type": "display_data"
    },
    {
     "data": {
      "application/vnd.jupyter.widget-view+json": {
       "model_id": "",
       "version_major": 2,
       "version_minor": 0
      },
      "text/plain": [
       "HBox(children=(FloatProgress(value=0.0, description='Iterating end segments:', max=6.0, style=ProgressStyle(de…"
      ]
     },
     "metadata": {},
     "output_type": "display_data"
    },
    {
     "data": {
      "application/vnd.jupyter.widget-view+json": {
       "model_id": "",
       "version_major": 2,
       "version_minor": 0
      },
      "text/plain": [
       "HBox(children=(FloatProgress(value=0.0, description='Iterating end segments:', max=6.0, style=ProgressStyle(de…"
      ]
     },
     "metadata": {},
     "output_type": "display_data"
    },
    {
     "data": {
      "application/vnd.jupyter.widget-view+json": {
       "model_id": "",
       "version_major": 2,
       "version_minor": 0
      },
      "text/plain": [
       "HBox(children=(FloatProgress(value=0.0, description='Iterating end segments:', max=6.0, style=ProgressStyle(de…"
      ]
     },
     "metadata": {},
     "output_type": "display_data"
    },
    {
     "data": {
      "application/vnd.jupyter.widget-view+json": {
       "model_id": "",
       "version_major": 2,
       "version_minor": 0
      },
      "text/plain": [
       "HBox(children=(FloatProgress(value=0.0, description='Iterating end segments:', max=6.0, style=ProgressStyle(de…"
      ]
     },
     "metadata": {},
     "output_type": "display_data"
    },
    {
     "data": {
      "application/vnd.jupyter.widget-view+json": {
       "model_id": "",
       "version_major": 2,
       "version_minor": 0
      },
      "text/plain": [
       "HBox(children=(FloatProgress(value=0.0, description='Iterating end segments:', max=6.0, style=ProgressStyle(de…"
      ]
     },
     "metadata": {},
     "output_type": "display_data"
    },
    {
     "data": {
      "application/vnd.jupyter.widget-view+json": {
       "model_id": "",
       "version_major": 2,
       "version_minor": 0
      },
      "text/plain": [
       "HBox(children=(FloatProgress(value=0.0, description='Iterating end segments:', max=6.0, style=ProgressStyle(de…"
      ]
     },
     "metadata": {},
     "output_type": "display_data"
    },
    {
     "data": {
      "application/vnd.jupyter.widget-view+json": {
       "model_id": "",
       "version_major": 2,
       "version_minor": 0
      },
      "text/plain": [
       "HBox(children=(FloatProgress(value=0.0, description='Iterating end segments:', max=6.0, style=ProgressStyle(de…"
      ]
     },
     "metadata": {},
     "output_type": "display_data"
    },
    {
     "data": {
      "application/vnd.jupyter.widget-view+json": {
       "model_id": "",
       "version_major": 2,
       "version_minor": 0
      },
      "text/plain": [
       "HBox(children=(FloatProgress(value=0.0, description='Iterating end segments:', max=6.0, style=ProgressStyle(de…"
      ]
     },
     "metadata": {},
     "output_type": "display_data"
    },
    {
     "data": {
      "application/vnd.jupyter.widget-view+json": {
       "model_id": "",
       "version_major": 2,
       "version_minor": 0
      },
      "text/plain": [
       "HBox(children=(FloatProgress(value=0.0, description='Iterating end segments:', max=6.0, style=ProgressStyle(de…"
      ]
     },
     "metadata": {},
     "output_type": "display_data"
    },
    {
     "data": {
      "application/vnd.jupyter.widget-view+json": {
       "model_id": "",
       "version_major": 2,
       "version_minor": 0
      },
      "text/plain": [
       "HBox(children=(FloatProgress(value=0.0, description='Iterating end segments:', max=6.0, style=ProgressStyle(de…"
      ]
     },
     "metadata": {},
     "output_type": "display_data"
    },
    {
     "data": {
      "application/vnd.jupyter.widget-view+json": {
       "model_id": "",
       "version_major": 2,
       "version_minor": 0
      },
      "text/plain": [
       "HBox(children=(FloatProgress(value=0.0, description='Iterating end segments:', max=6.0, style=ProgressStyle(de…"
      ]
     },
     "metadata": {},
     "output_type": "display_data"
    },
    {
     "data": {
      "application/vnd.jupyter.widget-view+json": {
       "model_id": "",
       "version_major": 2,
       "version_minor": 0
      },
      "text/plain": [
       "HBox(children=(FloatProgress(value=0.0, description='Iterating end segments:', max=6.0, style=ProgressStyle(de…"
      ]
     },
     "metadata": {},
     "output_type": "display_data"
    },
    {
     "data": {
      "application/vnd.jupyter.widget-view+json": {
       "model_id": "",
       "version_major": 2,
       "version_minor": 0
      },
      "text/plain": [
       "HBox(children=(FloatProgress(value=0.0, description='Iterating end segments:', max=6.0, style=ProgressStyle(de…"
      ]
     },
     "metadata": {},
     "output_type": "display_data"
    },
    {
     "data": {
      "application/vnd.jupyter.widget-view+json": {
       "model_id": "",
       "version_major": 2,
       "version_minor": 0
      },
      "text/plain": [
       "HBox(children=(FloatProgress(value=0.0, description='Iterating end segments:', max=6.0, style=ProgressStyle(de…"
      ]
     },
     "metadata": {},
     "output_type": "display_data"
    },
    {
     "data": {
      "application/vnd.jupyter.widget-view+json": {
       "model_id": "",
       "version_major": 2,
       "version_minor": 0
      },
      "text/plain": [
       "HBox(children=(FloatProgress(value=0.0, description='Iterating end segments:', max=6.0, style=ProgressStyle(de…"
      ]
     },
     "metadata": {},
     "output_type": "display_data"
    },
    {
     "data": {
      "application/vnd.jupyter.widget-view+json": {
       "model_id": "",
       "version_major": 2,
       "version_minor": 0
      },
      "text/plain": [
       "HBox(children=(FloatProgress(value=0.0, description='Iterating end segments:', max=6.0, style=ProgressStyle(de…"
      ]
     },
     "metadata": {},
     "output_type": "display_data"
    },
    {
     "data": {
      "application/vnd.jupyter.widget-view+json": {
       "model_id": "",
       "version_major": 2,
       "version_minor": 0
      },
      "text/plain": [
       "HBox(children=(FloatProgress(value=0.0, description='Iterating end segments:', max=6.0, style=ProgressStyle(de…"
      ]
     },
     "metadata": {},
     "output_type": "display_data"
    },
    {
     "data": {
      "application/vnd.jupyter.widget-view+json": {
       "model_id": "",
       "version_major": 2,
       "version_minor": 0
      },
      "text/plain": [
       "HBox(children=(FloatProgress(value=0.0, description='Iterating end segments:', max=6.0, style=ProgressStyle(de…"
      ]
     },
     "metadata": {},
     "output_type": "display_data"
    },
    {
     "data": {
      "application/vnd.jupyter.widget-view+json": {
       "model_id": "",
       "version_major": 2,
       "version_minor": 0
      },
      "text/plain": [
       "HBox(children=(FloatProgress(value=0.0, description='Iterating end segments:', max=6.0, style=ProgressStyle(de…"
      ]
     },
     "metadata": {},
     "output_type": "display_data"
    },
    {
     "data": {
      "application/vnd.jupyter.widget-view+json": {
       "model_id": "",
       "version_major": 2,
       "version_minor": 0
      },
      "text/plain": [
       "HBox(children=(FloatProgress(value=0.0, description='Iterating end segments:', max=6.0, style=ProgressStyle(de…"
      ]
     },
     "metadata": {},
     "output_type": "display_data"
    },
    {
     "data": {
      "application/vnd.jupyter.widget-view+json": {
       "model_id": "",
       "version_major": 2,
       "version_minor": 0
      },
      "text/plain": [
       "HBox(children=(FloatProgress(value=0.0, description='Iterating end segments:', max=6.0, style=ProgressStyle(de…"
      ]
     },
     "metadata": {},
     "output_type": "display_data"
    },
    {
     "data": {
      "application/vnd.jupyter.widget-view+json": {
       "model_id": "",
       "version_major": 2,
       "version_minor": 0
      },
      "text/plain": [
       "HBox(children=(FloatProgress(value=0.0, description='Iterating end segments:', max=6.0, style=ProgressStyle(de…"
      ]
     },
     "metadata": {},
     "output_type": "display_data"
    },
    {
     "data": {
      "application/vnd.jupyter.widget-view+json": {
       "model_id": "",
       "version_major": 2,
       "version_minor": 0
      },
      "text/plain": [
       "HBox(children=(FloatProgress(value=0.0, description='Iterating end segments:', max=6.0, style=ProgressStyle(de…"
      ]
     },
     "metadata": {},
     "output_type": "display_data"
    },
    {
     "data": {
      "application/vnd.jupyter.widget-view+json": {
       "model_id": "",
       "version_major": 2,
       "version_minor": 0
      },
      "text/plain": [
       "HBox(children=(FloatProgress(value=0.0, description='Iterating end segments:', max=6.0, style=ProgressStyle(de…"
      ]
     },
     "metadata": {},
     "output_type": "display_data"
    },
    {
     "data": {
      "application/vnd.jupyter.widget-view+json": {
       "model_id": "",
       "version_major": 2,
       "version_minor": 0
      },
      "text/plain": [
       "HBox(children=(FloatProgress(value=0.0, description='Iterating end segments:', max=6.0, style=ProgressStyle(de…"
      ]
     },
     "metadata": {},
     "output_type": "display_data"
    },
    {
     "data": {
      "application/vnd.jupyter.widget-view+json": {
       "model_id": "",
       "version_major": 2,
       "version_minor": 0
      },
      "text/plain": [
       "HBox(children=(FloatProgress(value=0.0, description='Iterating end segments:', max=6.0, style=ProgressStyle(de…"
      ]
     },
     "metadata": {},
     "output_type": "display_data"
    },
    {
     "data": {
      "application/vnd.jupyter.widget-view+json": {
       "model_id": "",
       "version_major": 2,
       "version_minor": 0
      },
      "text/plain": [
       "HBox(children=(FloatProgress(value=0.0, description='Iterating end segments:', max=6.0, style=ProgressStyle(de…"
      ]
     },
     "metadata": {},
     "output_type": "display_data"
    },
    {
     "data": {
      "application/vnd.jupyter.widget-view+json": {
       "model_id": "",
       "version_major": 2,
       "version_minor": 0
      },
      "text/plain": [
       "HBox(children=(FloatProgress(value=0.0, description='Iterating end segments:', max=6.0, style=ProgressStyle(de…"
      ]
     },
     "metadata": {},
     "output_type": "display_data"
    },
    {
     "data": {
      "application/vnd.jupyter.widget-view+json": {
       "model_id": "",
       "version_major": 2,
       "version_minor": 0
      },
      "text/plain": [
       "HBox(children=(FloatProgress(value=0.0, description='Iterating end segments:', max=6.0, style=ProgressStyle(de…"
      ]
     },
     "metadata": {},
     "output_type": "display_data"
    },
    {
     "data": {
      "application/vnd.jupyter.widget-view+json": {
       "model_id": "",
       "version_major": 2,
       "version_minor": 0
      },
      "text/plain": [
       "HBox(children=(FloatProgress(value=0.0, description='Iterating end segments:', max=6.0, style=ProgressStyle(de…"
      ]
     },
     "metadata": {},
     "output_type": "display_data"
    },
    {
     "data": {
      "application/vnd.jupyter.widget-view+json": {
       "model_id": "",
       "version_major": 2,
       "version_minor": 0
      },
      "text/plain": [
       "HBox(children=(FloatProgress(value=0.0, description='Iterating end segments:', max=6.0, style=ProgressStyle(de…"
      ]
     },
     "metadata": {},
     "output_type": "display_data"
    },
    {
     "data": {
      "application/vnd.jupyter.widget-view+json": {
       "model_id": "",
       "version_major": 2,
       "version_minor": 0
      },
      "text/plain": [
       "HBox(children=(FloatProgress(value=0.0, description='Iterating end segments:', max=6.0, style=ProgressStyle(de…"
      ]
     },
     "metadata": {},
     "output_type": "display_data"
    },
    {
     "data": {
      "application/vnd.jupyter.widget-view+json": {
       "model_id": "",
       "version_major": 2,
       "version_minor": 0
      },
      "text/plain": [
       "HBox(children=(FloatProgress(value=0.0, description='Iterating end segments:', max=6.0, style=ProgressStyle(de…"
      ]
     },
     "metadata": {},
     "output_type": "display_data"
    },
    {
     "data": {
      "application/vnd.jupyter.widget-view+json": {
       "model_id": "",
       "version_major": 2,
       "version_minor": 0
      },
      "text/plain": [
       "HBox(children=(FloatProgress(value=0.0, description='Iterating end segments:', max=6.0, style=ProgressStyle(de…"
      ]
     },
     "metadata": {},
     "output_type": "display_data"
    },
    {
     "data": {
      "application/vnd.jupyter.widget-view+json": {
       "model_id": "",
       "version_major": 2,
       "version_minor": 0
      },
      "text/plain": [
       "HBox(children=(FloatProgress(value=0.0, description='Iterating end segments:', max=6.0, style=ProgressStyle(de…"
      ]
     },
     "metadata": {},
     "output_type": "display_data"
    },
    {
     "data": {
      "application/vnd.jupyter.widget-view+json": {
       "model_id": "",
       "version_major": 2,
       "version_minor": 0
      },
      "text/plain": [
       "HBox(children=(FloatProgress(value=0.0, description='Iterating end segments:', max=6.0, style=ProgressStyle(de…"
      ]
     },
     "metadata": {},
     "output_type": "display_data"
    },
    {
     "data": {
      "application/vnd.jupyter.widget-view+json": {
       "model_id": "",
       "version_major": 2,
       "version_minor": 0
      },
      "text/plain": [
       "HBox(children=(FloatProgress(value=0.0, description='Iterating end segments:', max=6.0, style=ProgressStyle(de…"
      ]
     },
     "metadata": {},
     "output_type": "display_data"
    },
    {
     "data": {
      "application/vnd.jupyter.widget-view+json": {
       "model_id": "",
       "version_major": 2,
       "version_minor": 0
      },
      "text/plain": [
       "HBox(children=(FloatProgress(value=0.0, description='Iterating end segments:', max=6.0, style=ProgressStyle(de…"
      ]
     },
     "metadata": {},
     "output_type": "display_data"
    },
    {
     "data": {
      "application/vnd.jupyter.widget-view+json": {
       "model_id": "",
       "version_major": 2,
       "version_minor": 0
      },
      "text/plain": [
       "HBox(children=(FloatProgress(value=0.0, description='Iterating end segments:', max=6.0, style=ProgressStyle(de…"
      ]
     },
     "metadata": {},
     "output_type": "display_data"
    },
    {
     "data": {
      "application/vnd.jupyter.widget-view+json": {
       "model_id": "",
       "version_major": 2,
       "version_minor": 0
      },
      "text/plain": [
       "HBox(children=(FloatProgress(value=0.0, description='Iterating end segments:', max=6.0, style=ProgressStyle(de…"
      ]
     },
     "metadata": {},
     "output_type": "display_data"
    },
    {
     "data": {
      "application/vnd.jupyter.widget-view+json": {
       "model_id": "",
       "version_major": 2,
       "version_minor": 0
      },
      "text/plain": [
       "HBox(children=(FloatProgress(value=0.0, description='Iterating end segments:', max=6.0, style=ProgressStyle(de…"
      ]
     },
     "metadata": {},
     "output_type": "display_data"
    },
    {
     "data": {
      "application/vnd.jupyter.widget-view+json": {
       "model_id": "",
       "version_major": 2,
       "version_minor": 0
      },
      "text/plain": [
       "HBox(children=(FloatProgress(value=0.0, description='Iterating end segments:', max=6.0, style=ProgressStyle(de…"
      ]
     },
     "metadata": {},
     "output_type": "display_data"
    },
    {
     "data": {
      "application/vnd.jupyter.widget-view+json": {
       "model_id": "",
       "version_major": 2,
       "version_minor": 0
      },
      "text/plain": [
       "HBox(children=(FloatProgress(value=0.0, description='Iterating end segments:', max=6.0, style=ProgressStyle(de…"
      ]
     },
     "metadata": {},
     "output_type": "display_data"
    },
    {
     "data": {
      "application/vnd.jupyter.widget-view+json": {
       "model_id": "",
       "version_major": 2,
       "version_minor": 0
      },
      "text/plain": [
       "HBox(children=(FloatProgress(value=0.0, description='Iterating end segments:', max=6.0, style=ProgressStyle(de…"
      ]
     },
     "metadata": {},
     "output_type": "display_data"
    },
    {
     "data": {
      "application/vnd.jupyter.widget-view+json": {
       "model_id": "",
       "version_major": 2,
       "version_minor": 0
      },
      "text/plain": [
       "HBox(children=(FloatProgress(value=0.0, description='Iterating end segments:', max=6.0, style=ProgressStyle(de…"
      ]
     },
     "metadata": {},
     "output_type": "display_data"
    },
    {
     "data": {
      "application/vnd.jupyter.widget-view+json": {
       "model_id": "",
       "version_major": 2,
       "version_minor": 0
      },
      "text/plain": [
       "HBox(children=(FloatProgress(value=0.0, description='Iterating end segments:', max=6.0, style=ProgressStyle(de…"
      ]
     },
     "metadata": {},
     "output_type": "display_data"
    },
    {
     "data": {
      "application/vnd.jupyter.widget-view+json": {
       "model_id": "",
       "version_major": 2,
       "version_minor": 0
      },
      "text/plain": [
       "HBox(children=(FloatProgress(value=0.0, description='Iterating end segments:', max=6.0, style=ProgressStyle(de…"
      ]
     },
     "metadata": {},
     "output_type": "display_data"
    },
    {
     "data": {
      "application/vnd.jupyter.widget-view+json": {
       "model_id": "",
       "version_major": 2,
       "version_minor": 0
      },
      "text/plain": [
       "HBox(children=(FloatProgress(value=0.0, description='Iterating end segments:', max=6.0, style=ProgressStyle(de…"
      ]
     },
     "metadata": {},
     "output_type": "display_data"
    },
    {
     "data": {
      "application/vnd.jupyter.widget-view+json": {
       "model_id": "",
       "version_major": 2,
       "version_minor": 0
      },
      "text/plain": [
       "HBox(children=(FloatProgress(value=0.0, description='Iterating end segments:', max=6.0, style=ProgressStyle(de…"
      ]
     },
     "metadata": {},
     "output_type": "display_data"
    },
    {
     "data": {
      "application/vnd.jupyter.widget-view+json": {
       "model_id": "",
       "version_major": 2,
       "version_minor": 0
      },
      "text/plain": [
       "HBox(children=(FloatProgress(value=0.0, description='Iterating end segments:', max=6.0, style=ProgressStyle(de…"
      ]
     },
     "metadata": {},
     "output_type": "display_data"
    },
    {
     "data": {
      "application/vnd.jupyter.widget-view+json": {
       "model_id": "",
       "version_major": 2,
       "version_minor": 0
      },
      "text/plain": [
       "HBox(children=(FloatProgress(value=0.0, description='Iterating end segments:', max=6.0, style=ProgressStyle(de…"
      ]
     },
     "metadata": {},
     "output_type": "display_data"
    },
    {
     "data": {
      "application/vnd.jupyter.widget-view+json": {
       "model_id": "",
       "version_major": 2,
       "version_minor": 0
      },
      "text/plain": [
       "HBox(children=(FloatProgress(value=0.0, description='Iterating end segments:', max=6.0, style=ProgressStyle(de…"
      ]
     },
     "metadata": {},
     "output_type": "display_data"
    },
    {
     "data": {
      "application/vnd.jupyter.widget-view+json": {
       "model_id": "",
       "version_major": 2,
       "version_minor": 0
      },
      "text/plain": [
       "HBox(children=(FloatProgress(value=0.0, description='Iterating end segments:', max=6.0, style=ProgressStyle(de…"
      ]
     },
     "metadata": {},
     "output_type": "display_data"
    },
    {
     "data": {
      "application/vnd.jupyter.widget-view+json": {
       "model_id": "",
       "version_major": 2,
       "version_minor": 0
      },
      "text/plain": [
       "HBox(children=(FloatProgress(value=0.0, description='Iterating end segments:', max=6.0, style=ProgressStyle(de…"
      ]
     },
     "metadata": {},
     "output_type": "display_data"
    },
    {
     "data": {
      "application/vnd.jupyter.widget-view+json": {
       "model_id": "",
       "version_major": 2,
       "version_minor": 0
      },
      "text/plain": [
       "HBox(children=(FloatProgress(value=0.0, description='Iterating end segments:', max=6.0, style=ProgressStyle(de…"
      ]
     },
     "metadata": {},
     "output_type": "display_data"
    },
    {
     "data": {
      "application/vnd.jupyter.widget-view+json": {
       "model_id": "",
       "version_major": 2,
       "version_minor": 0
      },
      "text/plain": [
       "HBox(children=(FloatProgress(value=0.0, description='Iterating end segments:', max=6.0, style=ProgressStyle(de…"
      ]
     },
     "metadata": {},
     "output_type": "display_data"
    },
    {
     "data": {
      "application/vnd.jupyter.widget-view+json": {
       "model_id": "",
       "version_major": 2,
       "version_minor": 0
      },
      "text/plain": [
       "HBox(children=(FloatProgress(value=0.0, description='Iterating end segments:', max=6.0, style=ProgressStyle(de…"
      ]
     },
     "metadata": {},
     "output_type": "display_data"
    },
    {
     "data": {
      "application/vnd.jupyter.widget-view+json": {
       "model_id": "",
       "version_major": 2,
       "version_minor": 0
      },
      "text/plain": [
       "HBox(children=(FloatProgress(value=0.0, description='Iterating end segments:', max=6.0, style=ProgressStyle(de…"
      ]
     },
     "metadata": {},
     "output_type": "display_data"
    },
    {
     "data": {
      "application/vnd.jupyter.widget-view+json": {
       "model_id": "",
       "version_major": 2,
       "version_minor": 0
      },
      "text/plain": [
       "HBox(children=(FloatProgress(value=0.0, description='Iterating end segments:', max=6.0, style=ProgressStyle(de…"
      ]
     },
     "metadata": {},
     "output_type": "display_data"
    },
    {
     "data": {
      "application/vnd.jupyter.widget-view+json": {
       "model_id": "",
       "version_major": 2,
       "version_minor": 0
      },
      "text/plain": [
       "HBox(children=(FloatProgress(value=0.0, description='Iterating end segments:', max=6.0, style=ProgressStyle(de…"
      ]
     },
     "metadata": {},
     "output_type": "display_data"
    },
    {
     "data": {
      "application/vnd.jupyter.widget-view+json": {
       "model_id": "",
       "version_major": 2,
       "version_minor": 0
      },
      "text/plain": [
       "HBox(children=(FloatProgress(value=0.0, description='Iterating end segments:', max=6.0, style=ProgressStyle(de…"
      ]
     },
     "metadata": {},
     "output_type": "display_data"
    },
    {
     "data": {
      "application/vnd.jupyter.widget-view+json": {
       "model_id": "",
       "version_major": 2,
       "version_minor": 0
      },
      "text/plain": [
       "HBox(children=(FloatProgress(value=0.0, description='Iterating end segments:', max=6.0, style=ProgressStyle(de…"
      ]
     },
     "metadata": {},
     "output_type": "display_data"
    },
    {
     "data": {
      "application/vnd.jupyter.widget-view+json": {
       "model_id": "",
       "version_major": 2,
       "version_minor": 0
      },
      "text/plain": [
       "HBox(children=(FloatProgress(value=0.0, description='Iterating end segments:', max=6.0, style=ProgressStyle(de…"
      ]
     },
     "metadata": {},
     "output_type": "display_data"
    },
    {
     "data": {
      "application/vnd.jupyter.widget-view+json": {
       "model_id": "",
       "version_major": 2,
       "version_minor": 0
      },
      "text/plain": [
       "HBox(children=(FloatProgress(value=0.0, description='Iterating end segments:', max=6.0, style=ProgressStyle(de…"
      ]
     },
     "metadata": {},
     "output_type": "display_data"
    },
    {
     "data": {
      "application/vnd.jupyter.widget-view+json": {
       "model_id": "",
       "version_major": 2,
       "version_minor": 0
      },
      "text/plain": [
       "HBox(children=(FloatProgress(value=0.0, description='Iterating end segments:', max=6.0, style=ProgressStyle(de…"
      ]
     },
     "metadata": {},
     "output_type": "display_data"
    },
    {
     "data": {
      "application/vnd.jupyter.widget-view+json": {
       "model_id": "",
       "version_major": 2,
       "version_minor": 0
      },
      "text/plain": [
       "HBox(children=(FloatProgress(value=0.0, description='Iterating end segments:', max=6.0, style=ProgressStyle(de…"
      ]
     },
     "metadata": {},
     "output_type": "display_data"
    },
    {
     "data": {
      "application/vnd.jupyter.widget-view+json": {
       "model_id": "",
       "version_major": 2,
       "version_minor": 0
      },
      "text/plain": [
       "HBox(children=(FloatProgress(value=0.0, description='Iterating end segments:', max=6.0, style=ProgressStyle(de…"
      ]
     },
     "metadata": {},
     "output_type": "display_data"
    },
    {
     "data": {
      "application/vnd.jupyter.widget-view+json": {
       "model_id": "",
       "version_major": 2,
       "version_minor": 0
      },
      "text/plain": [
       "HBox(children=(FloatProgress(value=0.0, description='Iterating end segments:', max=6.0, style=ProgressStyle(de…"
      ]
     },
     "metadata": {},
     "output_type": "display_data"
    },
    {
     "data": {
      "application/vnd.jupyter.widget-view+json": {
       "model_id": "",
       "version_major": 2,
       "version_minor": 0
      },
      "text/plain": [
       "HBox(children=(FloatProgress(value=0.0, description='Iterating end segments:', max=6.0, style=ProgressStyle(de…"
      ]
     },
     "metadata": {},
     "output_type": "display_data"
    },
    {
     "data": {
      "application/vnd.jupyter.widget-view+json": {
       "model_id": "",
       "version_major": 2,
       "version_minor": 0
      },
      "text/plain": [
       "HBox(children=(FloatProgress(value=0.0, description='Iterating end segments:', max=6.0, style=ProgressStyle(de…"
      ]
     },
     "metadata": {},
     "output_type": "display_data"
    },
    {
     "data": {
      "application/vnd.jupyter.widget-view+json": {
       "model_id": "",
       "version_major": 2,
       "version_minor": 0
      },
      "text/plain": [
       "HBox(children=(FloatProgress(value=0.0, description='Iterating end segments:', max=6.0, style=ProgressStyle(de…"
      ]
     },
     "metadata": {},
     "output_type": "display_data"
    },
    {
     "data": {
      "application/vnd.jupyter.widget-view+json": {
       "model_id": "",
       "version_major": 2,
       "version_minor": 0
      },
      "text/plain": [
       "HBox(children=(FloatProgress(value=0.0, description='Iterating end segments:', max=6.0, style=ProgressStyle(de…"
      ]
     },
     "metadata": {},
     "output_type": "display_data"
    },
    {
     "data": {
      "application/vnd.jupyter.widget-view+json": {
       "model_id": "",
       "version_major": 2,
       "version_minor": 0
      },
      "text/plain": [
       "HBox(children=(FloatProgress(value=0.0, description='Iterating end segments:', max=6.0, style=ProgressStyle(de…"
      ]
     },
     "metadata": {},
     "output_type": "display_data"
    },
    {
     "data": {
      "application/vnd.jupyter.widget-view+json": {
       "model_id": "",
       "version_major": 2,
       "version_minor": 0
      },
      "text/plain": [
       "HBox(children=(FloatProgress(value=0.0, description='Iterating end segments:', max=6.0, style=ProgressStyle(de…"
      ]
     },
     "metadata": {},
     "output_type": "display_data"
    },
    {
     "data": {
      "application/vnd.jupyter.widget-view+json": {
       "model_id": "",
       "version_major": 2,
       "version_minor": 0
      },
      "text/plain": [
       "HBox(children=(FloatProgress(value=0.0, description='Iterating end segments:', max=6.0, style=ProgressStyle(de…"
      ]
     },
     "metadata": {},
     "output_type": "display_data"
    },
    {
     "data": {
      "application/vnd.jupyter.widget-view+json": {
       "model_id": "",
       "version_major": 2,
       "version_minor": 0
      },
      "text/plain": [
       "HBox(children=(FloatProgress(value=0.0, description='Iterating end segments:', max=6.0, style=ProgressStyle(de…"
      ]
     },
     "metadata": {},
     "output_type": "display_data"
    },
    {
     "data": {
      "application/vnd.jupyter.widget-view+json": {
       "model_id": "",
       "version_major": 2,
       "version_minor": 0
      },
      "text/plain": [
       "HBox(children=(FloatProgress(value=0.0, description='Iterating end segments:', max=6.0, style=ProgressStyle(de…"
      ]
     },
     "metadata": {},
     "output_type": "display_data"
    },
    {
     "data": {
      "application/vnd.jupyter.widget-view+json": {
       "model_id": "",
       "version_major": 2,
       "version_minor": 0
      },
      "text/plain": [
       "HBox(children=(FloatProgress(value=0.0, description='Iterating end segments:', max=6.0, style=ProgressStyle(de…"
      ]
     },
     "metadata": {},
     "output_type": "display_data"
    },
    {
     "data": {
      "application/vnd.jupyter.widget-view+json": {
       "model_id": "",
       "version_major": 2,
       "version_minor": 0
      },
      "text/plain": [
       "HBox(children=(FloatProgress(value=0.0, description='Iterating end segments:', max=6.0, style=ProgressStyle(de…"
      ]
     },
     "metadata": {},
     "output_type": "display_data"
    },
    {
     "data": {
      "application/vnd.jupyter.widget-view+json": {
       "model_id": "",
       "version_major": 2,
       "version_minor": 0
      },
      "text/plain": [
       "HBox(children=(FloatProgress(value=0.0, description='Iterating end segments:', max=6.0, style=ProgressStyle(de…"
      ]
     },
     "metadata": {},
     "output_type": "display_data"
    },
    {
     "data": {
      "application/vnd.jupyter.widget-view+json": {
       "model_id": "",
       "version_major": 2,
       "version_minor": 0
      },
      "text/plain": [
       "HBox(children=(FloatProgress(value=0.0, description='Iterating end segments:', max=6.0, style=ProgressStyle(de…"
      ]
     },
     "metadata": {},
     "output_type": "display_data"
    },
    {
     "data": {
      "application/vnd.jupyter.widget-view+json": {
       "model_id": "",
       "version_major": 2,
       "version_minor": 0
      },
      "text/plain": [
       "HBox(children=(FloatProgress(value=0.0, description='Iterating end segments:', max=6.0, style=ProgressStyle(de…"
      ]
     },
     "metadata": {},
     "output_type": "display_data"
    },
    {
     "data": {
      "application/vnd.jupyter.widget-view+json": {
       "model_id": "",
       "version_major": 2,
       "version_minor": 0
      },
      "text/plain": [
       "HBox(children=(FloatProgress(value=0.0, description='Iterating end segments:', max=6.0, style=ProgressStyle(de…"
      ]
     },
     "metadata": {},
     "output_type": "display_data"
    },
    {
     "data": {
      "application/vnd.jupyter.widget-view+json": {
       "model_id": "",
       "version_major": 2,
       "version_minor": 0
      },
      "text/plain": [
       "HBox(children=(FloatProgress(value=0.0, description='Iterating end segments:', max=6.0, style=ProgressStyle(de…"
      ]
     },
     "metadata": {},
     "output_type": "display_data"
    },
    {
     "data": {
      "application/vnd.jupyter.widget-view+json": {
       "model_id": "",
       "version_major": 2,
       "version_minor": 0
      },
      "text/plain": [
       "HBox(children=(FloatProgress(value=0.0, description='Iterating end segments:', max=6.0, style=ProgressStyle(de…"
      ]
     },
     "metadata": {},
     "output_type": "display_data"
    },
    {
     "data": {
      "application/vnd.jupyter.widget-view+json": {
       "model_id": "",
       "version_major": 2,
       "version_minor": 0
      },
      "text/plain": [
       "HBox(children=(FloatProgress(value=0.0, description='Iterating end segments:', max=6.0, style=ProgressStyle(de…"
      ]
     },
     "metadata": {},
     "output_type": "display_data"
    },
    {
     "data": {
      "application/vnd.jupyter.widget-view+json": {
       "model_id": "",
       "version_major": 2,
       "version_minor": 0
      },
      "text/plain": [
       "HBox(children=(FloatProgress(value=0.0, description='Iterating end segments:', max=6.0, style=ProgressStyle(de…"
      ]
     },
     "metadata": {},
     "output_type": "display_data"
    },
    {
     "data": {
      "application/vnd.jupyter.widget-view+json": {
       "model_id": "",
       "version_major": 2,
       "version_minor": 0
      },
      "text/plain": [
       "HBox(children=(FloatProgress(value=0.0, description='Iterating end segments:', max=6.0, style=ProgressStyle(de…"
      ]
     },
     "metadata": {},
     "output_type": "display_data"
    },
    {
     "data": {
      "application/vnd.jupyter.widget-view+json": {
       "model_id": "",
       "version_major": 2,
       "version_minor": 0
      },
      "text/plain": [
       "HBox(children=(FloatProgress(value=0.0, description='Iterating end segments:', max=6.0, style=ProgressStyle(de…"
      ]
     },
     "metadata": {},
     "output_type": "display_data"
    },
    {
     "data": {
      "application/vnd.jupyter.widget-view+json": {
       "model_id": "",
       "version_major": 2,
       "version_minor": 0
      },
      "text/plain": [
       "HBox(children=(FloatProgress(value=0.0, description='Iterating end segments:', max=6.0, style=ProgressStyle(de…"
      ]
     },
     "metadata": {},
     "output_type": "display_data"
    },
    {
     "data": {
      "application/vnd.jupyter.widget-view+json": {
       "model_id": "",
       "version_major": 2,
       "version_minor": 0
      },
      "text/plain": [
       "HBox(children=(FloatProgress(value=0.0, description='Iterating end segments:', max=6.0, style=ProgressStyle(de…"
      ]
     },
     "metadata": {},
     "output_type": "display_data"
    },
    {
     "data": {
      "application/vnd.jupyter.widget-view+json": {
       "model_id": "",
       "version_major": 2,
       "version_minor": 0
      },
      "text/plain": [
       "HBox(children=(FloatProgress(value=0.0, description='Iterating end segments:', max=6.0, style=ProgressStyle(de…"
      ]
     },
     "metadata": {},
     "output_type": "display_data"
    },
    {
     "data": {
      "application/vnd.jupyter.widget-view+json": {
       "model_id": "",
       "version_major": 2,
       "version_minor": 0
      },
      "text/plain": [
       "HBox(children=(FloatProgress(value=0.0, description='Iterating end segments:', max=6.0, style=ProgressStyle(de…"
      ]
     },
     "metadata": {},
     "output_type": "display_data"
    },
    {
     "data": {
      "application/vnd.jupyter.widget-view+json": {
       "model_id": "",
       "version_major": 2,
       "version_minor": 0
      },
      "text/plain": [
       "HBox(children=(FloatProgress(value=0.0, description='Iterating end segments:', max=6.0, style=ProgressStyle(de…"
      ]
     },
     "metadata": {},
     "output_type": "display_data"
    },
    {
     "data": {
      "application/vnd.jupyter.widget-view+json": {
       "model_id": "",
       "version_major": 2,
       "version_minor": 0
      },
      "text/plain": [
       "HBox(children=(FloatProgress(value=0.0, description='Iterating end segments:', max=6.0, style=ProgressStyle(de…"
      ]
     },
     "metadata": {},
     "output_type": "display_data"
    },
    {
     "data": {
      "application/vnd.jupyter.widget-view+json": {
       "model_id": "",
       "version_major": 2,
       "version_minor": 0
      },
      "text/plain": [
       "HBox(children=(FloatProgress(value=0.0, description='Iterating end segments:', max=6.0, style=ProgressStyle(de…"
      ]
     },
     "metadata": {},
     "output_type": "display_data"
    },
    {
     "data": {
      "application/vnd.jupyter.widget-view+json": {
       "model_id": "",
       "version_major": 2,
       "version_minor": 0
      },
      "text/plain": [
       "HBox(children=(FloatProgress(value=0.0, description='Iterating end segments:', max=6.0, style=ProgressStyle(de…"
      ]
     },
     "metadata": {},
     "output_type": "display_data"
    },
    {
     "data": {
      "application/vnd.jupyter.widget-view+json": {
       "model_id": "",
       "version_major": 2,
       "version_minor": 0
      },
      "text/plain": [
       "HBox(children=(FloatProgress(value=0.0, description='Iterating end segments:', max=6.0, style=ProgressStyle(de…"
      ]
     },
     "metadata": {},
     "output_type": "display_data"
    },
    {
     "data": {
      "application/vnd.jupyter.widget-view+json": {
       "model_id": "",
       "version_major": 2,
       "version_minor": 0
      },
      "text/plain": [
       "HBox(children=(FloatProgress(value=0.0, description='Iterating end segments:', max=6.0, style=ProgressStyle(de…"
      ]
     },
     "metadata": {},
     "output_type": "display_data"
    },
    {
     "data": {
      "application/vnd.jupyter.widget-view+json": {
       "model_id": "",
       "version_major": 2,
       "version_minor": 0
      },
      "text/plain": [
       "HBox(children=(FloatProgress(value=0.0, description='Iterating end segments:', max=6.0, style=ProgressStyle(de…"
      ]
     },
     "metadata": {},
     "output_type": "display_data"
    },
    {
     "data": {
      "application/vnd.jupyter.widget-view+json": {
       "model_id": "",
       "version_major": 2,
       "version_minor": 0
      },
      "text/plain": [
       "HBox(children=(FloatProgress(value=0.0, description='Iterating end segments:', max=6.0, style=ProgressStyle(de…"
      ]
     },
     "metadata": {},
     "output_type": "display_data"
    },
    {
     "data": {
      "application/vnd.jupyter.widget-view+json": {
       "model_id": "",
       "version_major": 2,
       "version_minor": 0
      },
      "text/plain": [
       "HBox(children=(FloatProgress(value=0.0, description='Iterating end segments:', max=6.0, style=ProgressStyle(de…"
      ]
     },
     "metadata": {},
     "output_type": "display_data"
    },
    {
     "data": {
      "application/vnd.jupyter.widget-view+json": {
       "model_id": "",
       "version_major": 2,
       "version_minor": 0
      },
      "text/plain": [
       "HBox(children=(FloatProgress(value=0.0, description='Iterating end segments:', max=6.0, style=ProgressStyle(de…"
      ]
     },
     "metadata": {},
     "output_type": "display_data"
    },
    {
     "data": {
      "application/vnd.jupyter.widget-view+json": {
       "model_id": "",
       "version_major": 2,
       "version_minor": 0
      },
      "text/plain": [
       "HBox(children=(FloatProgress(value=0.0, description='Iterating end segments:', max=6.0, style=ProgressStyle(de…"
      ]
     },
     "metadata": {},
     "output_type": "display_data"
    },
    {
     "data": {
      "application/vnd.jupyter.widget-view+json": {
       "model_id": "",
       "version_major": 2,
       "version_minor": 0
      },
      "text/plain": [
       "HBox(children=(FloatProgress(value=0.0, description='Iterating end segments:', max=6.0, style=ProgressStyle(de…"
      ]
     },
     "metadata": {},
     "output_type": "display_data"
    },
    {
     "data": {
      "application/vnd.jupyter.widget-view+json": {
       "model_id": "",
       "version_major": 2,
       "version_minor": 0
      },
      "text/plain": [
       "HBox(children=(FloatProgress(value=0.0, description='Iterating end segments:', max=6.0, style=ProgressStyle(de…"
      ]
     },
     "metadata": {},
     "output_type": "display_data"
    },
    {
     "data": {
      "application/vnd.jupyter.widget-view+json": {
       "model_id": "",
       "version_major": 2,
       "version_minor": 0
      },
      "text/plain": [
       "HBox(children=(FloatProgress(value=0.0, description='Iterating end segments:', max=6.0, style=ProgressStyle(de…"
      ]
     },
     "metadata": {},
     "output_type": "display_data"
    },
    {
     "data": {
      "application/vnd.jupyter.widget-view+json": {
       "model_id": "",
       "version_major": 2,
       "version_minor": 0
      },
      "text/plain": [
       "HBox(children=(FloatProgress(value=0.0, description='Iterating end segments:', max=6.0, style=ProgressStyle(de…"
      ]
     },
     "metadata": {},
     "output_type": "display_data"
    },
    {
     "data": {
      "application/vnd.jupyter.widget-view+json": {
       "model_id": "",
       "version_major": 2,
       "version_minor": 0
      },
      "text/plain": [
       "HBox(children=(FloatProgress(value=0.0, description='Iterating end segments:', max=6.0, style=ProgressStyle(de…"
      ]
     },
     "metadata": {},
     "output_type": "display_data"
    },
    {
     "data": {
      "application/vnd.jupyter.widget-view+json": {
       "model_id": "",
       "version_major": 2,
       "version_minor": 0
      },
      "text/plain": [
       "HBox(children=(FloatProgress(value=0.0, description='Iterating end segments:', max=6.0, style=ProgressStyle(de…"
      ]
     },
     "metadata": {},
     "output_type": "display_data"
    },
    {
     "data": {
      "application/vnd.jupyter.widget-view+json": {
       "model_id": "",
       "version_major": 2,
       "version_minor": 0
      },
      "text/plain": [
       "HBox(children=(FloatProgress(value=0.0, description='Iterating end segments:', max=6.0, style=ProgressStyle(de…"
      ]
     },
     "metadata": {},
     "output_type": "display_data"
    },
    {
     "data": {
      "application/vnd.jupyter.widget-view+json": {
       "model_id": "",
       "version_major": 2,
       "version_minor": 0
      },
      "text/plain": [
       "HBox(children=(FloatProgress(value=0.0, description='Iterating end segments:', max=6.0, style=ProgressStyle(de…"
      ]
     },
     "metadata": {},
     "output_type": "display_data"
    },
    {
     "data": {
      "application/vnd.jupyter.widget-view+json": {
       "model_id": "",
       "version_major": 2,
       "version_minor": 0
      },
      "text/plain": [
       "HBox(children=(FloatProgress(value=0.0, description='Iterating end segments:', max=6.0, style=ProgressStyle(de…"
      ]
     },
     "metadata": {},
     "output_type": "display_data"
    },
    {
     "data": {
      "application/vnd.jupyter.widget-view+json": {
       "model_id": "",
       "version_major": 2,
       "version_minor": 0
      },
      "text/plain": [
       "HBox(children=(FloatProgress(value=0.0, description='Iterating end segments:', max=6.0, style=ProgressStyle(de…"
      ]
     },
     "metadata": {},
     "output_type": "display_data"
    },
    {
     "data": {
      "application/vnd.jupyter.widget-view+json": {
       "model_id": "",
       "version_major": 2,
       "version_minor": 0
      },
      "text/plain": [
       "HBox(children=(FloatProgress(value=0.0, description='Iterating end segments:', max=6.0, style=ProgressStyle(de…"
      ]
     },
     "metadata": {},
     "output_type": "display_data"
    },
    {
     "data": {
      "application/vnd.jupyter.widget-view+json": {
       "model_id": "",
       "version_major": 2,
       "version_minor": 0
      },
      "text/plain": [
       "HBox(children=(FloatProgress(value=0.0, description='Iterating end segments:', max=6.0, style=ProgressStyle(de…"
      ]
     },
     "metadata": {},
     "output_type": "display_data"
    },
    {
     "data": {
      "application/vnd.jupyter.widget-view+json": {
       "model_id": "",
       "version_major": 2,
       "version_minor": 0
      },
      "text/plain": [
       "HBox(children=(FloatProgress(value=0.0, description='Iterating end segments:', max=6.0, style=ProgressStyle(de…"
      ]
     },
     "metadata": {},
     "output_type": "display_data"
    },
    {
     "data": {
      "application/vnd.jupyter.widget-view+json": {
       "model_id": "",
       "version_major": 2,
       "version_minor": 0
      },
      "text/plain": [
       "HBox(children=(FloatProgress(value=0.0, description='Iterating end segments:', max=6.0, style=ProgressStyle(de…"
      ]
     },
     "metadata": {},
     "output_type": "display_data"
    },
    {
     "data": {
      "application/vnd.jupyter.widget-view+json": {
       "model_id": "",
       "version_major": 2,
       "version_minor": 0
      },
      "text/plain": [
       "HBox(children=(FloatProgress(value=0.0, description='Iterating end segments:', max=6.0, style=ProgressStyle(de…"
      ]
     },
     "metadata": {},
     "output_type": "display_data"
    },
    {
     "data": {
      "application/vnd.jupyter.widget-view+json": {
       "model_id": "",
       "version_major": 2,
       "version_minor": 0
      },
      "text/plain": [
       "HBox(children=(FloatProgress(value=0.0, description='Iterating end segments:', max=6.0, style=ProgressStyle(de…"
      ]
     },
     "metadata": {},
     "output_type": "display_data"
    },
    {
     "data": {
      "application/vnd.jupyter.widget-view+json": {
       "model_id": "",
       "version_major": 2,
       "version_minor": 0
      },
      "text/plain": [
       "HBox(children=(FloatProgress(value=0.0, description='Iterating end segments:', max=6.0, style=ProgressStyle(de…"
      ]
     },
     "metadata": {},
     "output_type": "display_data"
    },
    {
     "data": {
      "application/vnd.jupyter.widget-view+json": {
       "model_id": "",
       "version_major": 2,
       "version_minor": 0
      },
      "text/plain": [
       "HBox(children=(FloatProgress(value=0.0, description='Iterating end segments:', max=6.0, style=ProgressStyle(de…"
      ]
     },
     "metadata": {},
     "output_type": "display_data"
    },
    {
     "data": {
      "application/vnd.jupyter.widget-view+json": {
       "model_id": "",
       "version_major": 2,
       "version_minor": 0
      },
      "text/plain": [
       "HBox(children=(FloatProgress(value=0.0, description='Iterating end segments:', max=6.0, style=ProgressStyle(de…"
      ]
     },
     "metadata": {},
     "output_type": "display_data"
    },
    {
     "data": {
      "application/vnd.jupyter.widget-view+json": {
       "model_id": "",
       "version_major": 2,
       "version_minor": 0
      },
      "text/plain": [
       "HBox(children=(FloatProgress(value=0.0, description='Iterating end segments:', max=6.0, style=ProgressStyle(de…"
      ]
     },
     "metadata": {},
     "output_type": "display_data"
    },
    {
     "data": {
      "application/vnd.jupyter.widget-view+json": {
       "model_id": "",
       "version_major": 2,
       "version_minor": 0
      },
      "text/plain": [
       "HBox(children=(FloatProgress(value=0.0, description='Iterating end segments:', max=6.0, style=ProgressStyle(de…"
      ]
     },
     "metadata": {},
     "output_type": "display_data"
    },
    {
     "data": {
      "application/vnd.jupyter.widget-view+json": {
       "model_id": "",
       "version_major": 2,
       "version_minor": 0
      },
      "text/plain": [
       "HBox(children=(FloatProgress(value=0.0, description='Iterating end segments:', max=6.0, style=ProgressStyle(de…"
      ]
     },
     "metadata": {},
     "output_type": "display_data"
    },
    {
     "data": {
      "application/vnd.jupyter.widget-view+json": {
       "model_id": "",
       "version_major": 2,
       "version_minor": 0
      },
      "text/plain": [
       "HBox(children=(FloatProgress(value=0.0, description='Iterating end segments:', max=6.0, style=ProgressStyle(de…"
      ]
     },
     "metadata": {},
     "output_type": "display_data"
    },
    {
     "data": {
      "application/vnd.jupyter.widget-view+json": {
       "model_id": "",
       "version_major": 2,
       "version_minor": 0
      },
      "text/plain": [
       "HBox(children=(FloatProgress(value=0.0, description='Iterating end segments:', max=6.0, style=ProgressStyle(de…"
      ]
     },
     "metadata": {},
     "output_type": "display_data"
    },
    {
     "data": {
      "application/vnd.jupyter.widget-view+json": {
       "model_id": "",
       "version_major": 2,
       "version_minor": 0
      },
      "text/plain": [
       "HBox(children=(FloatProgress(value=0.0, description='Iterating end segments:', max=6.0, style=ProgressStyle(de…"
      ]
     },
     "metadata": {},
     "output_type": "display_data"
    },
    {
     "data": {
      "application/vnd.jupyter.widget-view+json": {
       "model_id": "",
       "version_major": 2,
       "version_minor": 0
      },
      "text/plain": [
       "HBox(children=(FloatProgress(value=0.0, description='Iterating end segments:', max=6.0, style=ProgressStyle(de…"
      ]
     },
     "metadata": {},
     "output_type": "display_data"
    },
    {
     "data": {
      "application/vnd.jupyter.widget-view+json": {
       "model_id": "",
       "version_major": 2,
       "version_minor": 0
      },
      "text/plain": [
       "HBox(children=(FloatProgress(value=0.0, description='Iterating end segments:', max=6.0, style=ProgressStyle(de…"
      ]
     },
     "metadata": {},
     "output_type": "display_data"
    },
    {
     "data": {
      "application/vnd.jupyter.widget-view+json": {
       "model_id": "",
       "version_major": 2,
       "version_minor": 0
      },
      "text/plain": [
       "HBox(children=(FloatProgress(value=0.0, description='Iterating end segments:', max=6.0, style=ProgressStyle(de…"
      ]
     },
     "metadata": {},
     "output_type": "display_data"
    },
    {
     "data": {
      "application/vnd.jupyter.widget-view+json": {
       "model_id": "",
       "version_major": 2,
       "version_minor": 0
      },
      "text/plain": [
       "HBox(children=(FloatProgress(value=0.0, description='Iterating end segments:', max=6.0, style=ProgressStyle(de…"
      ]
     },
     "metadata": {},
     "output_type": "display_data"
    },
    {
     "data": {
      "application/vnd.jupyter.widget-view+json": {
       "model_id": "",
       "version_major": 2,
       "version_minor": 0
      },
      "text/plain": [
       "HBox(children=(FloatProgress(value=0.0, description='Iterating end segments:', max=6.0, style=ProgressStyle(de…"
      ]
     },
     "metadata": {},
     "output_type": "display_data"
    },
    {
     "data": {
      "application/vnd.jupyter.widget-view+json": {
       "model_id": "",
       "version_major": 2,
       "version_minor": 0
      },
      "text/plain": [
       "HBox(children=(FloatProgress(value=0.0, description='Iterating end segments:', max=6.0, style=ProgressStyle(de…"
      ]
     },
     "metadata": {},
     "output_type": "display_data"
    },
    {
     "data": {
      "application/vnd.jupyter.widget-view+json": {
       "model_id": "",
       "version_major": 2,
       "version_minor": 0
      },
      "text/plain": [
       "HBox(children=(FloatProgress(value=0.0, description='Iterating end segments:', max=6.0, style=ProgressStyle(de…"
      ]
     },
     "metadata": {},
     "output_type": "display_data"
    },
    {
     "data": {
      "application/vnd.jupyter.widget-view+json": {
       "model_id": "",
       "version_major": 2,
       "version_minor": 0
      },
      "text/plain": [
       "HBox(children=(FloatProgress(value=0.0, description='Iterating end segments:', max=6.0, style=ProgressStyle(de…"
      ]
     },
     "metadata": {},
     "output_type": "display_data"
    },
    {
     "data": {
      "application/vnd.jupyter.widget-view+json": {
       "model_id": "",
       "version_major": 2,
       "version_minor": 0
      },
      "text/plain": [
       "HBox(children=(FloatProgress(value=0.0, description='Iterating end segments:', max=6.0, style=ProgressStyle(de…"
      ]
     },
     "metadata": {},
     "output_type": "display_data"
    },
    {
     "data": {
      "application/vnd.jupyter.widget-view+json": {
       "model_id": "",
       "version_major": 2,
       "version_minor": 0
      },
      "text/plain": [
       "HBox(children=(FloatProgress(value=0.0, description='Iterating end segments:', max=6.0, style=ProgressStyle(de…"
      ]
     },
     "metadata": {},
     "output_type": "display_data"
    },
    {
     "data": {
      "application/vnd.jupyter.widget-view+json": {
       "model_id": "",
       "version_major": 2,
       "version_minor": 0
      },
      "text/plain": [
       "HBox(children=(FloatProgress(value=0.0, description='Iterating end segments:', max=6.0, style=ProgressStyle(de…"
      ]
     },
     "metadata": {},
     "output_type": "display_data"
    },
    {
     "data": {
      "application/vnd.jupyter.widget-view+json": {
       "model_id": "",
       "version_major": 2,
       "version_minor": 0
      },
      "text/plain": [
       "HBox(children=(FloatProgress(value=0.0, description='Iterating end segments:', max=6.0, style=ProgressStyle(de…"
      ]
     },
     "metadata": {},
     "output_type": "display_data"
    },
    {
     "data": {
      "application/vnd.jupyter.widget-view+json": {
       "model_id": "",
       "version_major": 2,
       "version_minor": 0
      },
      "text/plain": [
       "HBox(children=(FloatProgress(value=0.0, description='Iterating end segments:', max=6.0, style=ProgressStyle(de…"
      ]
     },
     "metadata": {},
     "output_type": "display_data"
    },
    {
     "data": {
      "application/vnd.jupyter.widget-view+json": {
       "model_id": "",
       "version_major": 2,
       "version_minor": 0
      },
      "text/plain": [
       "HBox(children=(FloatProgress(value=0.0, description='Iterating end segments:', max=6.0, style=ProgressStyle(de…"
      ]
     },
     "metadata": {},
     "output_type": "display_data"
    },
    {
     "data": {
      "application/vnd.jupyter.widget-view+json": {
       "model_id": "",
       "version_major": 2,
       "version_minor": 0
      },
      "text/plain": [
       "HBox(children=(FloatProgress(value=0.0, description='Iterating end segments:', max=6.0, style=ProgressStyle(de…"
      ]
     },
     "metadata": {},
     "output_type": "display_data"
    },
    {
     "data": {
      "application/vnd.jupyter.widget-view+json": {
       "model_id": "",
       "version_major": 2,
       "version_minor": 0
      },
      "text/plain": [
       "HBox(children=(FloatProgress(value=0.0, description='Iterating end segments:', max=6.0, style=ProgressStyle(de…"
      ]
     },
     "metadata": {},
     "output_type": "display_data"
    },
    {
     "data": {
      "application/vnd.jupyter.widget-view+json": {
       "model_id": "",
       "version_major": 2,
       "version_minor": 0
      },
      "text/plain": [
       "HBox(children=(FloatProgress(value=0.0, description='Iterating end segments:', max=6.0, style=ProgressStyle(de…"
      ]
     },
     "metadata": {},
     "output_type": "display_data"
    },
    {
     "data": {
      "application/vnd.jupyter.widget-view+json": {
       "model_id": "",
       "version_major": 2,
       "version_minor": 0
      },
      "text/plain": [
       "HBox(children=(FloatProgress(value=0.0, description='Iterating end segments:', max=6.0, style=ProgressStyle(de…"
      ]
     },
     "metadata": {},
     "output_type": "display_data"
    },
    {
     "data": {
      "application/vnd.jupyter.widget-view+json": {
       "model_id": "",
       "version_major": 2,
       "version_minor": 0
      },
      "text/plain": [
       "HBox(children=(FloatProgress(value=0.0, description='Iterating end segments:', max=6.0, style=ProgressStyle(de…"
      ]
     },
     "metadata": {},
     "output_type": "display_data"
    },
    {
     "data": {
      "application/vnd.jupyter.widget-view+json": {
       "model_id": "",
       "version_major": 2,
       "version_minor": 0
      },
      "text/plain": [
       "HBox(children=(FloatProgress(value=0.0, description='Iterating end segments:', max=6.0, style=ProgressStyle(de…"
      ]
     },
     "metadata": {},
     "output_type": "display_data"
    },
    {
     "data": {
      "application/vnd.jupyter.widget-view+json": {
       "model_id": "",
       "version_major": 2,
       "version_minor": 0
      },
      "text/plain": [
       "HBox(children=(FloatProgress(value=0.0, description='Iterating end segments:', max=6.0, style=ProgressStyle(de…"
      ]
     },
     "metadata": {},
     "output_type": "display_data"
    },
    {
     "data": {
      "application/vnd.jupyter.widget-view+json": {
       "model_id": "",
       "version_major": 2,
       "version_minor": 0
      },
      "text/plain": [
       "HBox(children=(FloatProgress(value=0.0, description='Iterating end segments:', max=6.0, style=ProgressStyle(de…"
      ]
     },
     "metadata": {},
     "output_type": "display_data"
    },
    {
     "data": {
      "application/vnd.jupyter.widget-view+json": {
       "model_id": "",
       "version_major": 2,
       "version_minor": 0
      },
      "text/plain": [
       "HBox(children=(FloatProgress(value=0.0, description='Iterating end segments:', max=6.0, style=ProgressStyle(de…"
      ]
     },
     "metadata": {},
     "output_type": "display_data"
    },
    {
     "data": {
      "application/vnd.jupyter.widget-view+json": {
       "model_id": "",
       "version_major": 2,
       "version_minor": 0
      },
      "text/plain": [
       "HBox(children=(FloatProgress(value=0.0, description='Iterating end segments:', max=6.0, style=ProgressStyle(de…"
      ]
     },
     "metadata": {},
     "output_type": "display_data"
    },
    {
     "data": {
      "application/vnd.jupyter.widget-view+json": {
       "model_id": "",
       "version_major": 2,
       "version_minor": 0
      },
      "text/plain": [
       "HBox(children=(FloatProgress(value=0.0, description='Iterating end segments:', max=6.0, style=ProgressStyle(de…"
      ]
     },
     "metadata": {},
     "output_type": "display_data"
    },
    {
     "data": {
      "application/vnd.jupyter.widget-view+json": {
       "model_id": "",
       "version_major": 2,
       "version_minor": 0
      },
      "text/plain": [
       "HBox(children=(FloatProgress(value=0.0, description='Iterating end segments:', max=6.0, style=ProgressStyle(de…"
      ]
     },
     "metadata": {},
     "output_type": "display_data"
    },
    {
     "data": {
      "application/vnd.jupyter.widget-view+json": {
       "model_id": "",
       "version_major": 2,
       "version_minor": 0
      },
      "text/plain": [
       "HBox(children=(FloatProgress(value=0.0, description='Iterating end segments:', max=6.0, style=ProgressStyle(de…"
      ]
     },
     "metadata": {},
     "output_type": "display_data"
    },
    {
     "data": {
      "application/vnd.jupyter.widget-view+json": {
       "model_id": "",
       "version_major": 2,
       "version_minor": 0
      },
      "text/plain": [
       "HBox(children=(FloatProgress(value=0.0, description='Iterating end segments:', max=6.0, style=ProgressStyle(de…"
      ]
     },
     "metadata": {},
     "output_type": "display_data"
    },
    {
     "data": {
      "application/vnd.jupyter.widget-view+json": {
       "model_id": "",
       "version_major": 2,
       "version_minor": 0
      },
      "text/plain": [
       "HBox(children=(FloatProgress(value=0.0, description='Iterating end segments:', max=6.0, style=ProgressStyle(de…"
      ]
     },
     "metadata": {},
     "output_type": "display_data"
    },
    {
     "data": {
      "application/vnd.jupyter.widget-view+json": {
       "model_id": "",
       "version_major": 2,
       "version_minor": 0
      },
      "text/plain": [
       "HBox(children=(FloatProgress(value=0.0, description='Iterating end segments:', max=6.0, style=ProgressStyle(de…"
      ]
     },
     "metadata": {},
     "output_type": "display_data"
    },
    {
     "data": {
      "application/vnd.jupyter.widget-view+json": {
       "model_id": "",
       "version_major": 2,
       "version_minor": 0
      },
      "text/plain": [
       "HBox(children=(FloatProgress(value=0.0, description='Iterating end segments:', max=6.0, style=ProgressStyle(de…"
      ]
     },
     "metadata": {},
     "output_type": "display_data"
    },
    {
     "data": {
      "application/vnd.jupyter.widget-view+json": {
       "model_id": "",
       "version_major": 2,
       "version_minor": 0
      },
      "text/plain": [
       "HBox(children=(FloatProgress(value=0.0, description='Iterating end segments:', max=6.0, style=ProgressStyle(de…"
      ]
     },
     "metadata": {},
     "output_type": "display_data"
    },
    {
     "data": {
      "application/vnd.jupyter.widget-view+json": {
       "model_id": "",
       "version_major": 2,
       "version_minor": 0
      },
      "text/plain": [
       "HBox(children=(FloatProgress(value=0.0, description='Iterating end segments:', max=6.0, style=ProgressStyle(de…"
      ]
     },
     "metadata": {},
     "output_type": "display_data"
    },
    {
     "data": {
      "application/vnd.jupyter.widget-view+json": {
       "model_id": "",
       "version_major": 2,
       "version_minor": 0
      },
      "text/plain": [
       "HBox(children=(FloatProgress(value=0.0, description='Iterating end segments:', max=6.0, style=ProgressStyle(de…"
      ]
     },
     "metadata": {},
     "output_type": "display_data"
    },
    {
     "data": {
      "application/vnd.jupyter.widget-view+json": {
       "model_id": "",
       "version_major": 2,
       "version_minor": 0
      },
      "text/plain": [
       "HBox(children=(FloatProgress(value=0.0, description='Iterating end segments:', max=6.0, style=ProgressStyle(de…"
      ]
     },
     "metadata": {},
     "output_type": "display_data"
    },
    {
     "data": {
      "application/vnd.jupyter.widget-view+json": {
       "model_id": "",
       "version_major": 2,
       "version_minor": 0
      },
      "text/plain": [
       "HBox(children=(FloatProgress(value=0.0, description='Iterating end segments:', max=6.0, style=ProgressStyle(de…"
      ]
     },
     "metadata": {},
     "output_type": "display_data"
    },
    {
     "data": {
      "application/vnd.jupyter.widget-view+json": {
       "model_id": "",
       "version_major": 2,
       "version_minor": 0
      },
      "text/plain": [
       "HBox(children=(FloatProgress(value=0.0, description='Iterating end segments:', max=6.0, style=ProgressStyle(de…"
      ]
     },
     "metadata": {},
     "output_type": "display_data"
    },
    {
     "data": {
      "application/vnd.jupyter.widget-view+json": {
       "model_id": "",
       "version_major": 2,
       "version_minor": 0
      },
      "text/plain": [
       "HBox(children=(FloatProgress(value=0.0, description='Iterating end segments:', max=6.0, style=ProgressStyle(de…"
      ]
     },
     "metadata": {},
     "output_type": "display_data"
    },
    {
     "data": {
      "application/vnd.jupyter.widget-view+json": {
       "model_id": "",
       "version_major": 2,
       "version_minor": 0
      },
      "text/plain": [
       "HBox(children=(FloatProgress(value=0.0, description='Iterating end segments:', max=6.0, style=ProgressStyle(de…"
      ]
     },
     "metadata": {},
     "output_type": "display_data"
    },
    {
     "data": {
      "application/vnd.jupyter.widget-view+json": {
       "model_id": "",
       "version_major": 2,
       "version_minor": 0
      },
      "text/plain": [
       "HBox(children=(FloatProgress(value=0.0, description='Iterating end segments:', max=6.0, style=ProgressStyle(de…"
      ]
     },
     "metadata": {},
     "output_type": "display_data"
    },
    {
     "data": {
      "application/vnd.jupyter.widget-view+json": {
       "model_id": "",
       "version_major": 2,
       "version_minor": 0
      },
      "text/plain": [
       "HBox(children=(FloatProgress(value=0.0, description='Iterating end segments:', max=6.0, style=ProgressStyle(de…"
      ]
     },
     "metadata": {},
     "output_type": "display_data"
    },
    {
     "data": {
      "application/vnd.jupyter.widget-view+json": {
       "model_id": "",
       "version_major": 2,
       "version_minor": 0
      },
      "text/plain": [
       "HBox(children=(FloatProgress(value=0.0, description='Iterating end segments:', max=6.0, style=ProgressStyle(de…"
      ]
     },
     "metadata": {},
     "output_type": "display_data"
    },
    {
     "data": {
      "application/vnd.jupyter.widget-view+json": {
       "model_id": "",
       "version_major": 2,
       "version_minor": 0
      },
      "text/plain": [
       "HBox(children=(FloatProgress(value=0.0, description='Iterating end segments:', max=6.0, style=ProgressStyle(de…"
      ]
     },
     "metadata": {},
     "output_type": "display_data"
    },
    {
     "data": {
      "application/vnd.jupyter.widget-view+json": {
       "model_id": "",
       "version_major": 2,
       "version_minor": 0
      },
      "text/plain": [
       "HBox(children=(FloatProgress(value=0.0, description='Iterating end segments:', max=6.0, style=ProgressStyle(de…"
      ]
     },
     "metadata": {},
     "output_type": "display_data"
    },
    {
     "data": {
      "application/vnd.jupyter.widget-view+json": {
       "model_id": "",
       "version_major": 2,
       "version_minor": 0
      },
      "text/plain": [
       "HBox(children=(FloatProgress(value=0.0, description='Iterating end segments:', max=6.0, style=ProgressStyle(de…"
      ]
     },
     "metadata": {},
     "output_type": "display_data"
    },
    {
     "data": {
      "application/vnd.jupyter.widget-view+json": {
       "model_id": "",
       "version_major": 2,
       "version_minor": 0
      },
      "text/plain": [
       "HBox(children=(FloatProgress(value=0.0, description='Iterating end segments:', max=6.0, style=ProgressStyle(de…"
      ]
     },
     "metadata": {},
     "output_type": "display_data"
    },
    {
     "data": {
      "application/vnd.jupyter.widget-view+json": {
       "model_id": "",
       "version_major": 2,
       "version_minor": 0
      },
      "text/plain": [
       "HBox(children=(FloatProgress(value=0.0, description='Iterating end segments:', max=6.0, style=ProgressStyle(de…"
      ]
     },
     "metadata": {},
     "output_type": "display_data"
    },
    {
     "data": {
      "application/vnd.jupyter.widget-view+json": {
       "model_id": "",
       "version_major": 2,
       "version_minor": 0
      },
      "text/plain": [
       "HBox(children=(FloatProgress(value=0.0, description='Iterating end segments:', max=6.0, style=ProgressStyle(de…"
      ]
     },
     "metadata": {},
     "output_type": "display_data"
    },
    {
     "data": {
      "application/vnd.jupyter.widget-view+json": {
       "model_id": "",
       "version_major": 2,
       "version_minor": 0
      },
      "text/plain": [
       "HBox(children=(FloatProgress(value=0.0, description='Iterating end segments:', max=6.0, style=ProgressStyle(de…"
      ]
     },
     "metadata": {},
     "output_type": "display_data"
    },
    {
     "data": {
      "application/vnd.jupyter.widget-view+json": {
       "model_id": "",
       "version_major": 2,
       "version_minor": 0
      },
      "text/plain": [
       "HBox(children=(FloatProgress(value=0.0, description='Iterating end segments:', max=6.0, style=ProgressStyle(de…"
      ]
     },
     "metadata": {},
     "output_type": "display_data"
    },
    {
     "data": {
      "application/vnd.jupyter.widget-view+json": {
       "model_id": "",
       "version_major": 2,
       "version_minor": 0
      },
      "text/plain": [
       "HBox(children=(FloatProgress(value=0.0, description='Iterating end segments:', max=6.0, style=ProgressStyle(de…"
      ]
     },
     "metadata": {},
     "output_type": "display_data"
    },
    {
     "data": {
      "application/vnd.jupyter.widget-view+json": {
       "model_id": "",
       "version_major": 2,
       "version_minor": 0
      },
      "text/plain": [
       "HBox(children=(FloatProgress(value=0.0, description='Iterating end segments:', max=6.0, style=ProgressStyle(de…"
      ]
     },
     "metadata": {},
     "output_type": "display_data"
    },
    {
     "data": {
      "application/vnd.jupyter.widget-view+json": {
       "model_id": "",
       "version_major": 2,
       "version_minor": 0
      },
      "text/plain": [
       "HBox(children=(FloatProgress(value=0.0, description='Iterating end segments:', max=6.0, style=ProgressStyle(de…"
      ]
     },
     "metadata": {},
     "output_type": "display_data"
    },
    {
     "data": {
      "application/vnd.jupyter.widget-view+json": {
       "model_id": "",
       "version_major": 2,
       "version_minor": 0
      },
      "text/plain": [
       "HBox(children=(FloatProgress(value=0.0, description='Iterating end segments:', max=6.0, style=ProgressStyle(de…"
      ]
     },
     "metadata": {},
     "output_type": "display_data"
    },
    {
     "data": {
      "application/vnd.jupyter.widget-view+json": {
       "model_id": "",
       "version_major": 2,
       "version_minor": 0
      },
      "text/plain": [
       "HBox(children=(FloatProgress(value=0.0, description='Iterating end segments:', max=6.0, style=ProgressStyle(de…"
      ]
     },
     "metadata": {},
     "output_type": "display_data"
    },
    {
     "data": {
      "application/vnd.jupyter.widget-view+json": {
       "model_id": "",
       "version_major": 2,
       "version_minor": 0
      },
      "text/plain": [
       "HBox(children=(FloatProgress(value=0.0, description='Iterating end segments:', max=6.0, style=ProgressStyle(de…"
      ]
     },
     "metadata": {},
     "output_type": "display_data"
    },
    {
     "data": {
      "application/vnd.jupyter.widget-view+json": {
       "model_id": "",
       "version_major": 2,
       "version_minor": 0
      },
      "text/plain": [
       "HBox(children=(FloatProgress(value=0.0, description='Iterating end segments:', max=6.0, style=ProgressStyle(de…"
      ]
     },
     "metadata": {},
     "output_type": "display_data"
    },
    {
     "data": {
      "application/vnd.jupyter.widget-view+json": {
       "model_id": "",
       "version_major": 2,
       "version_minor": 0
      },
      "text/plain": [
       "HBox(children=(FloatProgress(value=0.0, description='Iterating end segments:', max=6.0, style=ProgressStyle(de…"
      ]
     },
     "metadata": {},
     "output_type": "display_data"
    },
    {
     "data": {
      "application/vnd.jupyter.widget-view+json": {
       "model_id": "",
       "version_major": 2,
       "version_minor": 0
      },
      "text/plain": [
       "HBox(children=(FloatProgress(value=0.0, description='Iterating end segments:', max=6.0, style=ProgressStyle(de…"
      ]
     },
     "metadata": {},
     "output_type": "display_data"
    },
    {
     "data": {
      "application/vnd.jupyter.widget-view+json": {
       "model_id": "",
       "version_major": 2,
       "version_minor": 0
      },
      "text/plain": [
       "HBox(children=(FloatProgress(value=0.0, description='Iterating end segments:', max=6.0, style=ProgressStyle(de…"
      ]
     },
     "metadata": {},
     "output_type": "display_data"
    },
    {
     "data": {
      "application/vnd.jupyter.widget-view+json": {
       "model_id": "",
       "version_major": 2,
       "version_minor": 0
      },
      "text/plain": [
       "HBox(children=(FloatProgress(value=0.0, description='Iterating end segments:', max=6.0, style=ProgressStyle(de…"
      ]
     },
     "metadata": {},
     "output_type": "display_data"
    },
    {
     "data": {
      "application/vnd.jupyter.widget-view+json": {
       "model_id": "",
       "version_major": 2,
       "version_minor": 0
      },
      "text/plain": [
       "HBox(children=(FloatProgress(value=0.0, description='Iterating end segments:', max=6.0, style=ProgressStyle(de…"
      ]
     },
     "metadata": {},
     "output_type": "display_data"
    },
    {
     "name": "stdout",
     "output_type": "stream",
     "text": [
      "\n"
     ]
    }
   ],
   "source": [
    "with torch.no_grad():\n",
    "    predictions = pd.DataFrame(columns=['start_datetime', 'start_seg', 'end_seg', 'tt'])\n",
    "    for test_row_idx, test_row in tqdm(test_data.iterrows(), total=test_data.shape[0]):\n",
    "        row = dict()\n",
    "        row['start_datetime'] = test_row['start_datetime']\n",
    "\n",
    "        for end_seg in tqdm(end_segs, desc=\"Iterating end segments:\", leave=False):\n",
    "            row['end_seg'] = end_seg\n",
    "\n",
    "            for start_seg in range(1, end_seg+1):\n",
    "                row['start_seg'] = start_seg\n",
    "                \n",
    "                tts_available = [0] + test_row[['seg_{}_tt'.format(i) for i in range(1, start_seg)]].values.tolist()\n",
    "                tts_not_available = [0 for _ in range(70-start_seg)]\n",
    "                x = torch.tensor(tts_available + tts_not_available).float()\n",
    "\n",
    "                tt_segs = []\n",
    "                for seg in range(start_seg, end_seg+1):\n",
    "                    output = net.forward(x.view(1, 70, 1)).squeeze() # x: batch_size, seq_len, input_size\n",
    "                    tt_seg = output[seg-1].item()\n",
    "                    if seg < 70:\n",
    "                        x[seg] = tt_seg\n",
    "                    tt_seg_original = scalers['seg_{}_tt'.format(seg)].inverse_transform([tt_seg])[0]\n",
    "                    tt_segs.append(tt_seg_original)\n",
    "    \n",
    "                row['tt'] = np.sum(tt_segs)\n",
    "                \n",
    "                predictions = predictions.append(row, ignore_index=True) "
   ]
  },
  {
   "cell_type": "code",
   "execution_count": 30,
   "metadata": {},
   "outputs": [],
   "source": [
    "predictions = predictions.sort_values(by=['start_datetime', 'start_seg', 'end_seg'])"
   ]
  },
  {
   "cell_type": "code",
   "execution_count": 31,
   "metadata": {},
   "outputs": [
    {
     "data": {
      "text/html": [
       "<div>\n",
       "<style scoped>\n",
       "    .dataframe tbody tr th:only-of-type {\n",
       "        vertical-align: middle;\n",
       "    }\n",
       "\n",
       "    .dataframe tbody tr th {\n",
       "        vertical-align: top;\n",
       "    }\n",
       "\n",
       "    .dataframe thead th {\n",
       "        text-align: right;\n",
       "    }\n",
       "</style>\n",
       "<table border=\"1\" class=\"dataframe\">\n",
       "  <thead>\n",
       "    <tr style=\"text-align: right;\">\n",
       "      <th></th>\n",
       "      <th>start_datetime</th>\n",
       "      <th>start_seg</th>\n",
       "      <th>end_seg</th>\n",
       "      <th>tt</th>\n",
       "    </tr>\n",
       "  </thead>\n",
       "  <tbody>\n",
       "    <tr>\n",
       "      <th>0</th>\n",
       "      <td>2013-10-11 05:03:00</td>\n",
       "      <td>1</td>\n",
       "      <td>45</td>\n",
       "      <td>2138.047359</td>\n",
       "    </tr>\n",
       "    <tr>\n",
       "      <th>45</th>\n",
       "      <td>2013-10-11 05:03:00</td>\n",
       "      <td>1</td>\n",
       "      <td>50</td>\n",
       "      <td>2425.670979</td>\n",
       "    </tr>\n",
       "    <tr>\n",
       "      <th>95</th>\n",
       "      <td>2013-10-11 05:03:00</td>\n",
       "      <td>1</td>\n",
       "      <td>55</td>\n",
       "      <td>2689.980514</td>\n",
       "    </tr>\n",
       "    <tr>\n",
       "      <th>150</th>\n",
       "      <td>2013-10-11 05:03:00</td>\n",
       "      <td>1</td>\n",
       "      <td>60</td>\n",
       "      <td>3095.087711</td>\n",
       "    </tr>\n",
       "    <tr>\n",
       "      <th>210</th>\n",
       "      <td>2013-10-11 05:03:00</td>\n",
       "      <td>1</td>\n",
       "      <td>65</td>\n",
       "      <td>3316.753108</td>\n",
       "    </tr>\n",
       "  </tbody>\n",
       "</table>\n",
       "</div>"
      ],
      "text/plain": [
       "          start_datetime start_seg end_seg           tt\n",
       "0    2013-10-11 05:03:00         1      45  2138.047359\n",
       "45   2013-10-11 05:03:00         1      50  2425.670979\n",
       "95   2013-10-11 05:03:00         1      55  2689.980514\n",
       "150  2013-10-11 05:03:00         1      60  3095.087711\n",
       "210  2013-10-11 05:03:00         1      65  3316.753108"
      ]
     },
     "execution_count": 31,
     "metadata": {},
     "output_type": "execute_result"
    }
   ],
   "source": [
    "predictions.head()"
   ]
  },
  {
   "cell_type": "code",
   "execution_count": 32,
   "metadata": {},
   "outputs": [
    {
     "data": {
      "text/html": [
       "<div>\n",
       "<style scoped>\n",
       "    .dataframe tbody tr th:only-of-type {\n",
       "        vertical-align: middle;\n",
       "    }\n",
       "\n",
       "    .dataframe tbody tr th {\n",
       "        vertical-align: top;\n",
       "    }\n",
       "\n",
       "    .dataframe thead th {\n",
       "        text-align: right;\n",
       "    }\n",
       "</style>\n",
       "<table border=\"1\" class=\"dataframe\">\n",
       "  <thead>\n",
       "    <tr style=\"text-align: right;\">\n",
       "      <th></th>\n",
       "      <th>start_datetime</th>\n",
       "      <th>start_seg</th>\n",
       "      <th>end_seg</th>\n",
       "      <th>tt</th>\n",
       "    </tr>\n",
       "  </thead>\n",
       "  <tbody>\n",
       "    <tr>\n",
       "      <th>105220</th>\n",
       "      <td>2013-10-17 20:12:00</td>\n",
       "      <td>66</td>\n",
       "      <td>70</td>\n",
       "      <td>248.260133</td>\n",
       "    </tr>\n",
       "    <tr>\n",
       "      <th>105221</th>\n",
       "      <td>2013-10-17 20:12:00</td>\n",
       "      <td>67</td>\n",
       "      <td>70</td>\n",
       "      <td>188.499926</td>\n",
       "    </tr>\n",
       "    <tr>\n",
       "      <th>105222</th>\n",
       "      <td>2013-10-17 20:12:00</td>\n",
       "      <td>68</td>\n",
       "      <td>70</td>\n",
       "      <td>117.788118</td>\n",
       "    </tr>\n",
       "    <tr>\n",
       "      <th>105223</th>\n",
       "      <td>2013-10-17 20:12:00</td>\n",
       "      <td>69</td>\n",
       "      <td>70</td>\n",
       "      <td>76.178929</td>\n",
       "    </tr>\n",
       "    <tr>\n",
       "      <th>105224</th>\n",
       "      <td>2013-10-17 20:12:00</td>\n",
       "      <td>70</td>\n",
       "      <td>70</td>\n",
       "      <td>42.115569</td>\n",
       "    </tr>\n",
       "  </tbody>\n",
       "</table>\n",
       "</div>"
      ],
      "text/plain": [
       "             start_datetime start_seg end_seg          tt\n",
       "105220  2013-10-17 20:12:00        66      70  248.260133\n",
       "105221  2013-10-17 20:12:00        67      70  188.499926\n",
       "105222  2013-10-17 20:12:00        68      70  117.788118\n",
       "105223  2013-10-17 20:12:00        69      70   76.178929\n",
       "105224  2013-10-17 20:12:00        70      70   42.115569"
      ]
     },
     "execution_count": 32,
     "metadata": {},
     "output_type": "execute_result"
    }
   ],
   "source": [
    "predictions.tail()"
   ]
  },
  {
   "cell_type": "code",
   "execution_count": 33,
   "metadata": {},
   "outputs": [],
   "source": [
    "predictions.to_csv(os.path.join(RESULTS_FOLDER, 'results_{}.csv'.format(DATA_ID)), index=False)"
   ]
  },
  {
   "cell_type": "code",
   "execution_count": null,
   "metadata": {},
   "outputs": [],
   "source": []
  }
 ],
 "metadata": {
  "kernelspec": {
   "display_name": "Python 3",
   "language": "python",
   "name": "python3"
  },
  "language_info": {
   "codemirror_mode": {
    "name": "ipython",
    "version": 3
   },
   "file_extension": ".py",
   "mimetype": "text/x-python",
   "name": "python",
   "nbconvert_exporter": "python",
   "pygments_lexer": "ipython3",
   "version": "3.6.9"
  }
 },
 "nbformat": 4,
 "nbformat_minor": 2
}
