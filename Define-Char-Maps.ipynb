{
 "cells": [
  {
   "cell_type": "code",
   "execution_count": 1,
   "metadata": {},
   "outputs": [],
   "source": [
    "import pandas as pd\n",
    "from tqdm.notebook import tqdm"
   ]
  },
  {
   "cell_type": "code",
   "execution_count": 2,
   "metadata": {},
   "outputs": [],
   "source": [
    "characters = {}"
   ]
  },
  {
   "cell_type": "markdown",
   "metadata": {},
   "source": [
    "# 1.1 Hindi"
   ]
  },
  {
   "cell_type": "code",
   "execution_count": 3,
   "metadata": {},
   "outputs": [
    {
     "name": "stdout",
     "output_type": "stream",
     "text": [
      "33 11\n"
     ]
    }
   ],
   "source": [
    "vowel2glyph = {\n",
    "    'अ':'',\n",
    "    'आ':'ा', \n",
    "    'इ':'ि', \n",
    "    'ई':'ी',\n",
    "    'उ':'ु',\n",
    "    'ऊ':'ू',\n",
    "    'ऋ':'ृ',\n",
    "    'ए':'े',\n",
    "    'ऐ':'ै',\n",
    "    'ओ':'ो',\n",
    "    'औ':'ौ'\n",
    "}\n",
    "consonants = ['क', 'ख', 'ग', 'घ', 'ङ', 'ह', \n",
    "             'च', 'छ', 'ज', 'झ', 'ञ', 'य',\n",
    "             'श', 'ट', 'ठ', 'ड', 'ढ', 'ण',\n",
    "             'र', 'ष', 'त', 'थ', 'द', 'ध',\n",
    "             'न', 'ल', 'स', 'प', 'फ', 'ब',\n",
    "             'भ', 'म', 'व'] \n",
    "print(len(consonants), len(vowel2glyph))"
   ]
  },
  {
   "cell_type": "code",
   "execution_count": 4,
   "metadata": {},
   "outputs": [],
   "source": [
    "def generate_char_maps(vowel2glyph, consonants):\n",
    "    \n",
    "    characters_df = pd.DataFrame()\n",
    "    for vowel, glyph in vowel2glyph.items():\n",
    "        row = pd.Series(dtype='object')\n",
    "        row['Character'] = vowel\n",
    "        if glyph:\n",
    "            row['Glyph'] = glyph\n",
    "        else:\n",
    "            row['Glyph'] = \"-\"\n",
    "        row['Consonant'] = \"-\"\n",
    "        characters_df = characters_df.append(row, ignore_index=True)\n",
    "\n",
    "    for consonant in tqdm(consonants):\n",
    "        for glyph in vowel2glyph.values():\n",
    "            row = pd.Series(dtype='object')\n",
    "            row['Character'] = consonant + glyph\n",
    "            if glyph:\n",
    "                row['Glyph'] = glyph\n",
    "            else:\n",
    "                row['Glyph'] = \"-\"\n",
    "            row['Consonant'] = consonant\n",
    "            characters_df = characters_df.append(row, ignore_index=True)\n",
    "   \n",
    "    return characters_df"
   ]
  },
  {
   "cell_type": "code",
   "execution_count": 5,
   "metadata": {},
   "outputs": [
    {
     "data": {
      "application/vnd.jupyter.widget-view+json": {
       "model_id": "357462ff8c1d481e9272a89d17245e48",
       "version_major": 2,
       "version_minor": 0
      },
      "text/plain": [
       "HBox(children=(FloatProgress(value=0.0, max=33.0), HTML(value='')))"
      ]
     },
     "metadata": {},
     "output_type": "display_data"
    },
    {
     "name": "stdout",
     "output_type": "stream",
     "text": [
      "\n"
     ]
    }
   ],
   "source": [
    "characters['Hindi'] = generate_char_maps(vowel2glyph, consonants)"
   ]
  },
  {
   "cell_type": "code",
   "execution_count": 6,
   "metadata": {},
   "outputs": [
    {
     "data": {
      "text/html": [
       "<div>\n",
       "<style scoped>\n",
       "    .dataframe tbody tr th:only-of-type {\n",
       "        vertical-align: middle;\n",
       "    }\n",
       "\n",
       "    .dataframe tbody tr th {\n",
       "        vertical-align: top;\n",
       "    }\n",
       "\n",
       "    .dataframe thead th {\n",
       "        text-align: right;\n",
       "    }\n",
       "</style>\n",
       "<table border=\"1\" class=\"dataframe\">\n",
       "  <thead>\n",
       "    <tr style=\"text-align: right;\">\n",
       "      <th></th>\n",
       "      <th>Character</th>\n",
       "      <th>Consonant</th>\n",
       "      <th>Glyph</th>\n",
       "    </tr>\n",
       "  </thead>\n",
       "  <tbody>\n",
       "    <tr>\n",
       "      <th>0</th>\n",
       "      <td>अ</td>\n",
       "      <td>-</td>\n",
       "      <td>-</td>\n",
       "    </tr>\n",
       "    <tr>\n",
       "      <th>1</th>\n",
       "      <td>आ</td>\n",
       "      <td>-</td>\n",
       "      <td>ा</td>\n",
       "    </tr>\n",
       "    <tr>\n",
       "      <th>2</th>\n",
       "      <td>इ</td>\n",
       "      <td>-</td>\n",
       "      <td>ि</td>\n",
       "    </tr>\n",
       "    <tr>\n",
       "      <th>3</th>\n",
       "      <td>ई</td>\n",
       "      <td>-</td>\n",
       "      <td>ी</td>\n",
       "    </tr>\n",
       "    <tr>\n",
       "      <th>4</th>\n",
       "      <td>उ</td>\n",
       "      <td>-</td>\n",
       "      <td>ु</td>\n",
       "    </tr>\n",
       "  </tbody>\n",
       "</table>\n",
       "</div>"
      ],
      "text/plain": [
       "  Character Consonant Glyph\n",
       "0         अ         -     -\n",
       "1         आ         -     ा\n",
       "2         इ         -     ि\n",
       "3         ई         -     ी\n",
       "4         उ         -     ु"
      ]
     },
     "execution_count": 6,
     "metadata": {},
     "output_type": "execute_result"
    }
   ],
   "source": [
    "characters['Hindi'].head()"
   ]
  },
  {
   "cell_type": "code",
   "execution_count": 7,
   "metadata": {},
   "outputs": [
    {
     "data": {
      "text/html": [
       "<div>\n",
       "<style scoped>\n",
       "    .dataframe tbody tr th:only-of-type {\n",
       "        vertical-align: middle;\n",
       "    }\n",
       "\n",
       "    .dataframe tbody tr th {\n",
       "        vertical-align: top;\n",
       "    }\n",
       "\n",
       "    .dataframe thead th {\n",
       "        text-align: right;\n",
       "    }\n",
       "</style>\n",
       "<table border=\"1\" class=\"dataframe\">\n",
       "  <thead>\n",
       "    <tr style=\"text-align: right;\">\n",
       "      <th></th>\n",
       "      <th>Character</th>\n",
       "      <th>Consonant</th>\n",
       "      <th>Glyph</th>\n",
       "    </tr>\n",
       "  </thead>\n",
       "  <tbody>\n",
       "    <tr>\n",
       "      <th>count</th>\n",
       "      <td>374</td>\n",
       "      <td>374</td>\n",
       "      <td>374</td>\n",
       "    </tr>\n",
       "    <tr>\n",
       "      <th>unique</th>\n",
       "      <td>374</td>\n",
       "      <td>34</td>\n",
       "      <td>11</td>\n",
       "    </tr>\n",
       "    <tr>\n",
       "      <th>top</th>\n",
       "      <td>यु</td>\n",
       "      <td>ज</td>\n",
       "      <td>ै</td>\n",
       "    </tr>\n",
       "    <tr>\n",
       "      <th>freq</th>\n",
       "      <td>1</td>\n",
       "      <td>11</td>\n",
       "      <td>34</td>\n",
       "    </tr>\n",
       "  </tbody>\n",
       "</table>\n",
       "</div>"
      ],
      "text/plain": [
       "       Character Consonant Glyph\n",
       "count        374       374   374\n",
       "unique       374        34    11\n",
       "top           यु         ज     ै\n",
       "freq           1        11    34"
      ]
     },
     "execution_count": 7,
     "metadata": {},
     "output_type": "execute_result"
    }
   ],
   "source": [
    "characters['Hindi'].describe()"
   ]
  },
  {
   "cell_type": "code",
   "execution_count": 8,
   "metadata": {},
   "outputs": [],
   "source": [
    "#characters['Hindi'][characters['Hindi']['Consonant'] == '-']"
   ]
  },
  {
   "cell_type": "code",
   "execution_count": 9,
   "metadata": {},
   "outputs": [],
   "source": [
    "#characters['Hindi'][characters['Hindi']['Consonant'] == 'क']"
   ]
  },
  {
   "cell_type": "code",
   "execution_count": 10,
   "metadata": {},
   "outputs": [],
   "source": [
    "#characters['Hindi'][characters['Hindi']['Glyph'] == 'ा']"
   ]
  },
  {
   "cell_type": "code",
   "execution_count": 11,
   "metadata": {},
   "outputs": [],
   "source": [
    "characters['Hindi'].to_csv(\"Data/Characters/Characters-Hindi.csv\", index=False)"
   ]
  },
  {
   "cell_type": "markdown",
   "metadata": {},
   "source": [
    "# 1.2 Tamil"
   ]
  },
  {
   "cell_type": "code",
   "execution_count": 12,
   "metadata": {},
   "outputs": [
    {
     "name": "stdout",
     "output_type": "stream",
     "text": [
      "18 12\n"
     ]
    }
   ],
   "source": [
    "vowel2glyph = {\n",
    "    'அ':'',\n",
    "    'ஆ':'ா', \n",
    "    'இ':'ி', \n",
    "    'ஈ':'ீ',\n",
    "    'உ':'ு',\n",
    "    'ஊ':'ூ',\n",
    "    'எ':'ெ',\n",
    "    'ஏ':'ே',\n",
    "    'ஐ':'ை',\n",
    "    'ஒ':'ொ',\n",
    "    'ஓ':'ோ',\n",
    "    'ஔ':'ௌ'\n",
    "}\n",
    "consonants = ['க', 'ங', 'ச', 'ஞ', 'ட', 'ண',\n",
    "             'த', 'ந', 'ப', 'ம', 'ய', 'ர', \n",
    "             'ல', 'வ', 'ழ', 'ள', 'ற', 'ன'] \n",
    "print(len(consonants), len(vowel2glyph))"
   ]
  },
  {
   "cell_type": "code",
   "execution_count": 13,
   "metadata": {},
   "outputs": [],
   "source": [
    "def generate_char_maps(vowel2glyph, consonants):\n",
    "    \n",
    "    characters_df = pd.DataFrame()\n",
    "    for vowel, glyph in vowel2glyph.items():\n",
    "        row = pd.Series(dtype='object')\n",
    "        row['Character'] = vowel\n",
    "        if glyph:\n",
    "            row['Glyph'] = glyph\n",
    "        else:\n",
    "            row['Glyph'] = \"-\"\n",
    "        row['Consonant'] = \"-\"\n",
    "        characters_df = characters_df.append(row, ignore_index=True)\n",
    "        \n",
    "    for consonant in consonants:\n",
    "        row = pd.Series(dtype='object')\n",
    "        row['Character'] = consonant + \"்\"\n",
    "        row['Glyph'] = \"்\"\n",
    "        row['Consonant'] = consonant\n",
    "        characters_df = characters_df.append(row, ignore_index=True)\n",
    "\n",
    "    for consonant in tqdm(consonants):\n",
    "        for glyph in vowel2glyph.values():\n",
    "            row = pd.Series(dtype='object')\n",
    "            row['Character'] = consonant + glyph\n",
    "            if glyph:\n",
    "                row['Glyph'] = glyph\n",
    "            else:\n",
    "                row['Glyph'] = \"-\"\n",
    "            row['Consonant'] = consonant\n",
    "            characters_df = characters_df.append(row, ignore_index=True)\n",
    "            \n",
    "    row = pd.Series(dtype='object')\n",
    "    row['Character'] = \"ஃ\"\n",
    "    row['Glyph'] = \"-\"\n",
    "    row['Consonant'] = \"ஃ\"\n",
    "    characters_df = characters_df.append(row, ignore_index=True)\n",
    "   \n",
    "    return characters_df"
   ]
  },
  {
   "cell_type": "code",
   "execution_count": 14,
   "metadata": {},
   "outputs": [
    {
     "data": {
      "application/vnd.jupyter.widget-view+json": {
       "model_id": "2f95209d12f04ebdb040be539a9cdaf4",
       "version_major": 2,
       "version_minor": 0
      },
      "text/plain": [
       "HBox(children=(FloatProgress(value=0.0, max=18.0), HTML(value='')))"
      ]
     },
     "metadata": {},
     "output_type": "display_data"
    },
    {
     "name": "stdout",
     "output_type": "stream",
     "text": [
      "\n"
     ]
    }
   ],
   "source": [
    "characters['Tamil'] = generate_char_maps(vowel2glyph, consonants)"
   ]
  },
  {
   "cell_type": "code",
   "execution_count": 15,
   "metadata": {},
   "outputs": [
    {
     "data": {
      "text/html": [
       "<div>\n",
       "<style scoped>\n",
       "    .dataframe tbody tr th:only-of-type {\n",
       "        vertical-align: middle;\n",
       "    }\n",
       "\n",
       "    .dataframe tbody tr th {\n",
       "        vertical-align: top;\n",
       "    }\n",
       "\n",
       "    .dataframe thead th {\n",
       "        text-align: right;\n",
       "    }\n",
       "</style>\n",
       "<table border=\"1\" class=\"dataframe\">\n",
       "  <thead>\n",
       "    <tr style=\"text-align: right;\">\n",
       "      <th></th>\n",
       "      <th>Character</th>\n",
       "      <th>Consonant</th>\n",
       "      <th>Glyph</th>\n",
       "    </tr>\n",
       "  </thead>\n",
       "  <tbody>\n",
       "    <tr>\n",
       "      <th>0</th>\n",
       "      <td>அ</td>\n",
       "      <td>-</td>\n",
       "      <td>-</td>\n",
       "    </tr>\n",
       "    <tr>\n",
       "      <th>1</th>\n",
       "      <td>ஆ</td>\n",
       "      <td>-</td>\n",
       "      <td>ா</td>\n",
       "    </tr>\n",
       "    <tr>\n",
       "      <th>2</th>\n",
       "      <td>இ</td>\n",
       "      <td>-</td>\n",
       "      <td>ி</td>\n",
       "    </tr>\n",
       "    <tr>\n",
       "      <th>3</th>\n",
       "      <td>ஈ</td>\n",
       "      <td>-</td>\n",
       "      <td>ீ</td>\n",
       "    </tr>\n",
       "    <tr>\n",
       "      <th>4</th>\n",
       "      <td>உ</td>\n",
       "      <td>-</td>\n",
       "      <td>ு</td>\n",
       "    </tr>\n",
       "  </tbody>\n",
       "</table>\n",
       "</div>"
      ],
      "text/plain": [
       "  Character Consonant Glyph\n",
       "0         அ         -     -\n",
       "1         ஆ         -     ா\n",
       "2         இ         -     ி\n",
       "3         ஈ         -     ீ\n",
       "4         உ         -     ு"
      ]
     },
     "execution_count": 15,
     "metadata": {},
     "output_type": "execute_result"
    }
   ],
   "source": [
    "characters['Tamil'].head()"
   ]
  },
  {
   "cell_type": "code",
   "execution_count": 16,
   "metadata": {},
   "outputs": [
    {
     "data": {
      "text/html": [
       "<div>\n",
       "<style scoped>\n",
       "    .dataframe tbody tr th:only-of-type {\n",
       "        vertical-align: middle;\n",
       "    }\n",
       "\n",
       "    .dataframe tbody tr th {\n",
       "        vertical-align: top;\n",
       "    }\n",
       "\n",
       "    .dataframe thead th {\n",
       "        text-align: right;\n",
       "    }\n",
       "</style>\n",
       "<table border=\"1\" class=\"dataframe\">\n",
       "  <thead>\n",
       "    <tr style=\"text-align: right;\">\n",
       "      <th></th>\n",
       "      <th>Character</th>\n",
       "      <th>Consonant</th>\n",
       "      <th>Glyph</th>\n",
       "    </tr>\n",
       "  </thead>\n",
       "  <tbody>\n",
       "    <tr>\n",
       "      <th>count</th>\n",
       "      <td>247</td>\n",
       "      <td>247</td>\n",
       "      <td>247</td>\n",
       "    </tr>\n",
       "    <tr>\n",
       "      <th>unique</th>\n",
       "      <td>247</td>\n",
       "      <td>20</td>\n",
       "      <td>13</td>\n",
       "    </tr>\n",
       "    <tr>\n",
       "      <th>top</th>\n",
       "      <td>ம்</td>\n",
       "      <td>ச</td>\n",
       "      <td>-</td>\n",
       "    </tr>\n",
       "    <tr>\n",
       "      <th>freq</th>\n",
       "      <td>1</td>\n",
       "      <td>13</td>\n",
       "      <td>20</td>\n",
       "    </tr>\n",
       "  </tbody>\n",
       "</table>\n",
       "</div>"
      ],
      "text/plain": [
       "       Character Consonant Glyph\n",
       "count        247       247   247\n",
       "unique       247        20    13\n",
       "top           ம்         ச     -\n",
       "freq           1        13    20"
      ]
     },
     "execution_count": 16,
     "metadata": {},
     "output_type": "execute_result"
    }
   ],
   "source": [
    "characters['Tamil'].describe()"
   ]
  },
  {
   "cell_type": "code",
   "execution_count": 17,
   "metadata": {},
   "outputs": [],
   "source": [
    "#characters['Tamil'][characters['Tamil']['Consonant'] == 'க']"
   ]
  },
  {
   "cell_type": "code",
   "execution_count": 18,
   "metadata": {},
   "outputs": [],
   "source": [
    "#characters['Tamil'][characters['Tamil']['Glyph'] == '-']"
   ]
  },
  {
   "cell_type": "code",
   "execution_count": 19,
   "metadata": {},
   "outputs": [],
   "source": [
    "characters['Tamil'].to_csv(\"Data/Characters/Characters-Tamil.csv\", index=False)"
   ]
  },
  {
   "cell_type": "markdown",
   "metadata": {},
   "source": [
    "# 1.3 Malayalam"
   ]
  },
  {
   "cell_type": "code",
   "execution_count": 20,
   "metadata": {},
   "outputs": [
    {
     "name": "stdout",
     "output_type": "stream",
     "text": [
      "14 4 36 6\n"
     ]
    }
   ],
   "source": [
    "vowel2glyph = {\n",
    "    'അ':'',\n",
    "    'ആ':'ാ',\n",
    "    'ഇ':'ി',\n",
    "    'ഈ':'ീ',\n",
    "    'ഉ':'ു',\n",
    "    'ഊ':'ൂ',\n",
    "    'ഋ':'ൃ',\n",
    "    'ഌ':'ൢ',\n",
    "    'എ':'െ',\n",
    "    'ഏ':'േ',\n",
    "    'ഐ':'ൈ',\n",
    "    'ഒ':'ൊ',\n",
    "    'ഓ':'ോ',\n",
    "    'ഔ':'ൌ'\n",
    "}\n",
    "isolated_glyphs = ['്', 'ഀ', 'ഁ', 'ഃ']\n",
    "consonants = ['ക', 'ഖ', 'ഗ', 'ഘ', 'ങ', 'ച', \n",
    "              'ഛ', 'ജ', 'ഝ', 'ഞ', 'ട', 'ഠ',\n",
    "              'ഡ', 'ഢ', 'ണ', 'ത', 'ഥ', 'ദ',\n",
    "              'ധ', 'ന', 'പ', 'ഫ', 'ബ', 'ഭ',\n",
    "              'മ', 'യ', 'ര', 'റ', 'ല', 'ള', \n",
    "              'ഴ', 'വ', 'ശ', 'ഷ', 'സ','ഹ']\n",
    "isolated_consonants = ['ൺ', 'ൻ', 'ർ', 'ൽ', 'ൾ', 'ൿ']\n",
    "print(len(vowel2glyph), len(isolated_glyphs), len(consonants), len(isolated_consonants))"
   ]
  },
  {
   "cell_type": "code",
   "execution_count": 21,
   "metadata": {},
   "outputs": [],
   "source": [
    "def generate_char_maps(vowel2glyph, isolated_glyphs, consonants, isolated_consonants):\n",
    "    \n",
    "    characters_df = pd.DataFrame()\n",
    "    for vowel, glyph in vowel2glyph.items():\n",
    "        row = pd.Series(dtype='object')\n",
    "        row['Character'] = vowel\n",
    "        if glyph:\n",
    "            row['Glyph'] = glyph\n",
    "        else:\n",
    "            row['Glyph'] = \"-\"\n",
    "        row['Consonant'] = \"-\"\n",
    "        characters_df = characters_df.append(row, ignore_index=True)\n",
    "        \n",
    "    for isolated_glyph in isolated_glyphs:\n",
    "        for consonant in consonants:\n",
    "            row = pd.Series(dtype='object')\n",
    "            row['Character'] = consonant + isolated_glyph\n",
    "            row['Glyph'] = isolated_glyph\n",
    "            row['Consonant'] = consonant\n",
    "            characters_df = characters_df.append(row, ignore_index=True)\n",
    "\n",
    "    for consonant in tqdm(consonants):\n",
    "        for glyph in vowel2glyph.values():\n",
    "            row = pd.Series(dtype='object')\n",
    "            row['Character'] = consonant + glyph\n",
    "            if glyph:\n",
    "                row['Glyph'] = glyph\n",
    "            else:\n",
    "                row['Glyph'] = \"-\"\n",
    "            row['Consonant'] = consonant\n",
    "            characters_df = characters_df.append(row, ignore_index=True)\n",
    "    \n",
    "    for isolated_consonant in isolated_consonants:\n",
    "        row = pd.Series(dtype='object')\n",
    "        row['Character'] = isolated_consonant\n",
    "        row['Glyph'] = \"-\"\n",
    "        row['Consonant'] = isolated_consonant\n",
    "        characters_df = characters_df.append(row, ignore_index=True)\n",
    "            \n",
    "   \n",
    "    return characters_df"
   ]
  },
  {
   "cell_type": "code",
   "execution_count": 22,
   "metadata": {},
   "outputs": [
    {
     "data": {
      "application/vnd.jupyter.widget-view+json": {
       "model_id": "c7e8bbe242484ee99c0461ce58845045",
       "version_major": 2,
       "version_minor": 0
      },
      "text/plain": [
       "HBox(children=(FloatProgress(value=0.0, max=36.0), HTML(value='')))"
      ]
     },
     "metadata": {},
     "output_type": "display_data"
    },
    {
     "name": "stdout",
     "output_type": "stream",
     "text": [
      "\n"
     ]
    }
   ],
   "source": [
    "characters['Malayalam'] = generate_char_maps(vowel2glyph, isolated_glyphs, consonants, isolated_consonants)"
   ]
  },
  {
   "cell_type": "code",
   "execution_count": 23,
   "metadata": {},
   "outputs": [
    {
     "data": {
      "text/html": [
       "<div>\n",
       "<style scoped>\n",
       "    .dataframe tbody tr th:only-of-type {\n",
       "        vertical-align: middle;\n",
       "    }\n",
       "\n",
       "    .dataframe tbody tr th {\n",
       "        vertical-align: top;\n",
       "    }\n",
       "\n",
       "    .dataframe thead th {\n",
       "        text-align: right;\n",
       "    }\n",
       "</style>\n",
       "<table border=\"1\" class=\"dataframe\">\n",
       "  <thead>\n",
       "    <tr style=\"text-align: right;\">\n",
       "      <th></th>\n",
       "      <th>Character</th>\n",
       "      <th>Consonant</th>\n",
       "      <th>Glyph</th>\n",
       "    </tr>\n",
       "  </thead>\n",
       "  <tbody>\n",
       "    <tr>\n",
       "      <th>count</th>\n",
       "      <td>668</td>\n",
       "      <td>668</td>\n",
       "      <td>668</td>\n",
       "    </tr>\n",
       "    <tr>\n",
       "      <th>unique</th>\n",
       "      <td>668</td>\n",
       "      <td>43</td>\n",
       "      <td>18</td>\n",
       "    </tr>\n",
       "    <tr>\n",
       "      <th>top</th>\n",
       "      <td>ഫൌ</td>\n",
       "      <td>ഖ</td>\n",
       "      <td>-</td>\n",
       "    </tr>\n",
       "    <tr>\n",
       "      <th>freq</th>\n",
       "      <td>1</td>\n",
       "      <td>18</td>\n",
       "      <td>43</td>\n",
       "    </tr>\n",
       "  </tbody>\n",
       "</table>\n",
       "</div>"
      ],
      "text/plain": [
       "       Character Consonant Glyph\n",
       "count        668       668   668\n",
       "unique       668        43    18\n",
       "top           ഫൌ         ഖ     -\n",
       "freq           1        18    43"
      ]
     },
     "execution_count": 23,
     "metadata": {},
     "output_type": "execute_result"
    }
   ],
   "source": [
    "characters['Malayalam'].describe()"
   ]
  },
  {
   "cell_type": "code",
   "execution_count": 24,
   "metadata": {},
   "outputs": [],
   "source": [
    "#characters['Malayalam'][characters['Malayalam']['Consonant'] == 'ക']"
   ]
  },
  {
   "cell_type": "code",
   "execution_count": 25,
   "metadata": {},
   "outputs": [],
   "source": [
    "#characters['Malayalam'][characters['Malayalam']['Glyph'] == '-']"
   ]
  },
  {
   "cell_type": "code",
   "execution_count": 26,
   "metadata": {},
   "outputs": [],
   "source": [
    "characters['Malayalam'].to_csv(\"Data/Characters/Characters-Malayalam.csv\", index=False)"
   ]
  },
  {
   "cell_type": "markdown",
   "metadata": {},
   "source": [
    "# 1.4 Telugu"
   ]
  },
  {
   "cell_type": "code",
   "execution_count": 27,
   "metadata": {},
   "outputs": [
    {
     "name": "stdout",
     "output_type": "stream",
     "text": [
      "36 14 1\n"
     ]
    }
   ],
   "source": [
    "vowel2glyph = {\n",
    "    'అ':'',\n",
    "    'ఆ':'ా',\n",
    "    'ఇ':'ి',\n",
    "    'ఈ':'ీ',\n",
    "    'ఉ':'ు',\n",
    "    'ఊ':'ూ',\n",
    "    'ఋ':'ృ',\n",
    "    'ఌ':'ౢ',\n",
    "    'ఎ':'ె',\n",
    "    'ఏ':'ే',\n",
    "    'ఐ':'ై',\n",
    "    'ఒ':'ొ',\n",
    "    'ఓ':'ో',\n",
    "    'ఔ':'ౌ'\n",
    "}\n",
    "isolated_glyphs = ['్']\n",
    "consonants = ['క','ఖ','గ','ఘ','ఙ','చ',\n",
    "              'ఛ','జ','ఝ','ఞ','ట','ఠ',\n",
    "              'డ','ఢ','ణ','త','థ','ద',\n",
    "              'ధ','న','ప','ఫ','బ','భ',\n",
    "              'మ','య','ర','ఱ', 'ల', 'ళ',\n",
    "              'ఴ', 'వ', 'శ', 'ష', 'స', 'హ'] \n",
    "print(len(consonants), len(vowel2glyph), len(isolated_glyphs))"
   ]
  },
  {
   "cell_type": "code",
   "execution_count": 28,
   "metadata": {},
   "outputs": [],
   "source": [
    "def generate_char_maps(vowel2glyph, isolated_glyphs, consonants):\n",
    "    \n",
    "    characters_df = pd.DataFrame()\n",
    "    for vowel, glyph in vowel2glyph.items():\n",
    "        row = pd.Series(dtype='object')\n",
    "        row['Character'] = vowel\n",
    "        if glyph:\n",
    "            row['Glyph'] = glyph\n",
    "        else:\n",
    "            row['Glyph'] = \"-\"\n",
    "        row['Consonant'] = \"-\"\n",
    "        characters_df = characters_df.append(row, ignore_index=True)\n",
    "        \n",
    "    for isolated_glyph in isolated_glyphs:\n",
    "        for consonant in consonants:\n",
    "            row = pd.Series(dtype='object')\n",
    "            row['Character'] = consonant + isolated_glyph\n",
    "            row['Glyph'] = isolated_glyph\n",
    "            row['Consonant'] = consonant\n",
    "            characters_df = characters_df.append(row, ignore_index=True)\n",
    "\n",
    "    for consonant in tqdm(consonants):\n",
    "        for glyph in vowel2glyph.values():\n",
    "            row = pd.Series(dtype='object')\n",
    "            row['Character'] = consonant + glyph\n",
    "            if glyph:\n",
    "                row['Glyph'] = glyph\n",
    "            else:\n",
    "                row['Glyph'] = \"-\"\n",
    "            row['Consonant'] = consonant\n",
    "            characters_df = characters_df.append(row, ignore_index=True)\n",
    "            \n",
    "   \n",
    "    return characters_df"
   ]
  },
  {
   "cell_type": "code",
   "execution_count": 29,
   "metadata": {},
   "outputs": [
    {
     "data": {
      "application/vnd.jupyter.widget-view+json": {
       "model_id": "51dbe137d3234ef0824e123596452f2b",
       "version_major": 2,
       "version_minor": 0
      },
      "text/plain": [
       "HBox(children=(FloatProgress(value=0.0, max=36.0), HTML(value='')))"
      ]
     },
     "metadata": {},
     "output_type": "display_data"
    },
    {
     "name": "stdout",
     "output_type": "stream",
     "text": [
      "\n"
     ]
    }
   ],
   "source": [
    "characters['Telugu'] = generate_char_maps(vowel2glyph, isolated_glyphs, consonants)"
   ]
  },
  {
   "cell_type": "code",
   "execution_count": 30,
   "metadata": {},
   "outputs": [
    {
     "data": {
      "text/html": [
       "<div>\n",
       "<style scoped>\n",
       "    .dataframe tbody tr th:only-of-type {\n",
       "        vertical-align: middle;\n",
       "    }\n",
       "\n",
       "    .dataframe tbody tr th {\n",
       "        vertical-align: top;\n",
       "    }\n",
       "\n",
       "    .dataframe thead th {\n",
       "        text-align: right;\n",
       "    }\n",
       "</style>\n",
       "<table border=\"1\" class=\"dataframe\">\n",
       "  <thead>\n",
       "    <tr style=\"text-align: right;\">\n",
       "      <th></th>\n",
       "      <th>Character</th>\n",
       "      <th>Consonant</th>\n",
       "      <th>Glyph</th>\n",
       "    </tr>\n",
       "  </thead>\n",
       "  <tbody>\n",
       "    <tr>\n",
       "      <th>count</th>\n",
       "      <td>554</td>\n",
       "      <td>554</td>\n",
       "      <td>554</td>\n",
       "    </tr>\n",
       "    <tr>\n",
       "      <th>unique</th>\n",
       "      <td>554</td>\n",
       "      <td>37</td>\n",
       "      <td>15</td>\n",
       "    </tr>\n",
       "    <tr>\n",
       "      <th>top</th>\n",
       "      <td>డౢ</td>\n",
       "      <td>ణ</td>\n",
       "      <td>ా</td>\n",
       "    </tr>\n",
       "    <tr>\n",
       "      <th>freq</th>\n",
       "      <td>1</td>\n",
       "      <td>15</td>\n",
       "      <td>37</td>\n",
       "    </tr>\n",
       "  </tbody>\n",
       "</table>\n",
       "</div>"
      ],
      "text/plain": [
       "       Character Consonant Glyph\n",
       "count        554       554   554\n",
       "unique       554        37    15\n",
       "top           డౢ         ణ     ా\n",
       "freq           1        15    37"
      ]
     },
     "execution_count": 30,
     "metadata": {},
     "output_type": "execute_result"
    }
   ],
   "source": [
    "characters['Telugu'].describe()"
   ]
  },
  {
   "cell_type": "code",
   "execution_count": 31,
   "metadata": {},
   "outputs": [
    {
     "data": {
      "text/html": [
       "<div>\n",
       "<style scoped>\n",
       "    .dataframe tbody tr th:only-of-type {\n",
       "        vertical-align: middle;\n",
       "    }\n",
       "\n",
       "    .dataframe tbody tr th {\n",
       "        vertical-align: top;\n",
       "    }\n",
       "\n",
       "    .dataframe thead th {\n",
       "        text-align: right;\n",
       "    }\n",
       "</style>\n",
       "<table border=\"1\" class=\"dataframe\">\n",
       "  <thead>\n",
       "    <tr style=\"text-align: right;\">\n",
       "      <th></th>\n",
       "      <th>Character</th>\n",
       "      <th>Consonant</th>\n",
       "      <th>Glyph</th>\n",
       "    </tr>\n",
       "  </thead>\n",
       "  <tbody>\n",
       "    <tr>\n",
       "      <th>44</th>\n",
       "      <td>ఴ్</td>\n",
       "      <td>ఴ</td>\n",
       "      <td>్</td>\n",
       "    </tr>\n",
       "    <tr>\n",
       "      <th>470</th>\n",
       "      <td>ఴ</td>\n",
       "      <td>ఴ</td>\n",
       "      <td>-</td>\n",
       "    </tr>\n",
       "    <tr>\n",
       "      <th>471</th>\n",
       "      <td>ఴా</td>\n",
       "      <td>ఴ</td>\n",
       "      <td>ా</td>\n",
       "    </tr>\n",
       "    <tr>\n",
       "      <th>472</th>\n",
       "      <td>ఴి</td>\n",
       "      <td>ఴ</td>\n",
       "      <td>ి</td>\n",
       "    </tr>\n",
       "    <tr>\n",
       "      <th>473</th>\n",
       "      <td>ఴీ</td>\n",
       "      <td>ఴ</td>\n",
       "      <td>ీ</td>\n",
       "    </tr>\n",
       "    <tr>\n",
       "      <th>474</th>\n",
       "      <td>ఴు</td>\n",
       "      <td>ఴ</td>\n",
       "      <td>ు</td>\n",
       "    </tr>\n",
       "    <tr>\n",
       "      <th>475</th>\n",
       "      <td>ఴూ</td>\n",
       "      <td>ఴ</td>\n",
       "      <td>ూ</td>\n",
       "    </tr>\n",
       "    <tr>\n",
       "      <th>476</th>\n",
       "      <td>ఴృ</td>\n",
       "      <td>ఴ</td>\n",
       "      <td>ృ</td>\n",
       "    </tr>\n",
       "    <tr>\n",
       "      <th>477</th>\n",
       "      <td>ఴౢ</td>\n",
       "      <td>ఴ</td>\n",
       "      <td>ౢ</td>\n",
       "    </tr>\n",
       "    <tr>\n",
       "      <th>478</th>\n",
       "      <td>ఴె</td>\n",
       "      <td>ఴ</td>\n",
       "      <td>ె</td>\n",
       "    </tr>\n",
       "    <tr>\n",
       "      <th>479</th>\n",
       "      <td>ఴే</td>\n",
       "      <td>ఴ</td>\n",
       "      <td>ే</td>\n",
       "    </tr>\n",
       "    <tr>\n",
       "      <th>480</th>\n",
       "      <td>ఴై</td>\n",
       "      <td>ఴ</td>\n",
       "      <td>ై</td>\n",
       "    </tr>\n",
       "    <tr>\n",
       "      <th>481</th>\n",
       "      <td>ఴొ</td>\n",
       "      <td>ఴ</td>\n",
       "      <td>ొ</td>\n",
       "    </tr>\n",
       "    <tr>\n",
       "      <th>482</th>\n",
       "      <td>ఴో</td>\n",
       "      <td>ఴ</td>\n",
       "      <td>ో</td>\n",
       "    </tr>\n",
       "    <tr>\n",
       "      <th>483</th>\n",
       "      <td>ఴౌ</td>\n",
       "      <td>ఴ</td>\n",
       "      <td>ౌ</td>\n",
       "    </tr>\n",
       "  </tbody>\n",
       "</table>\n",
       "</div>"
      ],
      "text/plain": [
       "    Character Consonant Glyph\n",
       "44         ఴ్         ఴ     ్\n",
       "470         ఴ         ఴ     -\n",
       "471        ఴా         ఴ     ా\n",
       "472        ఴి         ఴ     ి\n",
       "473        ఴీ         ఴ     ీ\n",
       "474        ఴు         ఴ     ు\n",
       "475        ఴూ         ఴ     ూ\n",
       "476        ఴృ         ఴ     ృ\n",
       "477        ఴౢ         ఴ     ౢ\n",
       "478        ఴె         ఴ     ె\n",
       "479        ఴే         ఴ     ే\n",
       "480        ఴై         ఴ     ై\n",
       "481        ఴొ         ఴ     ొ\n",
       "482        ఴో         ఴ     ో\n",
       "483        ఴౌ         ఴ     ౌ"
      ]
     },
     "execution_count": 31,
     "metadata": {},
     "output_type": "execute_result"
    }
   ],
   "source": [
    "characters['Telugu'][characters['Telugu']['Consonant'] == 'ఴ']"
   ]
  },
  {
   "cell_type": "code",
   "execution_count": 32,
   "metadata": {},
   "outputs": [],
   "source": [
    "#characters['v'][characters['Telugu']['Glyph'] == '-']"
   ]
  },
  {
   "cell_type": "code",
   "execution_count": 33,
   "metadata": {},
   "outputs": [],
   "source": [
    "characters['Telugu'].to_csv(\"Data/Characters/Characters-Telugu.csv\", index=False)"
   ]
  },
  {
   "cell_type": "markdown",
   "metadata": {},
   "source": [
    "# 1.5 Punjabi"
   ]
  },
  {
   "cell_type": "code",
   "execution_count": 34,
   "metadata": {},
   "outputs": [
    {
     "name": "stdout",
     "output_type": "stream",
     "text": [
      "10 8 38 2\n"
     ]
    }
   ],
   "source": [
    "vowel2glyph = {\n",
    "    'ਅ':'',\n",
    "    'ਆ':'ਾ',\n",
    "    'ਇ':'ਿ',\n",
    "    'ਈ':'ੀ',\n",
    "    'ਉ':'ੁ',\n",
    "    'ਊ':'ੂ',\n",
    "    'ਏ':'ੇ',\n",
    "    'ਐ':'ੈ',\n",
    "    'ਓ':'ੋ',\n",
    "    'ਔ':'ੌ'\n",
    "}\n",
    "isolated_glyphs = ['੍', 'ੑ', 'ਁ', 'ਁ', 'ਃ', '਼', 'ੰ', 'ੱ']\n",
    "consonants = ['ਕ', 'ਖ', 'ਗ', 'ਘ', 'ਙ', 'ਚ',\n",
    "              'ਛ', 'ਜ', 'ਝ', 'ਞ', 'ਟ', 'ਠ', \n",
    "              'ਡ', 'ਢ', 'ਣ', 'ਤ', 'ਥ', 'ਦ', \n",
    "              'ਧ', 'ਨ', 'ਪ', 'ਫ', 'ਬ', 'ਭ', \n",
    "              'ਮ', 'ਯ', 'ਰ', 'ਲ', 'ਲ਼', 'ਵ', \n",
    "              'ਸ਼', 'ਸ', 'ਹ', \n",
    "              'ਖ਼', 'ਗ਼', 'ਜ਼', 'ੜ', 'ਫ਼'] \n",
    "isolated_consonants = ['ੲ', 'ੳ']\n",
    "print(len(vowel2glyph), len(isolated_glyphs), len(consonants), len(isolated_consonants))"
   ]
  },
  {
   "cell_type": "code",
   "execution_count": 35,
   "metadata": {},
   "outputs": [],
   "source": [
    "def generate_char_maps(vowel2glyph, isolated_glyphs, consonants, isolated_consonants):\n",
    "    \n",
    "    characters_df = pd.DataFrame()\n",
    "    for vowel, glyph in vowel2glyph.items():\n",
    "        row = pd.Series(dtype='object')\n",
    "        row['Character'] = vowel\n",
    "        if glyph:\n",
    "            row['Glyph'] = glyph\n",
    "        else:\n",
    "            row['Glyph'] = \"-\"\n",
    "        row['Consonant'] = \"-\"\n",
    "        characters_df = characters_df.append(row, ignore_index=True)\n",
    "        \n",
    "    for isolated_glyph in isolated_glyphs:\n",
    "        for consonant in consonants:\n",
    "            row = pd.Series(dtype='object')\n",
    "            row['Character'] = consonant + isolated_glyph\n",
    "            row['Glyph'] = isolated_glyph\n",
    "            row['Consonant'] = consonant\n",
    "            characters_df = characters_df.append(row, ignore_index=True)\n",
    "\n",
    "    for consonant in tqdm(consonants):\n",
    "        for glyph in vowel2glyph.values():\n",
    "            row = pd.Series(dtype='object')\n",
    "            row['Character'] = consonant + glyph\n",
    "            if glyph:\n",
    "                row['Glyph'] = glyph\n",
    "            else:\n",
    "                row['Glyph'] = \"-\"\n",
    "            row['Consonant'] = consonant\n",
    "            characters_df = characters_df.append(row, ignore_index=True)\n",
    "            \n",
    "    for isolated_consonant in isolated_consonants:\n",
    "        row = pd.Series(dtype='object')\n",
    "        row['Character'] = isolated_consonant\n",
    "        row['Glyph'] = \"-\"\n",
    "        row['Consonant'] = isolated_consonant\n",
    "        characters_df = characters_df.append(row, ignore_index=True)\n",
    "            \n",
    "    return characters_df"
   ]
  },
  {
   "cell_type": "code",
   "execution_count": 36,
   "metadata": {},
   "outputs": [
    {
     "data": {
      "application/vnd.jupyter.widget-view+json": {
       "model_id": "0a6f9b9e6f9d4957af71ab733766cb8c",
       "version_major": 2,
       "version_minor": 0
      },
      "text/plain": [
       "HBox(children=(FloatProgress(value=0.0, max=38.0), HTML(value='')))"
      ]
     },
     "metadata": {},
     "output_type": "display_data"
    },
    {
     "name": "stdout",
     "output_type": "stream",
     "text": [
      "\n"
     ]
    }
   ],
   "source": [
    "characters['Punjabi'] = generate_char_maps(vowel2glyph, isolated_glyphs, consonants, isolated_consonants)"
   ]
  },
  {
   "cell_type": "code",
   "execution_count": 37,
   "metadata": {},
   "outputs": [
    {
     "data": {
      "text/html": [
       "<div>\n",
       "<style scoped>\n",
       "    .dataframe tbody tr th:only-of-type {\n",
       "        vertical-align: middle;\n",
       "    }\n",
       "\n",
       "    .dataframe tbody tr th {\n",
       "        vertical-align: top;\n",
       "    }\n",
       "\n",
       "    .dataframe thead th {\n",
       "        text-align: right;\n",
       "    }\n",
       "</style>\n",
       "<table border=\"1\" class=\"dataframe\">\n",
       "  <thead>\n",
       "    <tr style=\"text-align: right;\">\n",
       "      <th></th>\n",
       "      <th>Character</th>\n",
       "      <th>Consonant</th>\n",
       "      <th>Glyph</th>\n",
       "    </tr>\n",
       "  </thead>\n",
       "  <tbody>\n",
       "    <tr>\n",
       "      <th>count</th>\n",
       "      <td>696</td>\n",
       "      <td>696</td>\n",
       "      <td>696</td>\n",
       "    </tr>\n",
       "    <tr>\n",
       "      <th>unique</th>\n",
       "      <td>658</td>\n",
       "      <td>41</td>\n",
       "      <td>17</td>\n",
       "    </tr>\n",
       "    <tr>\n",
       "      <th>top</th>\n",
       "      <td>ਨਁ</td>\n",
       "      <td>ਖ਼</td>\n",
       "      <td>ਁ</td>\n",
       "    </tr>\n",
       "    <tr>\n",
       "      <th>freq</th>\n",
       "      <td>2</td>\n",
       "      <td>18</td>\n",
       "      <td>76</td>\n",
       "    </tr>\n",
       "  </tbody>\n",
       "</table>\n",
       "</div>"
      ],
      "text/plain": [
       "       Character Consonant Glyph\n",
       "count        696       696   696\n",
       "unique       658        41    17\n",
       "top           ਨਁ         ਖ਼     ਁ\n",
       "freq           2        18    76"
      ]
     },
     "execution_count": 37,
     "metadata": {},
     "output_type": "execute_result"
    }
   ],
   "source": [
    "characters['Punjabi'].describe()"
   ]
  },
  {
   "cell_type": "code",
   "execution_count": 38,
   "metadata": {},
   "outputs": [],
   "source": [
    "#characters['Punjabi'][characters['Punjabi']['Consonant'] == 'ਕ']"
   ]
  },
  {
   "cell_type": "code",
   "execution_count": 39,
   "metadata": {},
   "outputs": [],
   "source": [
    "#characters['v'][characters['Punjabi']['Glyph'] == '-']"
   ]
  },
  {
   "cell_type": "code",
   "execution_count": 40,
   "metadata": {},
   "outputs": [],
   "source": [
    "characters['Punjabi'].to_csv(\"Data/Characters/Characters-Punjabi.csv\", index=False)"
   ]
  },
  {
   "cell_type": "code",
   "execution_count": null,
   "metadata": {},
   "outputs": [],
   "source": []
  }
 ],
 "metadata": {
  "kernelspec": {
   "display_name": "Python 3",
   "language": "python",
   "name": "python3"
  },
  "language_info": {
   "codemirror_mode": {
    "name": "ipython",
    "version": 3
   },
   "file_extension": ".py",
   "mimetype": "text/x-python",
   "name": "python",
   "nbconvert_exporter": "python",
   "pygments_lexer": "ipython3",
   "version": "3.8.2"
  }
 },
 "nbformat": 4,
 "nbformat_minor": 4
}
